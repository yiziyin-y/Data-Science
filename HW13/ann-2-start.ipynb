{
 "cells": [
  {
   "cell_type": "markdown",
   "metadata": {},
   "source": [
    "<div style=\"text-align: right\">INFO 6105 Data Science Eng Methods and Tools, Lecture 13 Day 2</div>\n",
    "<div style=\"text-align: right\">Dino Konstantopoulos, 8 April 2020</div>\n",
    "\n",
    "# Building ANNs with Conx\n",
    "\n",
    "In our last class we developed our own Artifical Neural Network (ANN), using feedfoward and backpropagation. There was a little bit of math involved. Thankfully, there are libraries to help with the math. Let's learn about a nice simple small one: `conx`.\n",
    "\n",
    "We're going to leverage `Conx` to build discriminative neural networks, learn correlations, and predict dependent variables."
   ]
  },
  {
   "cell_type": "markdown",
   "metadata": {},
   "source": [
    "We first do a `pip install conx` on an anaconda terminal. If you can't, do a `!pip install conx` in this notebook."
   ]
  },
  {
   "cell_type": "code",
   "execution_count": 1,
   "metadata": {},
   "outputs": [
    {
     "name": "stderr",
     "output_type": "stream",
     "text": [
      "Using TensorFlow backend.\n",
      "ConX, version 3.7.10\n"
     ]
    }
   ],
   "source": [
    "import conx as cx"
   ]
  },
  {
   "cell_type": "markdown",
   "metadata": {},
   "source": [
    "Just like `PyMC3`, it has a `Theano` dependency. \n",
    "\n",
    "`Conx` has some classical built-in datasets that you can directly leverage for training:"
   ]
  },
  {
   "cell_type": "code",
   "execution_count": 2,
   "metadata": {},
   "outputs": [
    {
     "data": {
      "text/plain": [
       "['cifar10',\n",
       " 'cifar100',\n",
       " 'cmu_faces_full_size',\n",
       " 'cmu_faces_half_size',\n",
       " 'cmu_faces_quarter_size',\n",
       " 'colors',\n",
       " 'figure_ground_a',\n",
       " 'fingers',\n",
       " 'gridfonts',\n",
       " 'mnist',\n",
       " 'mnist_h5']"
      ]
     },
     "execution_count": 2,
     "metadata": {},
     "output_type": "execute_result"
    }
   ],
   "source": [
    "cx.Dataset.datasets()"
   ]
  },
  {
   "cell_type": "markdown",
   "metadata": {},
   "source": [
    "**Do not** try the below, it will take too long: 10 minutes or so to download the dataset (I know, I *tried*). Try it at home, if you want."
   ]
  },
  {
   "cell_type": "code",
   "execution_count": 3,
   "metadata": {},
   "outputs": [
    {
     "data": {
      "text/markdown": [
       "**Dataset**: Unnamed Dataset\n",
       "\n",
       "**Information**:\n",
       "   * name    : None\n",
       "   * length  : 70000\n",
       "\n",
       "**Input Summary**:\n",
       "   * shape  : (28, 28, 1)\n",
       "   * range  : (0.0, 1.0)\n",
       "\n",
       "**Target Summary**:\n",
       "   * shape  : (10,)\n",
       "   * range  : (0, 1)\n",
       "\n"
      ],
      "text/plain": [
       "**Dataset**: Unnamed Dataset\n",
       "\n",
       "**Information**:\n",
       "   * name    : None\n",
       "   * length  : 70000\n",
       "\n",
       "**Input Summary**:\n",
       "   * shape  : (28, 28, 1)\n",
       "   * range  : (0.0, 1.0)\n",
       "\n",
       "**Target Summary**:\n",
       "   * shape  : (10,)\n",
       "   * range  : (0, 1)\n"
      ]
     },
     "execution_count": 3,
     "metadata": {},
     "output_type": "execute_result"
    }
   ],
   "source": [
    "ds = cx.Dataset.get('mnist')\n",
    "ds"
   ]
  },
  {
   "cell_type": "markdown",
   "metadata": {},
   "source": [
    "## R2D2 on two legs\n",
    "\n",
    "<br />\n",
    "<center>\n",
    "<img src=\"ipynb.images/r2d22.png\" width=300 />\n",
    "</center>\n",
    "\n",
    "Did you know R2D2 can raise one of its legs and actually walk on two legs?\n",
    "\n",
    "Notice the shape of our data below: Inputs are clearly separated from the labels. We sense inputs from R2D2's two legs and learn whether to go forward or backward, just like in our previous lab (how did icome up with the data? It's a simple XOR dataset!).\n",
    "\n",
    "We will build a network consisting of an input layer consisting of two nodes (for the two legs), a hidden layer consisting of 5 nodes this time instead of 4, and an output layer consisting again of one node. So, how many weights in total? That's the **complexity** of your network.\n",
    "\n",
    "The node transfer function will be our good old friend the [sigmoid function](https://en.wikipedia.org/wiki/Sigmoid_function). \n",
    "\n",
    "We load the data. We then compile our network the same way we compile a classic program. That sets up the matrices that will contain the weights and the adjacency matrix that will define our network graph. Let's see how to do this with `conx`:"
   ]
  },
  {
   "cell_type": "code",
   "execution_count": 4,
   "metadata": {},
   "outputs": [],
   "source": [
    "dataset = [[[0, 0], [0]],\n",
    "           [[0, 1], [1]],\n",
    "           [[1, 0], [1]],\n",
    "           [[1, 1], [0]]]\n",
    "\n",
    "net = cx.Network(\"R2D2\", 2, 5, 1, activation=\"sigmoid\")\n",
    "net.dataset.load(dataset)\n",
    "net.compile(error='mean_squared_error', optimizer=\"sgd\", lr=0.3, momentum=0.9)"
   ]
  },
  {
   "cell_type": "markdown",
   "metadata": {},
   "source": [
    "We then ask for a summary of our network."
   ]
  },
  {
   "cell_type": "code",
   "execution_count": 5,
   "metadata": {},
   "outputs": [
    {
     "name": "stdout",
     "output_type": "stream",
     "text": [
      "_________________________________________________________________\n",
      "R2D2 Dataset:\n",
      "Patterns    Shape                 Range                         \n",
      "=================================================================\n",
      "inputs      (2,)                  (0.0, 1.0)                    \n",
      "targets     (1,)                  (0.0, 1.0)                    \n",
      "=================================================================\n",
      "Total patterns: 4\n",
      "   Training patterns: 4\n",
      "   Testing patterns: 0\n",
      "_________________________________________________________________\n"
     ]
    }
   ],
   "source": [
    "net.dataset.summary()"
   ]
  },
  {
   "cell_type": "markdown",
   "metadata": {},
   "source": [
    "For kicks, let's propagate a signal down our network and examine its *untrained* output."
   ]
  },
  {
   "cell_type": "code",
   "execution_count": 6,
   "metadata": {},
   "outputs": [
    {
     "data": {
      "text/plain": [
       "[0.6311073303222656]"
      ]
     },
     "execution_count": 6,
     "metadata": {},
     "output_type": "execute_result"
    }
   ],
   "source": [
    "net.propagate([0, 1])"
   ]
  },
  {
   "cell_type": "markdown",
   "metadata": {},
   "source": [
    "That means walk forward, R2D2!\n",
    "\n",
    "We can even propagate *weird* (unexpected) signals (both R2D2 feet only *slightly* touching the ground?):"
   ]
  },
  {
   "cell_type": "code",
   "execution_count": 7,
   "metadata": {},
   "outputs": [
    {
     "data": {
      "text/plain": [
       "[0.5888906717300415]"
      ]
     },
     "execution_count": 7,
     "metadata": {},
     "output_type": "execute_result"
    }
   ],
   "source": [
    "net.propagate([0.5, 0.5])"
   ]
  },
  {
   "cell_type": "markdown",
   "metadata": {},
   "source": [
    "Hmm.. probably backwards, R2D2!\n",
    "\n",
    "We can sample the entire input space for the two input units:"
   ]
  },
  {
   "cell_type": "code",
   "execution_count": 8,
   "metadata": {},
   "outputs": [
    {
     "data": {
      "text/plain": [
       "Text(0.5, 1.0, 'Output Activation')"
      ]
     },
     "execution_count": 8,
     "metadata": {},
     "output_type": "execute_result"
    },
    {
     "data": {
      "image/png": "[encoded data removed]",
      "text/plain": [
       "<Figure size 432x288 with 1 Axes>"
      ]
     },
     "metadata": {
      "needs_background": "light"
     },
     "output_type": "display_data"
    }
   ],
   "source": [
    "import numpy as np\n",
    "import matplotlib.pyplot as plt\n",
    "%matplotlib inline\n",
    "z = np.zeros((100, 100))\n",
    "\n",
    "for x in range(100):\n",
    "    for y in range(100):\n",
    "        z[x][y] = net.propagate(input=[x/100, y/100])[0]\n",
    "\n",
    "plt.imshow(z, cmap=plt.cm.gray, interpolation='nearest')\n",
    "plt.xlabel(\"input 1\")\n",
    "plt.ylabel(\"input 2\")\n",
    "plt.title(\"Output Activation\")"
   ]
  },
  {
   "cell_type": "code",
   "execution_count": 9,
   "metadata": {},
   "outputs": [
    {
     "ename": "SyntaxError",
     "evalue": "invalid syntax (<ipython-input-9-c1081ee9b80b>, line 1)",
     "output_type": "error",
     "traceback": [
      "\u001b[1;36m  File \u001b[1;32m\"<ipython-input-9-c1081ee9b80b>\"\u001b[1;36m, line \u001b[1;32m1\u001b[0m\n\u001b[1;33m    We can even get a 照片 of our network, to verify we got it right.\u001b[0m\n\u001b[1;37m         ^\u001b[0m\n\u001b[1;31mSyntaxError\u001b[0m\u001b[1;31m:\u001b[0m invalid syntax\n"
     ]
    }
   ],
   "source": [
    "We can even get a 照片 of our network, to verify we got it right."
   ]
  },
  {
   "cell_type": "code",
   "execution_count": null,
   "metadata": {},
   "outputs": [],
   "source": [
    "net.picture()"
   ]
  },
  {
   "cell_type": "markdown",
   "metadata": {},
   "source": [
    "Ok, so we have ourselves two input nodes, 5 hidden nodes, and one output node!\n",
    "\n",
    "Let's *learn*! Let's say 2000 epochs (timesteps), with the hyperparameters specified below. Note that we are very\n",
    "demanding on our little network! We demand an accuracy of 100%!"
   ]
  },
  {
   "cell_type": "code",
   "execution_count": null,
   "metadata": {},
   "outputs": [],
   "source": [
    "net.train(2000, report_rate=10, accuracy=1.0)"
   ]
  },
  {
   "cell_type": "markdown",
   "metadata": {},
   "source": [
    "You should be able to see the network total error and accuracy as it trains.\n",
    "\n",
    "The cell below is from an older API:"
   ]
  },
  {
   "cell_type": "code",
   "execution_count": null,
   "metadata": {},
   "outputs": [],
   "source": [
    "net.test(show=True)\n",
    "dataset = [[[0, 0], [0]],\n",
    "           [[0, 1], [1]],\n",
    "           [[1, 0], [1]],\n",
    "           [[1, 1], [0]]]"
   ]
  },
  {
   "cell_type": "markdown",
   "metadata": {},
   "source": [
    "Now let's propagate the same signals as before on our *trained* network."
   ]
  },
  {
   "cell_type": "code",
   "execution_count": null,
   "metadata": {},
   "outputs": [],
   "source": [
    "net.propagate([0.5, 0.5])"
   ]
  },
  {
   "cell_type": "markdown",
   "metadata": {},
   "source": [
    "Now , it looks like R2D2 is confident enough to walk *forward* when it's two feet are only half-touching the ground!\n",
    "\n",
    "And how about the training inputs?"
   ]
  },
  {
   "cell_type": "code",
   "execution_count": null,
   "metadata": {},
   "outputs": [],
   "source": [
    "#dataset = [[[0, 0], [0]],\n",
    "#           [[0, 1], [1]],\n",
    "#           [[1, 0], [1]],\n",
    "#           [[1, 1], [0]]]\n",
    "\n",
    "net.propagate([0, 0]), net.propagate([0, 1]), net.propagate([1, 0]), net.propagate([1, 1])"
   ]
  },
  {
   "cell_type": "markdown",
   "metadata": {},
   "source": [
    "<br />\n",
    "<center>\n",
    "<img src =ipynb.images/allright.gif width = 400 />\n",
    "</center>\n",
    "\n",
    "Allright allright allright! This is *fun*, let's build a more complicated network. Let's be more *explicit* about the layers.\n",
    "\n",
    "## Example \\#2\n",
    "\n",
    "What network architecture is this below?"
   ]
  },
  {
   "cell_type": "code",
   "execution_count": null,
   "metadata": {},
   "outputs": [],
   "source": [
    "net2 = cx.Network(\"XOR2 Network\")\n",
    "\n",
    "net2.add(cx.Layer(\"input1\", 1),\n",
    "         cx.Layer(\"input2\", 1),\n",
    "         cx.Layer(\"hidden1\", 10, activation=\"sigmoid\"),\n",
    "         cx.Layer(\"hidden2\", 10, activation=\"sigmoid\"),\n",
    "         cx.Layer(\"shared-hidden\", 5, activation=\"sigmoid\"),\n",
    "         cx.Layer(\"output1\", 1, activation=\"sigmoid\"),\n",
    "         cx.Layer(\"output2\", 1, activation=\"sigmoid\"))\n",
    "\n",
    "net2.connect(\"input1\", \"hidden1\")\n",
    "net2.connect(\"input2\", \"hidden2\")\n",
    "net2.connect(\"hidden1\", \"shared-hidden\")\n",
    "net2.connect(\"hidden2\", \"shared-hidden\")\n",
    "net2.connect(\"shared-hidden\", \"output1\")\n",
    "net2.connect(\"shared-hidden\", \"output2\")"
   ]
  },
  {
   "cell_type": "markdown",
   "metadata": {},
   "source": [
    "Let's compile our network."
   ]
  },
  {
   "cell_type": "code",
   "execution_count": null,
   "metadata": {},
   "outputs": [],
   "source": [
    "net2.compile(loss='mean_squared_error', optimizer='SGD', lr=0.3, momentum=0.9)"
   ]
  },
  {
   "cell_type": "markdown",
   "metadata": {},
   "source": [
    "Let's picture it."
   ]
  },
  {
   "cell_type": "code",
   "execution_count": null,
   "metadata": {},
   "outputs": [],
   "source": [
    "net2.picture()"
   ]
  },
  {
   "cell_type": "markdown",
   "metadata": {},
   "source": [
    "So, two inputs, each going to its own hidden layer of 10 neurons, then to a shared hidden layer of 5 neurons, followed by an output layer of ywo neurons.\n",
    "Let's propagate a signal into the *untrained* network."
   ]
  },
  {
   "cell_type": "code",
   "execution_count": null,
   "metadata": {},
   "outputs": [],
   "source": [
    "net2.propagate([[1], [1]])"
   ]
  },
  {
   "cell_type": "markdown",
   "metadata": {},
   "source": [
    "Let's load a new dataset with the following inputs and desired outputs (labels).\n",
    "\n",
    "We essentially just unfold our original label into 2 dimensions."
   ]
  },
  {
   "cell_type": "code",
   "execution_count": null,
   "metadata": {},
   "outputs": [],
   "source": [
    "XOR2 = [\n",
    "    ([[0],[0]], [[0],[0]]),\n",
    "    ([[0],[1]], [[1],[1]]),\n",
    "    ([[1],[0]], [[1],[1]]),\n",
    "    ([[1],[1]], [[0],[0]])\n",
    "]"
   ]
  },
  {
   "cell_type": "code",
   "execution_count": null,
   "metadata": {},
   "outputs": [],
   "source": [
    "net2.dataset.load(XOR2)"
   ]
  },
  {
   "cell_type": "markdown",
   "metadata": {},
   "source": [
    "By the way, you can get the weight of any layer at any time. These are the *untrained* weights of the `hidden2` layer:"
   ]
  },
  {
   "cell_type": "code",
   "execution_count": null,
   "metadata": {},
   "outputs": [],
   "source": [
    "net2.get_weights(\"hidden2\")"
   ]
  },
  {
   "cell_type": "markdown",
   "metadata": {},
   "source": [
    "Let's *learn* our labels!"
   ]
  },
  {
   "cell_type": "code",
   "execution_count": null,
   "metadata": {},
   "outputs": [],
   "source": [
    "net2.train(epochs=2000, accuracy=1.0, report_rate=25)"
   ]
  },
  {
   "cell_type": "markdown",
   "metadata": {},
   "source": [
    "We see it *took us some time* to learn. There was even a period of despair, where we werent; learning *anything*. But eventually, we converged!\n",
    "\n",
    "We can even learn *by batches*."
   ]
  },
  {
   "cell_type": "code",
   "execution_count": null,
   "metadata": {},
   "outputs": [],
   "source": [
    "import time\n",
    "net2.reset()\n",
    "for i in range(20):\n",
    "    (epoch_count, results) = net2.train(epochs=100, verbose=0, report_rate=25)\n",
    "    for index in range(4):\n",
    "        net2.propagate(XOR2[index][0])\n",
    "        time.sleep(0.1)"
   ]
  },
  {
   "cell_type": "markdown",
   "metadata": {},
   "source": [
    "## Example \\#3\n",
    "\n",
    "A dataset is a list of (input, target) pairs that can be further split into training and testing lists. We can build this dataset quite artificially, say with random numbers, or we can even build it with *mathematical transformations*.\n",
    "\n",
    "Let's do a transformation. Let's build a network that will compute whether the number of 1's (*set* bits) in a set of 5 bits is **odd**. We will use a 5-10-1 network."
   ]
  },
  {
   "cell_type": "code",
   "execution_count": null,
   "metadata": {},
   "outputs": [],
   "source": [
    "import conx as cx\n",
    "\n",
    "net = cx.Network(\"Odd Network\")\n",
    "net.add(cx.Layer(\"input\", 5))\n",
    "net.add(cx.Layer(\"hidden\", 10, activation=\"relu\"))\n",
    "net.add(cx.Layer(\"output\", 1, activation=\"sigmoid\"))\n",
    "net.connect()\n",
    "net.compile(error=\"mse\", optimizer=\"adam\")\n",
    "net.summary()"
   ]
  },
  {
   "cell_type": "markdown",
   "metadata": {},
   "source": [
    "#### List of (input, target) pairs\n",
    "\n",
    "The most straightforward method of loading input and target vectors to train on is to use a list of `(input, target)` pairs.\n",
    "\n",
    "Let's define a function that takes a number and returns its bitwise representation, using a list comprehension:"
   ]
  },
  {
   "cell_type": "code",
   "execution_count": null,
   "metadata": {},
   "outputs": [],
   "source": [
    "# Take a number and turn it into a list of bits (most significant first).\n",
    "def num2bin(i, bits=5):\n",
    "    return [int(s) for s in ((\"0\" * bits) + bin(i)[2:])[-bits:]]"
   ]
  },
  {
   "cell_type": "code",
   "execution_count": null,
   "metadata": {},
   "outputs": [],
   "source": [
    "# Example\n",
    "num2bin(25)"
   ]
  },
  {
   "cell_type": "markdown",
   "metadata": {},
   "source": [
    "Let's build the list of `(iput, target)` pairs:"
   ]
  },
  {
   "cell_type": "code",
   "execution_count": null,
   "metadata": {},
   "outputs": [],
   "source": [
    "patterns = []\n",
    "\n",
    "for i in range(2 ** 5):\n",
    "    inputs = num2bin(i)\n",
    "    targets = [int(sum(inputs) % 2 == 1.0)]\n",
    "    patterns.append((inputs, targets))"
   ]
  },
  {
   "cell_type": "code",
   "execution_count": null,
   "metadata": {},
   "outputs": [],
   "source": [
    "patterns"
   ]
  },
  {
   "cell_type": "markdown",
   "metadata": {},
   "source": [
    "Let's load that data onto our network."
   ]
  },
  {
   "cell_type": "code",
   "execution_count": null,
   "metadata": {},
   "outputs": [],
   "source": [
    "net.dataset.load(patterns)"
   ]
  },
  {
   "cell_type": "code",
   "execution_count": null,
   "metadata": {},
   "outputs": [],
   "source": [
    "net.dataset.info()"
   ]
  },
  {
   "cell_type": "code",
   "execution_count": null,
   "metadata": {},
   "outputs": [],
   "source": [
    "net.picture()"
   ]
  },
  {
   "cell_type": "markdown",
   "metadata": {},
   "source": [
    "Let's train!"
   ]
  },
  {
   "cell_type": "code",
   "execution_count": null,
   "metadata": {},
   "outputs": [],
   "source": [
    "net.train(epochs=5000, accuracy=.75, tolerance=.2, report_rate=100, plot=True)"
   ]
  },
  {
   "cell_type": "markdown",
   "metadata": {},
   "source": [
    "Let's evaluate our network."
   ]
  },
  {
   "cell_type": "code",
   "execution_count": null,
   "metadata": {},
   "outputs": [],
   "source": [
    "net.evaluate(tolerance=.2, show=True)"
   ]
  },
  {
   "cell_type": "markdown",
   "metadata": {},
   "source": [
    "## Example \\#4\n",
    "\n",
    "Now let's work with a wines dataset and build and train a network to become a wine *connaisseur*!\n",
    "\n",
    "<br />\n",
    "<center>\n",
    "<img src =ipynb.images/wine-connoisseur.jpg width = 500 />\n",
    "</center>"
   ]
  },
  {
   "cell_type": "code",
   "execution_count": null,
   "metadata": {},
   "outputs": [],
   "source": [
    "import pandas as pd\n",
    "import numpy as np\n",
    "wines = pd.read_csv('data/winequality-red.csv',header=None)\n",
    "wines.head(20)"
   ]
  },
  {
   "cell_type": "code",
   "execution_count": null,
   "metadata": {},
   "outputs": [],
   "source": [
    "len(wines)"
   ]
  },
  {
   "cell_type": "markdown",
   "metadata": {},
   "source": [
    "`Labels` is what we're trying to *predict*:"
   ]
  },
  {
   "cell_type": "code",
   "execution_count": null,
   "metadata": {},
   "outputs": [],
   "source": [
    "labels = wines.loc[:,11].values\n",
    "labels[0:100]"
   ]
  },
  {
   "cell_type": "markdown",
   "metadata": {},
   "source": [
    "How many distinct categories? Let's use a python `set`, which removes duplicates, to look at the diversity of our data."
   ]
  },
  {
   "cell_type": "code",
   "execution_count": null,
   "metadata": {},
   "outputs": [],
   "source": [
    "set(labels)"
   ]
  },
  {
   "cell_type": "markdown",
   "metadata": {},
   "source": [
    "Let's remove the title (`quality`)."
   ]
  },
  {
   "cell_type": "code",
   "execution_count": null,
   "metadata": {},
   "outputs": [],
   "source": [
    "labels = wines.loc[1:, 11].values.astype(float)\n",
    "labels[0:100]"
   ]
  },
  {
   "cell_type": "markdown",
   "metadata": {},
   "source": [
    "Let's simplify our labels by having them start at 0."
   ]
  },
  {
   "cell_type": "code",
   "execution_count": null,
   "metadata": {},
   "outputs": [],
   "source": [
    "labels2 = map(lambda x: x - 3, labels)\n",
    "labels2 = list(labels2)\n",
    "set(labels2)"
   ]
  },
  {
   "cell_type": "markdown",
   "metadata": {},
   "source": [
    "Now let's look at the independent variables:"
   ]
  },
  {
   "cell_type": "code",
   "execution_count": null,
   "metadata": {},
   "outputs": [],
   "source": [
    "train = wines.loc[1:,:10].values.astype(float)\n",
    "np.shape(train)"
   ]
  },
  {
   "cell_type": "markdown",
   "metadata": {},
   "source": [
    "Let's build our network with one hidden layer of 14 neurons. The input layer is composed of neurons numbering the number of independent variables: 11. \n",
    "And the output layer is composed of neurons numbering the range of our categorical label."
   ]
  },
  {
   "cell_type": "code",
   "execution_count": null,
   "metadata": {},
   "outputs": [],
   "source": [
    "#from calysto.ai.conx import *\n",
    "\n",
    "#wine_net = Network()\n",
    "#wine_net.addLayers(11, 14, 6) #input -11, hidden-14, output-5\n",
    "#wine_net"
   ]
  },
  {
   "cell_type": "code",
   "execution_count": null,
   "metadata": {},
   "outputs": [],
   "source": [
    "import conx as cx\n",
    "\n",
    "wine = cx.Network(\"Wine Network\")\n",
    "wine.add(cx.Layer(\"input\", 11))\n",
    "wine.add(cx.Layer(\"hidden\", 14, activation=\"relu\"))\n",
    "wine.add(cx.Layer(\"output\", 6, activation=\"sigmoid\"))\n",
    "wine.connect()\n",
    "wine.compile(error=\"mse\", optimizer=\"adam\")\n",
    "wine.summary()"
   ]
  },
  {
   "cell_type": "code",
   "execution_count": null,
   "metadata": {},
   "outputs": [],
   "source": [
    "wine.picture()"
   ]
  },
  {
   "cell_type": "code",
   "execution_count": null,
   "metadata": {},
   "outputs": [],
   "source": [
    "wine.propagate(input= [6.9, 0.605, 0.12, 10.7, 0.073, 40, 83, 0.9993, 3.45, 0.52, 9.4])"
   ]
  },
  {
   "cell_type": "markdown",
   "metadata": {},
   "source": [
    "To see how an untrained network works on the wine problem, let's propagate the input activations for each input pattern:"
   ]
  },
  {
   "cell_type": "code",
   "execution_count": null,
   "metadata": {},
   "outputs": [],
   "source": [
    "for item in train[:10]:\n",
    "    for pattern in [item]:\n",
    "        print(pattern, wine.propagate(input=pattern), '\\n')"
   ]
  },
  {
   "cell_type": "markdown",
   "metadata": {},
   "source": [
    "Since the output consists of 6 distinct cateogries, the classical way of handling this is with ***6 output nodes***.  \n",
    "\n",
    "So we need a 6-dimensional vector or outputs. So we ***one-hot encode*** the output variable."
   ]
  },
  {
   "cell_type": "markdown",
   "metadata": {},
   "source": [
    "One hot encoding takes a **categorical variable** and re-encodes it as a **binary variable** in multiple dimensions. \n",
    "You'll see this often in Machine Learning algorithms, and we saw this together in our weather dataset that we used with\n",
    "our random forest modeling in the beginning of the semester!\n",
    "\n",
    "| week |\n",
    "|------|\n",
    "| Mon  |\n",
    "| Tue  |\n",
    "| Wed  |\n",
    "| Thu  |\n",
    "| Fri  |\n",
    "\n",
    "and converts it into:\n",
    "\n",
    "| Mon | Tue | Wed | Thu | Fri |\n",
    "|-----|-----|-----|-----|-----|\n",
    "| 1   | 0   | 0   | 0   | 0   |\n",
    "| 0   | 1   | 0   | 0   | 0   |\n",
    "| 0   | 0   | 1   | 0   | 0   |\n",
    "| 0   | 0   | 0   | 1   | 0   |\n",
    "| 0   | 0   | 0   | 0   | 1   |"
   ]
  },
  {
   "cell_type": "markdown",
   "metadata": {},
   "source": [
    "Let's one-hot encode using `pandas`, and verify we did ok by adding the categorical variable as a column right next to the encoding for it."
   ]
  },
  {
   "cell_type": "code",
   "execution_count": null,
   "metadata": {},
   "outputs": [],
   "source": [
    "# One-hot encode categorical features\n",
    "labels3 = pd.get_dummies(labels2)\n",
    "view = labels3.head(20)\n",
    "view['val'] = labels2[:20]\n",
    "view"
   ]
  },
  {
   "cell_type": "markdown",
   "metadata": {},
   "source": [
    "This is what our labels look like (5-dimensional):"
   ]
  },
  {
   "cell_type": "code",
   "execution_count": null,
   "metadata": {},
   "outputs": [],
   "source": [
    "labels3.values"
   ]
  },
  {
   "cell_type": "markdown",
   "metadata": {},
   "source": [
    "This is what our training data looks like (11-dimensional):"
   ]
  },
  {
   "cell_type": "code",
   "execution_count": null,
   "metadata": {},
   "outputs": [],
   "source": [
    "train[:10]"
   ]
  },
  {
   "cell_type": "code",
   "execution_count": null,
   "metadata": {},
   "outputs": [],
   "source": [
    "list((labels3.values)[0])"
   ]
  },
  {
   "cell_type": "markdown",
   "metadata": {},
   "source": [
    "Now let's build our dataset as a list of `(input, label)` pairs:"
   ]
  },
  {
   "cell_type": "code",
   "execution_count": null,
   "metadata": {},
   "outputs": [],
   "source": [
    "list(zip(train, labels3.values))\n",
    "patterns = []\n",
    "\n",
    "for i in range(0, len(train)):\n",
    "    #inputs = list(np.vectorize(int)(train[i]))\n",
    "    inputs = list(train[i])\n",
    "    targets = list((labels3.values)[i])\n",
    "    patterns.append((inputs, targets))\n",
    "    \n",
    "patterns[0:2]"
   ]
  },
  {
   "cell_type": "markdown",
   "metadata": {},
   "source": [
    "Let's load our dataset:"
   ]
  },
  {
   "cell_type": "code",
   "execution_count": null,
   "metadata": {},
   "outputs": [],
   "source": [
    "#wine.setInputs(train)\n",
    "#wine.setOutputs(labels2)\n",
    "wine.dataset.load(patterns)"
   ]
  },
  {
   "cell_type": "markdown",
   "metadata": {},
   "source": [
    "Let's train."
   ]
  },
  {
   "cell_type": "code",
   "execution_count": null,
   "metadata": {},
   "outputs": [],
   "source": [
    "wine.reset()\n",
    "wine.train(epochs=5000, accuracy=.75, tolerance=.2, report_rate=100, plot=True)"
   ]
  },
  {
   "cell_type": "markdown",
   "metadata": {},
   "source": [
    "Oh oh... We don't seem to converge! Looks like one hidden layer *is not enough*!\n",
    "\n",
    "Let's try another network architecture with an extra hidden layer. So let's reduce the number of neurons in the old \n",
    "single hidden layer, to two layers, with 9 neurons for the first layer and 7 for the second."
   ]
  },
  {
   "cell_type": "code",
   "execution_count": null,
   "metadata": {},
   "outputs": [],
   "source": [
    "wine2 = cx.Network(\"Wine Network Number 2\")\n",
    "wine2.add(cx.Layer(\"input\", 11))\n",
    "wine2.add(cx.Layer(\"hidden1\", 9, activation=\"relu\"))\n",
    "wine2.add(cx.Layer(\"hidden2\", 7, activation=\"relu\"))\n",
    "wine2.add(cx.Layer(\"output\", 6, activation=\"sigmoid\"))\n",
    "wine2.connect()\n",
    "wine2.compile(error=\"mse\", optimizer=\"adam\")\n",
    "wine2.summary()"
   ]
  },
  {
   "cell_type": "code",
   "execution_count": null,
   "metadata": {},
   "outputs": [],
   "source": [
    "wine2.picture()"
   ]
  },
  {
   "cell_type": "code",
   "execution_count": null,
   "metadata": {},
   "outputs": [],
   "source": [
    "wine2.propagate(input= [6.9, 0.605, 0.12, 10.7, 0.073, 40, 83, 0.9993, 3.45, 0.52, 9.4])"
   ]
  },
  {
   "cell_type": "code",
   "execution_count": null,
   "metadata": {},
   "outputs": [],
   "source": [
    "wine2.dataset.load(patterns)"
   ]
  },
  {
   "cell_type": "code",
   "execution_count": null,
   "metadata": {},
   "outputs": [],
   "source": [
    "wine2.reset()\n",
    "wine2.train(epochs=2000, accuracy=.75, tolerance=.2, report_rate=100, plot=True)"
   ]
  },
  {
   "cell_type": "markdown",
   "metadata": {},
   "source": [
    "# Results\n",
    "\n",
    "Heck, we don't seem to be able to learn the signal we're after. \n",
    "\n",
    "<br />\n",
    "<center>\n",
    "<img src=\"ipynb.images/transmogrifier.png\" width=600 />\n",
    "</center>\n",
    "\n",
    "Can you fix this?"
   ]
  },
  {
   "cell_type": "markdown",
   "metadata": {},
   "source": [
    "## Plotting knowledge\n",
    "\n",
    "It is important, in doing your homework, that you understand what is going on. In the wines dataset, we have 11 \n",
    "independent variables (columns [0] to [10]), and one depedent variable (quality). A neural network graph is used,\n",
    "through the processes of `feedfoward` and `backpropagation`, to plot an ***11-dimensional surface*** (also called a \n",
    "[manifold](https://en.wikipedia.org/wiki/Manifold)) that is copletely triangulated. \n",
    "\n",
    "Remember our bunny?\n",
    "\n",
    "Here we draw a bunny point cloud in 3D that we present to a neural network graph to ***train on***. The $x$ and $y$ coordinates\n",
    "are the **independent variables**, and the $z$ coordinate is the dependent variable. We want to build a model *relating*\n",
    "$(x,y)$ to $z$. This is called classification. We are classifying $(x, y)$ tuples into a $z$ coordinate. So here is our \n",
    "\"*excel spreadsheet*\", which we can visualize as a point cloud:"
   ]
  },
  {
   "cell_type": "code",
   "execution_count": null,
   "metadata": {},
   "outputs": [],
   "source": [
    "import meshplot as mp\n",
    "\n",
    "data = np.load('data/data.npz')\n",
    "v, f, n, fs = data[\"v\"], data[\"f\"], data[\"n\"], data[\"fs\"]\n",
    "v1, f1, v2, f2 = data[\"v1\"], data[\"f1\"], data[\"v2\"], data[\"f2\"]\n",
    "mp.plot(v)"
   ]
  },
  {
   "cell_type": "markdown",
   "metadata": {},
   "source": [
    "Those are the \"***datapoints***\" the graph needs to learn. But instead of learning these datapoints, the graph ***learns***\n",
    "an entire triangulated manifold that looks like this, extrapolating information to fill-in the empty space in the bunny\n",
    "point cloud:"
   ]
  },
  {
   "cell_type": "code",
   "execution_count": null,
   "metadata": {},
   "outputs": [],
   "source": [
    "mp.plot(v, f)"
   ]
  },
  {
   "cell_type": "markdown",
   "metadata": {},
   "source": [
    "So now when you have to ***predict*** a datapoint, say you have to predict some $z$ coordinate given only some $x$ and $y$ coordinates, \n",
    "you can just feedforward the $x$ and $y$ values through your neural network, intersecting the $(x,y)$ plane with the bunny manifold,\n",
    "yielding $z$!\n",
    "\n",
    "In other words, the ***input*** to your neural network graph is the bunny point cloud, and the result (by backpropagation, stored in the weights\n",
    "of the neural network) is the mesh-tiangulated bunny ***surface***, which allows you to do predictions on missing values inside \n",
    "$(x, y, z)$ triples.\n",
    "\n",
    "Artificial neural networks, just like your brain, are ***geometry engines***, experiencing reality as ***point-clouds*** of data,\n",
    "and building ***triangulated surface*** models, using the weights in the synapses of your brain or the nodes of your ANN.\n",
    "\n",
    ">**NOTE**: We did exactly the same thing in the beginning of the semester, when we built **pdf*** models out of samples of\n",
    "distributions we generated with a little bit of help from NumPy. The gaussian, Beta, Gamma functions ***interpolate*** the\n",
    "empty space between our sample dataponts, giving us a *continuous* curve that we can use to do predictions with.\n",
    "\n",
    "The only mystery is how backpropagation is done in your brain. As far as ANNs are concerned, we solves that problem in our\n",
    "previous notebook: using gradients.\n",
    "\n",
    "Now, our wines dataset is really 12-dimensional (11 independent variables and one label). So how can we exactly plot a \n",
    "12-dimensional manifold?\n",
    "\n",
    "## Principal component analysis\n",
    "[Principal component analysis](https://en.wikipedia.org/wiki/Principal_component_analysis) essentially does something\n",
    "similar to finding eigenvectors of a linear map, expect it does this from an information-theoretic perspective rather\n",
    "than a geometric perspective. It finds the directions of an excel spreadsheeet where ***data varies the most*** and ranks\n",
    "them. It then returns the first one, the second one, as many as you want. \n",
    "\n",
    "But if you have a physical process underlying a dataset (the model, really), then most of the time the data varies the most\n",
    "on a smaller number of directions, and the other ones are mostly random noise. So, PCA is a dimensionality reduction\n",
    "technique that can be used to find lower-dimensional spaes that contain the ***essential information***.\n",
    "\n",
    ">**NOTE**: Ask me about my famous aquarium analogy!\n",
    "\n",
    "So let's do a PCA on our 11-dimensional data, and plot the 3 principal components. I call this our \"**bunny graph**\"."
   ]
  },
  {
   "cell_type": "code",
   "execution_count": null,
   "metadata": {},
   "outputs": [],
   "source": [
    "from sklearn.decomposition import PCA\n",
    "from scipy.stats import multivariate_normal"
   ]
  },
  {
   "cell_type": "code",
   "execution_count": null,
   "metadata": {},
   "outputs": [],
   "source": [
    "#import numpy as np\n",
    "#wines.drop(['P1', 'P2', 'P3', 'P4'], axis=1, inplace=True)\n",
    "#wines.drop(columns=['P1', 'P2', 'P3', 'P4'], inplace=True)"
   ]
  },
  {
   "cell_type": "code",
   "execution_count": null,
   "metadata": {},
   "outputs": [],
   "source": [
    "import numpy as np\n",
    "features = wines.loc[1:,:10].values.astype(float)\n",
    "pca = PCA(n_components = 3)\n",
    "pca.fit(features)\n",
    "p = pca.transform(features)\n",
    "\n",
    "wines['P1'] = np.zeros(len(wines))\n",
    "wines['P1'][0] = \"First principal component\"\n",
    "wines['P1'][1:] = p[:,0]\n",
    "\n",
    "wines['P2'] = np.zeros(len(wines))\n",
    "wines['P2'][0] = \"Second principal component\"\n",
    "wines['P2'][1:] = p[:,1]\n",
    "\n",
    "wines['P3'] = np.zeros(len(wines))\n",
    "wines['P3'][0] = \"Third principal component\"\n",
    "wines['P3'][1:] = p[:,2]\n",
    "\n",
    "wines.head()"
   ]
  },
  {
   "cell_type": "code",
   "execution_count": null,
   "metadata": {},
   "outputs": [],
   "source": [
    "classes = set(wines[[11]].values.flatten()[1:])\n",
    "classes"
   ]
  },
  {
   "cell_type": "markdown",
   "metadata": {},
   "source": [
    "Let's get rid of the first row in `wines`:"
   ]
  },
  {
   "cell_type": "code",
   "execution_count": null,
   "metadata": {},
   "outputs": [],
   "source": [
    "wines2 = wines[1:]\n",
    "wines2"
   ]
  },
  {
   "cell_type": "markdown",
   "metadata": {},
   "source": [
    "Let's convert the `quality` column from a string over to integers:"
   ]
  },
  {
   "cell_type": "code",
   "execution_count": null,
   "metadata": {},
   "outputs": [],
   "source": [
    "wines2[11] = wines2[11].astype(int)"
   ]
  },
  {
   "cell_type": "markdown",
   "metadata": {},
   "source": [
    "For example, here are the better wines:"
   ]
  },
  {
   "cell_type": "code",
   "execution_count": null,
   "metadata": {},
   "outputs": [],
   "source": [
    "wines2[wines2[11] > 5]"
   ]
  },
  {
   "cell_type": "code",
   "execution_count": 10,
   "metadata": {},
   "outputs": [
    {
     "ename": "NameError",
     "evalue": "name 'wines2' is not defined",
     "output_type": "error",
     "traceback": [
      "\u001b[1;31m---------------------------------------------------------------------------\u001b[0m",
      "\u001b[1;31mNameError\u001b[0m                                 Traceback (most recent call last)",
      "\u001b[1;32m<ipython-input-10-7ece4e9902e4>\u001b[0m in \u001b[0;36m<module>\u001b[1;34m\u001b[0m\n\u001b[1;32m----> 1\u001b[1;33m \u001b[0mlen\u001b[0m\u001b[1;33m(\u001b[0m\u001b[0mwines2\u001b[0m\u001b[1;33m[\u001b[0m\u001b[0mwines2\u001b[0m\u001b[1;33m[\u001b[0m\u001b[1;36m11\u001b[0m\u001b[1;33m]\u001b[0m \u001b[1;33m<=\u001b[0m \u001b[1;36m5\u001b[0m\u001b[1;33m]\u001b[0m\u001b[1;33m[\u001b[0m\u001b[1;34m'P1'\u001b[0m\u001b[1;33m]\u001b[0m\u001b[1;33m.\u001b[0m\u001b[0mvalues\u001b[0m\u001b[1;33m)\u001b[0m\u001b[1;33m,\u001b[0m \u001b[0mlen\u001b[0m\u001b[1;33m(\u001b[0m\u001b[0mwines2\u001b[0m\u001b[1;33m[\u001b[0m\u001b[0mwines2\u001b[0m\u001b[1;33m[\u001b[0m\u001b[1;36m11\u001b[0m\u001b[1;33m]\u001b[0m \u001b[1;33m>\u001b[0m \u001b[1;36m5\u001b[0m\u001b[1;33m]\u001b[0m\u001b[1;33m[\u001b[0m\u001b[1;34m'P1'\u001b[0m\u001b[1;33m]\u001b[0m\u001b[1;33m.\u001b[0m\u001b[0mvalues\u001b[0m\u001b[1;33m)\u001b[0m\u001b[1;33m\u001b[0m\u001b[1;33m\u001b[0m\u001b[0m\n\u001b[0m",
      "\u001b[1;31mNameError\u001b[0m: name 'wines2' is not defined"
     ]
    }
   ],
   "source": [
    "len(wines2[wines2[11] <= 5]['P1'].values), len(wines2[wines2[11] > 5]['P1'].values)"
   ]
  },
  {
   "cell_type": "markdown",
   "metadata": {},
   "source": [
    "Let's do a pairs plot of the first two principal components and see if there is a correlation between them and quality:"
   ]
  },
  {
   "cell_type": "code",
   "execution_count": null,
   "metadata": {},
   "outputs": [],
   "source": [
    "import matplotlib.pyplot as plt\n",
    "%matplotlib inline\n",
    "\n",
    "colors = [(0,.8,1),(1,.3,.2),(0,.7, .1),(.9,0,.1),(1,1,.1),(.1,.5, .9)]\n",
    "plt.figure(figsize = (8,8))\n",
    "plt.xlabel('P1', fontsize = 15)\n",
    "plt.ylabel('P2', fontsize = 15)\n",
    "plt.title('2 component PCA', fontsize = 20)\n",
    "i = 3\n",
    "for cl, color in zip(classes,colors):\n",
    "    P1 = wines2[wines2[11] == i]['P1'].values\n",
    "    P2 = wines2[wines2[11] == i]['P2'].values\n",
    "    plt.scatter(P2, P1, c = color, s = 50)\n",
    "    i += 1\n",
    "plt.legend(classes)\n",
    "plt.grid()"
   ]
  },
  {
   "cell_type": "markdown",
   "metadata": {},
   "source": [
    "Wines of different quality are really tightly mixed into the same space, so it does not appear like a PCA deomposition\n",
    "would be of big help.\n",
    "\n",
    "Either way, it gives us an idea of the \"*shape*\" of the manifold we are about to train on, so I want to plot the manifold's\n",
    "point cloud for you.\n",
    "\n",
    "These are the three first principal components of our middle quality wines:"
   ]
  },
  {
   "cell_type": "code",
   "execution_count": 11,
   "metadata": {},
   "outputs": [
    {
     "ename": "NameError",
     "evalue": "name 'wines2' is not defined",
     "output_type": "error",
     "traceback": [
      "\u001b[1;31m---------------------------------------------------------------------------\u001b[0m",
      "\u001b[1;31mNameError\u001b[0m                                 Traceback (most recent call last)",
      "\u001b[1;32m<ipython-input-11-f3f2c1918143>\u001b[0m in \u001b[0;36m<module>\u001b[1;34m\u001b[0m\n\u001b[1;32m----> 1\u001b[1;33m \u001b[0mp1\u001b[0m \u001b[1;33m=\u001b[0m \u001b[0mwines2\u001b[0m\u001b[1;33m[\u001b[0m\u001b[0mwines2\u001b[0m\u001b[1;33m[\u001b[0m\u001b[1;36m11\u001b[0m\u001b[1;33m]\u001b[0m \u001b[1;33m==\u001b[0m \u001b[1;36m6\u001b[0m\u001b[1;33m]\u001b[0m\u001b[1;33m[\u001b[0m\u001b[1;34m'P1'\u001b[0m\u001b[1;33m]\u001b[0m\u001b[1;33m.\u001b[0m\u001b[0mvalues\u001b[0m\u001b[1;33m\u001b[0m\u001b[1;33m\u001b[0m\u001b[0m\n\u001b[0m\u001b[0;32m      2\u001b[0m \u001b[0mp2\u001b[0m \u001b[1;33m=\u001b[0m \u001b[0mwines2\u001b[0m\u001b[1;33m[\u001b[0m\u001b[0mwines2\u001b[0m\u001b[1;33m[\u001b[0m\u001b[1;36m11\u001b[0m\u001b[1;33m]\u001b[0m \u001b[1;33m==\u001b[0m \u001b[1;36m6\u001b[0m\u001b[1;33m]\u001b[0m\u001b[1;33m[\u001b[0m\u001b[1;34m'P2'\u001b[0m\u001b[1;33m]\u001b[0m\u001b[1;33m.\u001b[0m\u001b[0mvalues\u001b[0m\u001b[1;33m\u001b[0m\u001b[1;33m\u001b[0m\u001b[0m\n\u001b[0;32m      3\u001b[0m \u001b[0mp3\u001b[0m \u001b[1;33m=\u001b[0m \u001b[0mwines2\u001b[0m\u001b[1;33m[\u001b[0m\u001b[0mwines2\u001b[0m\u001b[1;33m[\u001b[0m\u001b[1;36m11\u001b[0m\u001b[1;33m]\u001b[0m \u001b[1;33m==\u001b[0m \u001b[1;36m6\u001b[0m\u001b[1;33m]\u001b[0m\u001b[1;33m[\u001b[0m\u001b[1;34m'P3'\u001b[0m\u001b[1;33m]\u001b[0m\u001b[1;33m.\u001b[0m\u001b[0mvalues\u001b[0m\u001b[1;33m\u001b[0m\u001b[1;33m\u001b[0m\u001b[0m\n\u001b[0;32m      4\u001b[0m \u001b[1;33m\u001b[0m\u001b[0m\n\u001b[0;32m      5\u001b[0m \u001b[0mp1\u001b[0m\u001b[1;33m[\u001b[0m\u001b[1;36m0\u001b[0m\u001b[1;33m]\u001b[0m\u001b[1;33m,\u001b[0m \u001b[0mp2\u001b[0m\u001b[1;33m[\u001b[0m\u001b[1;36m0\u001b[0m\u001b[1;33m]\u001b[0m\u001b[1;33m,\u001b[0m \u001b[0mp3\u001b[0m\u001b[1;33m[\u001b[0m\u001b[1;36m0\u001b[0m\u001b[1;33m]\u001b[0m\u001b[1;33m\u001b[0m\u001b[1;33m\u001b[0m\u001b[0m\n",
      "\u001b[1;31mNameError\u001b[0m: name 'wines2' is not defined"
     ]
    }
   ],
   "source": [
    "p1 = wines2[wines2[11] == 6]['P1'].values\n",
    "p2 = wines2[wines2[11] == 6]['P2'].values\n",
    "p3 = wines2[wines2[11] == 6]['P3'].values\n",
    "\n",
    "p1[0], p2[0], p3[0] "
   ]
  },
  {
   "cell_type": "markdown",
   "metadata": {},
   "source": [
    "Let's create the point cloud. We will divide by 10 to shrink distances so that I can actually see a shape, otherwise the\n",
    "points may be too spread out apart:"
   ]
  },
  {
   "cell_type": "code",
   "execution_count": 120,
   "metadata": {},
   "outputs": [
    {
     "data": {
      "text/plain": [
       "array([[ 1.34300628, -0.19511222,  0.26340395],\n",
       "       [ 0.95507043, -0.10065132, -0.04922433],\n",
       "       [ 1.60720258,  0.98011838,  0.0665192 ],\n",
       "       ...,\n",
       "       [ 0.94899841,  2.16275246, -0.19865579],\n",
       "       [-0.34313535,  1.42712435, -0.17507193],\n",
       "       [-0.38743766,  0.31263475, -0.18741493]])"
      ]
     },
     "execution_count": 120,
     "metadata": {},
     "output_type": "execute_result"
    }
   ],
   "source": [
    "V = []\n",
    "for i in range(0, len(p1)):\n",
    "    V.append([ p1[i]/10., p2[i]/10., p3[i]/10. ])\n",
    "W = np.array(V)\n",
    "W"
   ]
  },
  {
   "cell_type": "code",
   "execution_count": 121,
   "metadata": {},
   "outputs": [
    {
     "data": {
      "text/plain": [
       "638"
      ]
     },
     "execution_count": 121,
     "metadata": {},
     "output_type": "execute_result"
    }
   ],
   "source": [
    "len(W)"
   ]
  },
  {
   "cell_type": "code",
   "execution_count": 122,
   "metadata": {},
   "outputs": [
    {
     "data": {
      "application/vnd.jupyter.widget-view+json": {
       "model_id": "5dec16eaca9944b5926adf6a02e5bcee",
       "version_major": 2,
       "version_minor": 0
      },
      "text/plain": [
       "Renderer(camera=PerspectiveCamera(children=(DirectionalLight(color='white', intensity=0.6, position=(4.0424163…"
      ]
     },
     "metadata": {},
     "output_type": "display_data"
    }
   ],
   "source": [
    "mp.plot(W)"
   ]
  },
  {
   "cell_type": "markdown",
   "metadata": {},
   "source": [
    "And here are *all* wines:"
   ]
  },
  {
   "cell_type": "code",
   "execution_count": 123,
   "metadata": {},
   "outputs": [],
   "source": [
    "p1 = wines2['P1'].values\n",
    "p2 = wines2['P2'].values\n",
    "p3 = wines2['P3'].values"
   ]
  },
  {
   "cell_type": "code",
   "execution_count": 124,
   "metadata": {},
   "outputs": [
    {
     "data": {
      "text/plain": [
       "24.14067320700021"
      ]
     },
     "execution_count": 124,
     "metadata": {},
     "output_type": "execute_result"
    }
   ],
   "source": [
    "V = []\n",
    "for i in range(0, len(p1)):\n",
    "    V.append([ p1[i]/10., p2[i]/10., p3[i]/10. ])\n",
    "W = np.array(V)\n",
    "np.max(W)"
   ]
  },
  {
   "cell_type": "code",
   "execution_count": 125,
   "metadata": {},
   "outputs": [
    {
     "data": {
      "text/plain": [
       "1599"
      ]
     },
     "execution_count": 125,
     "metadata": {},
     "output_type": "execute_result"
    }
   ],
   "source": [
    "len(W)"
   ]
  },
  {
   "cell_type": "code",
   "execution_count": 126,
   "metadata": {},
   "outputs": [
    {
     "data": {
      "application/vnd.jupyter.widget-view+json": {
       "model_id": "aaf18343508c44bb882707ab10edf339",
       "version_major": 2,
       "version_minor": 0
      },
      "text/plain": [
       "Renderer(camera=PerspectiveCamera(children=(DirectionalLight(color='white', intensity=0.6, position=(9.9535977…"
      ]
     },
     "metadata": {},
     "output_type": "display_data"
    }
   ],
   "source": [
    "mp.plot(W)"
   ]
  },
  {
   "cell_type": "markdown",
   "metadata": {},
   "source": [
    "What I'm seeing is a kind of \"*corner*\" structure.\n",
    "\n",
    "So what our ANN will do is to join that data with the label, and create a \"*bunny surface*\" using backpropagation.\n",
    "\n",
    ">**RECAP**: ANNs, just like your brain, are bayesian geometry engines, encoding information in mesh geometries that \n",
    "interpolate your point-cloud experiences. When you \"*train*\" (backpropagate) an ANN, you are building mesh-triangulated \n",
    "surfaces. When you *predict* (or think, or feedforward), you are computing intersections between your models and\n",
    "evidence."
   ]
  },
  {
   "cell_type": "markdown",
   "metadata": {},
   "source": [
    "## Analogy with real neural networks\n",
    "\n",
    "The human nervous system is composed of more than 100 billion cells known as neurons, maybe closer to 200 billion as we \n",
    "are born (and then neurons die when we are babies). Do you know how many stars are in a galaxy? How many galaxies in the \n",
    "universe? A neuron is a cell in the nervous system whose function it is to receive and transmit information. Neurons are \n",
    "made up of three major parts:\n",
    "\n",
    "* the cell body, or **soma**, which contains the nucleus of the cell and keeps the cell alive\n",
    "* a branching treelike fiber known as the **dendrite**, which collects information from other cells and sends the information to the soma\n",
    "* a long, segmented fiber known as the **axon**, which transmits information away from the cell body toward other neurons or to the muscles and glands\n",
    "\n",
    "<img src=\"https://c4.staticflickr.com/3/2656/4253587827_9723c3ffd3_z.jpg\" />\n",
    "\n",
    "*Photo courtesy of GE Healthcare, http://www.flickr.com/photos/gehealthcare/4253587827/ *\n",
    "\n",
    "<img src=\"https://askabiologist.asu.edu/sites/default/files/resources/articles/neuron_anatomy.jpg\"/>\n",
    "\n",
    "Some neurons have thousands of connections (dendrites), and these dendrites may themselves be branched to allow the cell \n",
    "to receive information from thousands of other cells. So a human brain has an order of a hundred trillion ($10^{14}$) \n",
    "connections.\n",
    "\n",
    "The axons are also specialized; some, such as those that send messages from the spinal cord to the muscles in the hands \n",
    "or feet, may be very long---even up to several feet in length. To improve the speed of their communication, and to keep \n",
    "their electrical charges from shorting out with other neurons, axons are often surrounded by a **myelin sheath**.\n",
    "\n",
    "The myelin sheath is a layer of fatty tissue surrounding the axon of a neuron that both acts as an insulator and allows \n",
    "faster transmission of the electrical signal. Axons branch out toward their ends, and at the tip of each branch is a \n",
    "*terminal button*.\n",
    "\n",
    "The actual working of neurons involves many aspects (including chemical, electrical, physical, timings). We abstract all \n",
    "of this away into three numbers:\n",
    "\n",
    "* **activation** - a value representing the excitement of a neuron\n",
    "* **default bias** - a value representing a default or bias (sometimes called a threshold)\n",
    "* **weight** - a value representing a connection to another neuron\n",
    "\n",
    "In addition, there is a **transfer function** that takes all of the incoming activations times their associated weights \n",
    "plus the bias, and squashes the resulting sum. This limits the activations from growing too big or too small.\n",
    "\n",
    "Time is handled in discrete steps. Real cells, of course, fire in non-discrete intervals. Consider the trigeminal ganglion \n",
    "cell: this is about 2 seconds of activity that was recorded from a rat ganglion cell after a single whisker (vibrissa) was \n",
    "moved and held in position. Listen for the rapid steady burst of action potentials. This neuron was firing about 100 \n",
    "action potentials every second. The picture below is the actual recording of a portion of what you are hearing...each \n",
    "action potential in this record is separated by about 10 milliseconds. There are 21 action potentials displayed in this \n",
    "picture of the recording.\n",
    "\n",
    "<img src=\"https://faculty.washington.edu/chudler/gif/spikes2.gif\" />\n",
    "\n",
    "This is what your brain sounds like on the inside. Imagine 100 billion cells doing this:"
   ]
  },
  {
   "cell_type": "code",
   "execution_count": 127,
   "metadata": {},
   "outputs": [
    {
     "ename": "ValueError",
     "evalue": "rate must be specified when data is a numpy array or list of audio samples.",
     "output_type": "error",
     "traceback": [
      "\u001b[1;31m---------------------------------------------------------------------------\u001b[0m",
      "\u001b[1;31mValueError\u001b[0m                                Traceback (most recent call last)",
      "\u001b[1;32m<ipython-input-127-079b7843c597>\u001b[0m in \u001b[0;36m<module>\u001b[1;34m\u001b[0m\n\u001b[0;32m      1\u001b[0m \u001b[1;32mfrom\u001b[0m \u001b[0mIPython\u001b[0m\u001b[1;33m.\u001b[0m\u001b[0mdisplay\u001b[0m \u001b[1;32mimport\u001b[0m \u001b[0mAudio\u001b[0m\u001b[1;33m\u001b[0m\u001b[1;33m\u001b[0m\u001b[0m\n\u001b[1;32m----> 2\u001b[1;33m \u001b[0mAudio\u001b[0m\u001b[1;33m(\u001b[0m\u001b[1;34m\"data/sndhair.wav\"\u001b[0m\u001b[1;33m)\u001b[0m\u001b[1;33m\u001b[0m\u001b[1;33m\u001b[0m\u001b[0m\n\u001b[0m",
      "\u001b[1;32mD:\\Anaconda\\lib\\site-packages\\IPython\\lib\\display.py\u001b[0m in \u001b[0;36m__init__\u001b[1;34m(self, data, filename, url, embed, rate, autoplay, normalize, element_id)\u001b[0m\n\u001b[0;32m    112\u001b[0m         \u001b[1;32mif\u001b[0m \u001b[0mself\u001b[0m\u001b[1;33m.\u001b[0m\u001b[0mdata\u001b[0m \u001b[1;32mis\u001b[0m \u001b[1;32mnot\u001b[0m \u001b[1;32mNone\u001b[0m \u001b[1;32mand\u001b[0m \u001b[1;32mnot\u001b[0m \u001b[0misinstance\u001b[0m\u001b[1;33m(\u001b[0m\u001b[0mself\u001b[0m\u001b[1;33m.\u001b[0m\u001b[0mdata\u001b[0m\u001b[1;33m,\u001b[0m \u001b[0mbytes\u001b[0m\u001b[1;33m)\u001b[0m\u001b[1;33m:\u001b[0m\u001b[1;33m\u001b[0m\u001b[1;33m\u001b[0m\u001b[0m\n\u001b[0;32m    113\u001b[0m             \u001b[1;32mif\u001b[0m \u001b[0mrate\u001b[0m \u001b[1;32mis\u001b[0m \u001b[1;32mNone\u001b[0m\u001b[1;33m:\u001b[0m\u001b[1;33m\u001b[0m\u001b[1;33m\u001b[0m\u001b[0m\n\u001b[1;32m--> 114\u001b[1;33m                 \u001b[1;32mraise\u001b[0m \u001b[0mValueError\u001b[0m\u001b[1;33m(\u001b[0m\u001b[1;34m\"rate must be specified when data is a numpy array or list of audio samples.\"\u001b[0m\u001b[1;33m)\u001b[0m\u001b[1;33m\u001b[0m\u001b[1;33m\u001b[0m\u001b[0m\n\u001b[0m\u001b[0;32m    115\u001b[0m             \u001b[0mself\u001b[0m\u001b[1;33m.\u001b[0m\u001b[0mdata\u001b[0m \u001b[1;33m=\u001b[0m \u001b[0mAudio\u001b[0m\u001b[1;33m.\u001b[0m\u001b[0m_make_wav\u001b[0m\u001b[1;33m(\u001b[0m\u001b[0mdata\u001b[0m\u001b[1;33m,\u001b[0m \u001b[0mrate\u001b[0m\u001b[1;33m,\u001b[0m \u001b[0mnormalize\u001b[0m\u001b[1;33m)\u001b[0m\u001b[1;33m\u001b[0m\u001b[1;33m\u001b[0m\u001b[0m\n\u001b[0;32m    116\u001b[0m \u001b[1;33m\u001b[0m\u001b[0m\n",
      "\u001b[1;31mValueError\u001b[0m: rate must be specified when data is a numpy array or list of audio samples."
     ]
    }
   ],
   "source": [
    "from IPython.display import Audio\n",
    "Audio(\"data/sndhair.wav\")"
   ]
  },
  {
   "cell_type": "markdown",
   "metadata": {},
   "source": [
    "## References\n",
    "Hinton, G. (1992) [How Neural Networks Learn From Experience](https://www.academia.edu/631731/How_neural_networks_learn_from_experience). Scientific American. September, 1992."
   ]
  }
 ],
 "metadata": {
  "kernelspec": {
   "display_name": "Python 3",
   "language": "python",
   "name": "python3"
  },
  "language_info": {
   "codemirror_mode": {
    "name": "ipython",
    "version": 3
   },
   "file_extension": ".py",
   "mimetype": "text/x-python",
   "name": "python",
   "nbconvert_exporter": "python",
   "pygments_lexer": "ipython3",
   "version": "3.7.4"
  }
 },
 "nbformat": 4,
 "nbformat_minor": 2
}
