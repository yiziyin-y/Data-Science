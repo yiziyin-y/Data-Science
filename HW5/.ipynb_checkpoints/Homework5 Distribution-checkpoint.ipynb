{
 "cells": [
  {
   "cell_type": "markdown",
   "metadata": {},
   "source": [
    "# Homework Part I\n",
    "\n",
    "1. I have a drug group and a placebo group. I want some quantitative confirmation to see if they produce the ***same*** or ***different*** outcomes: `drug-A` and `placebo-A`.\n",
    "\n",
    "2. I have a drug group and a placebo group: `drug-B` and `placebo-B`. The mean outcome is ***lower*** in the placebo group and I have a theory that may explain this, but I first need to rule out the possibility that the lower outcome is just due to chance.\n",
    "\n",
    "In each case construct (i.e. actually write down) your two hypotheses, decide from how they are worded, whether they are one-tailed or two-tailed, then use statistical tests to assess which you should accept.\n",
    "\n",
    "Hints:\n",
    "\n",
    "* Test data sets for normality (are they pretty, do they have a normal distribution?). Use the test we have not used yet, the D’Agostino & Pearson test to provide probabilities of normality (prettiness).\n",
    "\n",
    "* Test whether means differ significantly: When testing if means are different, you should use use either a two-tailed Mann-Whitney p-value, or a two-tailed T-test p-value, depending on the result of the normality test. Remember that `scipy.stats`'s `Mann-Whitney` function returns a one-tailed p-value.\n",
    "\n",
    "H0:the placebo have SAME effect compared to drug\n"
   ]
  },
  {
   "cell_type": "markdown",
   "metadata": {},
   "source": [
    "# Testing for Normality \n",
    "\n",
    "Recall that normality is prettiness. `Scipy` has a test for prettiness! Rather than guessing whether a distribution is normal, can we test for it!\n",
    "\n",
    "* $H_0$ : 'Underlying distribution is normal.'\n",
    "* $H_1$ : 'Underlying distribution is not normal.'\n",
    "\n",
    "Actully, many different tests of normality (prettiness) exist - no universal agreement on which is best. \n",
    "\n",
    "A good solution is *D’Agostino & Pearson combined test*, provided by Python via the method [scipy.stats.normaltest](http://docs.scipy.org/doc/scipy/reference/generated/scipy.stats.normaltest.html). This function tests the null hypothesis that a sample comes from a normal distribution."
   ]
  },
  {
   "cell_type": "code",
   "execution_count": 1,
   "metadata": {},
   "outputs": [],
   "source": [
    "# Read in the records.\n",
    "import pandas as pd\n",
    "import numpy as np\n",
    "record = pd.read_csv(\"data2/drug-A.csv\", header = None, names = {' '}) \n",
    "record2 = pd.read_csv(\"data2/placebo-A.csv\", header = None, names = {' '}) "
   ]
  },
  {
   "cell_type": "code",
   "execution_count": 2,
   "metadata": {},
   "outputs": [
    {
     "name": "stdout",
     "output_type": "stream",
     "text": [
      "Skew =  [1.28741172]\n",
      "H0 -come from a normal distribution: \n",
      "Accept.\n"
     ]
    },
    {
     "data": {
      "text/plain": [
       "<matplotlib.legend.Legend at 0x18ba0539e48>"
      ]
     },
     "execution_count": 2,
     "metadata": {},
     "output_type": "execute_result"
    }
   ],
   "source": [
    "import matplotlib.pyplot as plt\n",
    "drug = np.array(record, dtype=float)\n",
    "placebo = np.array(record2, dtype=float)\n",
    "from scipy.stats import normaltest\n",
    "k2, p = normaltest(drug)\n",
    "print (\"Skew = \", k2)\n",
    "print (\"H0 -come from a normal distribution: \")\n",
    "if p<0.05:\n",
    "    print (\"Reject in favor of H1.\")\n",
    "else:\n",
    "    print (\"Accept.\")\n",
    "\n",
    "plt.hist(drug, bins=5)\n",
    "plt.legend((\"p-value=%.2g\"%p, ))"
   ]
  },
  {
   "cell_type": "code",
   "execution_count": 3,
   "metadata": {},
   "outputs": [
    {
     "name": "stdout",
     "output_type": "stream",
     "text": [
      "Skew =  [1.22026289]\n",
      "H0 -come from a normal distribution: \n",
      "Accept.\n"
     ]
    },
    {
     "data": {
      "text/plain": [
       "<matplotlib.legend.Legend at 0x18ba073dfc8>"
      ]
     },
     "execution_count": 3,
     "metadata": {},
     "output_type": "execute_result"
    },
    {
     "data": {
      "image/png": "[encoded data removed]",
      "text/plain": [
       "<Figure size 432x288 with 1 Axes>"
      ]
     },
     "metadata": {
      "needs_background": "light"
     },
     "output_type": "display_data"
    }
   ],
   "source": [
    "k2, p = normaltest(placebo)\n",
    "print (\"Skew = \", k2)\n",
    "print (\"H0 -come from a normal distribution: \")\n",
    "if p<0.05:\n",
    "    print (\"Reject in favor of H1.\")\n",
    "else:\n",
    "    print (\"Accept.\")\n",
    "\n",
    "plt.hist(placebo, bins=5)\n",
    "plt.legend((\"p-value=%.2g\"%p, ))"
   ]
  },
  {
   "cell_type": "markdown",
   "metadata": {},
   "source": [
    "Both accept，so we can test remain part"
   ]
  },
  {
   "cell_type": "code",
   "execution_count": 4,
   "metadata": {},
   "outputs": [
    {
     "data": {
      "text/plain": [
       "array([<matplotlib.axes._subplots.AxesSubplot object at 0x0000018BA0773608>,\n",
       "       <matplotlib.axes._subplots.AxesSubplot object at 0x0000018BA17A5488>],\n",
       "      dtype=object)"
      ]
     },
     "execution_count": 4,
     "metadata": {},
     "output_type": "execute_result"
    },
    {
     "data": {
      "image/png": "[encoded data removed]",
      "text/plain": [
       "<Figure size 432x288 with 2 Axes>"
      ]
     },
     "metadata": {
      "needs_background": "light"
     },
     "output_type": "display_data"
    }
   ],
   "source": [
    "import pandas as pd\n",
    "import numpy as np\n",
    "colnames=['outcome'] \n",
    "drugA = pd.read_csv('data2/drug-A.csv',names=colnames, header=None)\n",
    "drugA['group']='drug'\n",
    "placeboA = pd.read_csv('data2/placebo-A.csv',names=colnames, header=None)\n",
    "placeboA['group']='placebo'\n",
    "trial_data = pd.concat([drugA, placeboA], ignore_index=True)\n",
    "trial_data.hist('outcome', by='group')"
   ]
  },
  {
   "cell_type": "markdown",
   "metadata": {},
   "source": [
    "## Practice\n",
    "\n",
    "[scipy.stats.ttest_ind](https://docs.scipy.org/doc/scipy-0.15.1/reference/generated/scipy.stats.ttest_ind.html) is\n",
    "a two-sided test for the null hypothesis that 2 independent samples have identical average (expected) values. This test assumes that ***the populations have identical variances***.\n",
    "\n",
    "The **T-test** measures whether the average (expected) value differs significantly across samples. If we observe a **large** p-value, for example larger than 0.1, then we cannot reject the null hypothesis of identical average scores, we have to say *there is nothing strange going on*. If the p-value is **smaller than the threshold**, then we reject the null hypothesis of equal averages (*there is something interesting going on*).\n",
    "\n",
    "Note that this test works on averages (expected) values, and that a **point estimate** does *not* capture the richness of all available statistics. In fact, it often returns bad results, *such as for this drug/placebo dataset*!\n",
    "\n",
    "Let's do the estimation for our dataset."
   ]
  },
  {
   "cell_type": "code",
   "execution_count": 5,
   "metadata": {},
   "outputs": [
    {
     "name": "stdout",
     "output_type": "stream",
     "text": [
      "38\n",
      "126\n",
      "1.0489473684210526\n",
      "1.1421428571428576\n",
      "1.1205487804878047\n"
     ]
    },
    {
     "data": {
      "text/plain": [
       "Ttest_indResult(statistic=-1.7473607598380747, pvalue=0.08686705804164516)"
      ]
     },
     "execution_count": 5,
     "metadata": {},
     "output_type": "execute_result"
    }
   ],
   "source": [
    "from scipy.stats import ttest_ind\n",
    "combined_outcome = np.concatenate((drugA.outcome, placeboA.outcome))\n",
    "print(len(drugA.outcome))\n",
    "print(len(placeboA.outcome))\n",
    "print( drugA.outcome.mean() )\n",
    "print( placeboA.outcome.mean() )\n",
    "print( combined_outcome.mean() )\n",
    "\n",
    "# we run the t-test without supposing the variance is the same (more general)\n",
    "ttest_ind(a= drugA.outcome,\n",
    "          b= placeboA.outcome,\n",
    "          equal_var=False)"
   ]
  },
  {
   "cell_type": "markdown",
   "metadata": {},
   "source": [
    "The test yields a p-value of 0.0868, which means ***there is a 8% chance we'd see sample data this far apart statistically if the two groups tested are actually identical***. \n",
    "\n",
    "If we were using a 95% confidence level, we would **fail** to reject the null hypothesis, since the p-value is greater than the corresponding significance level of 0.05. And so we conclude that the drug is as effective as placebo at a 95% confidence level: there is nothing interesting going on. At a significance level of 0.05, drug outcome on IQ is statistically **nonsignificant**.\n",
    "\n",
    "For *another* perspective, the test result shows the test statistic is equal to -1.7473. This test statistic tells us how much the sampled mean deviates from the null hypothesis. If the t-statistic lies outside the quantiles of the t-distribution corresponding to our confidence level and degrees of freedom, we need to reject the null hypothesis. We get the quantiles of the [Student-T](https://en.wikipedia.org/wiki/Student%27s_t-distribution) distribution using `stats.t.ppf`."
   ]
  },
  {
   "cell_type": "code",
   "execution_count": 6,
   "metadata": {},
   "outputs": [
    {
     "data": {
      "text/plain": [
       "-1.687093616710988"
      ]
     },
     "execution_count": 6,
     "metadata": {},
     "output_type": "execute_result"
    }
   ],
   "source": [
    "from scipy.stats import t\n",
    "t.ppf(q=0.05,  # Quantile to check\n",
    "      df=37)  # Degrees of freedom"
   ]
  },
  {
   "cell_type": "markdown",
   "metadata": {},
   "source": [
    "Here we see that our test statistic of -1.74 is ***within the quantile of the t-distribution (1.68)***, so we should reject H0"
   ]
  },
  {
   "cell_type": "markdown",
   "metadata": {},
   "source": [
    "### 1.2  I have a drug group and a placebo group: drug-B and placebo-B. The mean outcome is lower in the placebo group and I have a theory that may explain this, but I first need to rule out the possibility that the lower outcome is just due to chance.\n",
    "\n",
    "H0:The mean outcome is lower in the placebo group <br>\n",
    "H1:The mean outcome is higher in the placebo group"
   ]
  },
  {
   "cell_type": "code",
   "execution_count": 7,
   "metadata": {},
   "outputs": [
    {
     "name": "stdout",
     "output_type": "stream",
     "text": [
      "statistic:  512.5\n",
      "pvalue:  0.9785671478786763\n",
      "Accept HO\n"
     ]
    }
   ],
   "source": [
    "from scipy.stats import mannwhitneyu\n",
    "colnames=['outcome'] \n",
    "drugB = pd.read_csv('data2/drug-B.csv',names=colnames, header=None)\n",
    "drugB['group']='drug'\n",
    "placeboB = pd.read_csv('data2/placebo-B.csv',names=colnames, header=None)\n",
    "placeboB['group']='placebo'\n",
    "statistic, pvalue = mannwhitneyu(placeboB.outcome.values,drugB.outcome.values,alternative = 'greater')\n",
    "print(\"statistic: \", statistic)\n",
    "print(\"pvalue: \", pvalue)\n",
    "if pvalue< 0.05:\n",
    "    print(\"Reject HO\")\n",
    "else:\n",
    "    print(\"Accept HO\")"
   ]
  },
  {
   "cell_type": "markdown",
   "metadata": {},
   "source": [
    "# Homework Part II: Random variates from arbitrary distribution\n"
   ]
  },
  {
   "cell_type": "code",
   "execution_count": 9,
   "metadata": {},
   "outputs": [
    {
     "name": "stdout",
     "output_type": "stream",
     "text": [
      "[-1.6284459   1.49601817  0.42446775 ... -0.70839962  0.87294655\n",
      "  1.45591929]\n",
      "[-0.96878966  0.04114919  0.27370764 ... -0.65901703  0.48881942\n",
      " -1.78028545]\n"
     ]
    },
    {
     "data": {
      "image/png": "[encoded data removed]",
      "text/plain": [
       "<Figure size 648x288 with 2 Axes>"
      ]
     },
     "metadata": {
      "needs_background": "light"
     },
     "output_type": "display_data"
    }
   ],
   "source": [
    "from functools import partial\n",
    "import numpy\n",
    "from matplotlib import pyplot\n",
    "import scipy.stats\n",
    "import numpy as np\n",
    "\n",
    "\n",
    "# Define a PDF\n",
    "\n",
    "x_samples = scipy.stats.norm.rvs(size=10000, loc=0, scale=1.5, random_state=123)\n",
    "PDF = numpy.empty(x_samples.shape)\n",
    "PDF[x_samples < 0] = numpy.round(x_samples[x_samples < 0] + 3.5) / 3\n",
    "PDF[x_samples >= 0] = 0.5 * numpy.cos(numpy.pi * x_samples[x_samples >= 0]) + 0.5\n",
    "PDF /= numpy.sum(PDF)\n",
    "\n",
    "# Calculate approximated CDF\n",
    "CDF = numpy.empty(PDF.shape)\n",
    "cumulated = 0\n",
    "for i in range(CDF.shape[0]):\n",
    "    cumulated += PDF[i]\n",
    "    CDF[i] = cumulated\n",
    "\n",
    "# Generate samples\n",
    "generate = partial(numpy.interp, xp=CDF, fp=x_samples)\n",
    "u_rv = numpy.random.random(10000)\n",
    "x = generate(u_rv)\n",
    "\n",
    "# Visualization\n",
    "fig, (ax0, ax1) = pyplot.subplots(ncols=2, figsize=(9, 4))\n",
    "hist = np.histogram(x_samples, bins=100)\n",
    "ax0.plot(hist[0], label='histogram')\n",
    "ax1.hist(x, 100)\n",
    "print(x_samples)\n",
    "print(x)\n",
    "pyplot.show()"
   ]
  },
  {
   "cell_type": "code",
   "execution_count": null,
   "metadata": {},
   "outputs": [],
   "source": []
  }
 ],
 "metadata": {
  "kernelspec": {
   "display_name": "Python 3",
   "language": "python",
   "name": "python3"
  },
  "language_info": {
   "codemirror_mode": {
    "name": "ipython",
    "version": 3
   },
   "file_extension": ".py",
   "mimetype": "text/x-python",
   "name": "python",
   "nbconvert_exporter": "python",
   "pygments_lexer": "ipython3",
   "version": "3.7.4"
  }
 },
 "nbformat": 4,
 "nbformat_minor": 2
}
