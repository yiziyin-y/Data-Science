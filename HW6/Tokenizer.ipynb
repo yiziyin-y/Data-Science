{
 "cells": [
  {
   "cell_type": "code",
   "execution_count": null,
   "metadata": {},
   "outputs": [],
   "source": []
  },
  {
   "cell_type": "code",
   "execution_count": 17,
   "metadata": {},
   "outputs": [],
   "source": [
    "# -*- encoding=utf-8 -*-   # 定义编码格式\n",
    "import jieba.analyse\n",
    "import jieba.posseg\n",
    "import jieba\n",
    "import pandas as pd\n",
    "from googletrans import Translator\n",
    "# 载入自定义词典\n",
    "#jieba.load_userdict('dict.txt')\n",
    "# 载入自定义停止词\n",
    "#jieba.analyse.set_stop_words('stop_words.txt')\n",
    "# 去掉中英文状态下的逗号、句号\n",
    "def clearSen(comment):\n",
    "    comment = comment.strip()\n",
    "    comment = comment.replace('、', '')\n",
    "    comment = comment.replace('，', '。')\n",
    "    comment = comment.replace('《', '。')\n",
    "    comment = comment.replace('》', '。')\n",
    "    comment = comment.replace('～', '')\n",
    "    comment = comment.replace('…', '')\n",
    "    comment = comment.replace('\\r', '')\n",
    "    comment = comment.replace('\\t', ' ')\n",
    "    comment = comment.replace('\\f', ' ')\n",
    "    comment = comment.replace('/', '')\n",
    "    comment = comment.replace('、', ' ')\n",
    "    comment = comment.replace('/', '')\n",
    "    comment = comment.replace('。', '')\n",
    "    comment = comment.replace('（', '')\n",
    "    comment = comment.replace('）', '')\n",
    "    comment = comment.replace('_', '')\n",
    "    comment = comment.replace('?', ' ')\n",
    "    comment = comment.replace('？', ' ')\n",
    "    comment = comment.replace('了', '')\n",
    "    comment = comment.replace('➕', '')\n",
    "    comment = comment.replace('：', '')\n",
    "    return comment\n",
    "\n",
    "\n",
    "# 读取数据，具体文件路径，sep可看我直接的文章介绍\n",
    "zhengce_content = pd.read_table('test.txt', sep='\\t')\n",
    "# 数据重命名\n",
    "zhengce_content.columns = ['content']\n",
    "\n",
    "# 文件写入。文件路径是指最后要写入哪个文件\n",
    "outputfile = open('out.txt', 'a+', encoding=\"utf-8\")\n",
    "\n",
    "\n",
    "for each in zhengce_content['content']:\n",
    "    # 清除标点符号\n",
    "    kk = clearSen(each)\n",
    "    # posseg可标注词语的词性，最上面已经引入了\n",
    "    seg_list = jieba.posseg.cut(kk)\n",
    "    # seg_list的结果是generator类型，因此，如果你print(seg_list)，会出现类似\n",
    "    # <generator object cut at 0x000001F03E18FB88>的结果，因此需要用for循环来遍历输出\n",
    "    for word, flag in seg_list:\n",
    "       \n",
    "    # 写出数据，注意缩进\n",
    "    \n",
    "        outputfile.write(\"%s\" % (word))\n",
    "        outputfile.write('\\n')\n",
    "        \n",
    "# 关闭文件\n",
    "outputfile.close()\n"
   ]
  },
  {
   "cell_type": "code",
   "execution_count": null,
   "metadata": {},
   "outputs": [],
   "source": []
  }
 ],
 "metadata": {
  "kernelspec": {
   "display_name": "Python 3",
   "language": "python",
   "name": "python3"
  },
  "language_info": {
   "codemirror_mode": {
    "name": "ipython",
    "version": 3
   },
   "file_extension": ".py",
   "mimetype": "text/x-python",
   "name": "python",
   "nbconvert_exporter": "python",
   "pygments_lexer": "ipython3",
   "version": "3.7.4"
  }
 },
 "nbformat": 4,
 "nbformat_minor": 2
}
