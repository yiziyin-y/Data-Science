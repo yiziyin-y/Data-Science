{
 "cells": [
  {
   "cell_type": "markdown",
   "metadata": {},
   "source": [
    "<div style=\"text-align: right\">INFO 6105 Data Science Eng Methods and Tools, Spring 20 midterm, Section 7</div>\n",
    "<div style=\"text-align: right\">Dino Konstantopoulos, 26 February 2020</div>\n",
    "<div style=\"text-align: right\">100 points total</div>\n",
    "\n",
    "# INFO 6105 Spring 20 Midterm\n",
    "\n",
    "You have up to an hour. There is a *lot* of coding in this midterm. It is meant to simulate a real interview so you are *pressed for time*. Be mindful what you spend your time working on. Good luck!\n",
    "\n",
    ">**NO CHEATING**: If you cheat by emailing or messaging during the midterm (and we can see you from behind), we will close your laptop and ask you to leave in front of everyone, you *will* get an F for the midterm, and have a nice little chat with director Kal. You are only allowed to browse, not to communicate in any shape or form, via email, messaging, or posting. Also, you are not allowed to post or share this midterm with anyone, not now, nor in the future. The other section is taking the midterm *after* spring break."
   ]
  },
  {
   "cell_type": "markdown",
   "metadata": {},
   "source": [
    "<div style=\"text-align: right\">50 points</div>\n",
    "\n",
    "# 1. Blackjack\n",
    "\n",
    "[Blackjack](https://en.wikipedia.org/wiki/Blackjack) is the American version of a popular global banking game known as **Twenty-One**, whose relatives include *Pontoon* and *Vingt-et-Un*. It is a comparing card game between one or more players and a dealer, where each player in turn competes against the dealer. Players do not compete against each other, they compete against the dealer. It is played with one or more decks of 52 cards, and is the *most widely played casino banking game in the world*.\n",
    "\n",
    "<br />\n",
    "<center>\n",
    "<img src = ipynb.images/bj.jpg width = 500 />\n",
    "</center>\n",
    "\n",
    "Players are each dealt two cards, face up or down depending on the casino and the table. In the U.S., the dealer is also dealt two cards, normally one up (exposed) and one down (hidden). In most other countries, the dealer only receives one card face up. The value of cards two through ten is their pip value (2 through 10). Face cards (Jack, Queen, and King) are all worth ten. Aces can be worth one *or* eleven. A hand's value is the sum of the card values. Players are allowed to draw additional cards to improve their hands. A hand with an ace valued as 11 is called \"*soft*\", meaning that the hand will not bust by taking an additional card. The value of the ace will become one to prevent the hand from exceeding 21.\n",
    "\n",
    "<br />\n",
    "<center>\n",
    "<img src = ipynb.images/bj.webp width = 300 />\n",
    "</center>\n",
    "\n",
    "Once all the players have completed their hands, it is the dealer's turn. The dealer hand will not be completed if all players have either busted or received *blackjacks* (=21). The dealer then reveals the hidden card and must hit (draw another card) until the cards total up to 17 points. At 17 points or higher the dealer *must* stay (at most tables the dealer also hits on a \"*soft*\" 17, i.e. a hand containing an ace and one or more other cards totaling six). You are betting that you have a better hand than the dealer. The better hand is the hand where the sum of the card values is closer to 21 without exceeding 21. The detailed outcome of the hand follows:\n",
    "\n",
    "- If the player is dealt an Ace and a ten-value card (called a \"*blackjack*\" or \"*natural*\"), and the dealer does not, the player wins and usually receives a bonus.\n",
    "- If the player exceeds a sum of 21 (\"*busts*\"); the player loses, even if the dealer also exceeds 21.\n",
    "- If the dealer exceeds 21 (\"*busts*\") and the player does not; the player wins.\n",
    "- If the player attains a final sum higher than the dealer and does not bust; the player wins.\n",
    "- If both dealer and player receive a blackjack or any other hands with the same sum, called a \"*push*\", *no one* wins.\n",
    "\n",
    "Here's a game of blackjack in code:"
   ]
  },
  {
   "cell_type": "code",
   "execution_count": 2,
   "metadata": {},
   "outputs": [],
   "source": [
    "from random import random\n",
    "from random import choice\n",
    "\n",
    "# available card colours\n",
    "card_colours = [\"diamonds\", \"heart\", \"spades\", \"clubs\"]\n",
    "\n",
    "# match the number or name of the card with its value inside the game\n",
    "card_value = {\n",
    "    'A': 11,\n",
    "    '2': 2,\n",
    "    '3': 3,\n",
    "    '4': 4,\n",
    "    '5': 5,\n",
    "    '6': 6,\n",
    "    '7': 7,\n",
    "    '8': 8,\n",
    "    '9': 9,\n",
    "    '10': 10,\n",
    "    'J': 10,\n",
    "    'Q': 10,\n",
    "    'K': 10\n",
    "}\n",
    "\n",
    "\n",
    "def calculate_score(card_list):\n",
    "    \"\"\"Calculate the score based on a list of cards\n",
    "    Args:\n",
    "        card_list: list of cards\n",
    "    Returns:\n",
    "        total score of the list of cards\n",
    "    \"\"\"\n",
    "    total = 0\n",
    "    for card in card_list:\n",
    "        # Normally 'A' card is 11 points, but user can decide in case the sum of the score is above 21, to count\n",
    "        # 'A' as 1 instead of 11, so if we find an ace and we are at 11 or more score, it will count as 1 point.\n",
    "        if total >= 11 and card == 'A':\n",
    "            total += 1\n",
    "        else:\n",
    "            total += card_value[card]\n",
    "    return total\n",
    "\n",
    "\n",
    "def play_turn(deck):\n",
    "    \"\"\"Run a turn of Blackjack for a player\n",
    "    Args:\n",
    "        deck: list of cards available\n",
    "    Returns:\n",
    "        total score of the turn\n",
    "    \"\"\"\n",
    "    # We will store all the cards that come out in the following list\n",
    "    table_cards = []\n",
    "    user_input = 'y'\n",
    "    \n",
    "    # While user says 'y' and the player hasn't lost, cards will come out\n",
    "    while user_input == 'y':\n",
    "        \n",
    "        # Calculate random card position\n",
    "        position = int(random() * len(deck))\n",
    "        \n",
    "        # Give card\n",
    "        print (deck[position])\n",
    "        table_cards.append(deck[position][0])\n",
    "        del deck[position]\n",
    "        \n",
    "        # Check if you lost, if you did the cycle will break\n",
    "        if calculate_score(table_cards) >= 21:\n",
    "            break\n",
    "            \n",
    "        # We ask the user through raw_input function if he wants another card\n",
    "        #user_input = raw_input('Do you want another card? (Y)')\n",
    "        # Here we randomly pick 'y' or 'n':\n",
    "        user_input = choice(['y', 'n'])\n",
    "        \n",
    "    print (\"Your score is: %d\" % calculate_score(table_cards))\n",
    "    \n",
    "    # Return the round total score\n",
    "    return calculate_score(table_cards)\n",
    "\n",
    "\n",
    "def game():\n",
    "    # Define an empty deck\n",
    "    deck = []\n",
    "    \n",
    "    # Populate the deck with all the 52 cards\n",
    "    # For each colour...\n",
    "    for colour in card_colours:\n",
    "        # And for each card\n",
    "        for card in card_value:\n",
    "            # Append a card-colour couple in form of a tuple, the deck will look like this:\n",
    "            # [('A', 'diamonds'), ('2', 'diamonds'), ('3', 'diamonds')...]\n",
    "            deck.append((card, colour))\n",
    "\n",
    "    # Create a list of players\n",
    "    players = ['player1', 'player2']\n",
    "\n",
    "    max_score = 0\n",
    "    winner = None\n",
    "\n",
    "    # run the game one time per player\n",
    "    for player in players:\n",
    "        print (\"\\n%s, your turn starts now!\" % player)\n",
    "        score = play_turn(deck)\n",
    "        \n",
    "        # We check who is winning the match, if the current player score is above previous highest,\n",
    "        # he is the new winner\n",
    "        if 21 >= score > max_score:\n",
    "            max_score = score\n",
    "            winner = player\n",
    "\n",
    "    print (\"Winner is %s\" % winner)"
   ]
  },
  {
   "cell_type": "markdown",
   "metadata": {},
   "source": [
    "Go ahead, play a game of blackjack:"
   ]
  },
  {
   "cell_type": "code",
   "execution_count": 3,
   "metadata": {},
   "outputs": [
    {
     "name": "stdout",
     "output_type": "stream",
     "text": [
      "\n",
      "player1, your turn starts now!\n",
      "('5', 'spades')\n",
      "('7', 'diamonds')\n",
      "Your score is: 12\n",
      "\n",
      "player2, your turn starts now!\n",
      "('J', 'heart')\n",
      "('7', 'spades')\n",
      "Your score is: 17\n",
      "Winner is player2\n"
     ]
    }
   ],
   "source": [
    "game()"
   ]
  },
  {
   "cell_type": "markdown",
   "metadata": {},
   "source": [
    "### Question 1\n",
    "Now, *modify* the code above to follow the *american* rules of blackjack described above, so that player 1 is **you** and player 2 is the **dealer**. You have to modify the code *above*, not any other package.\n",
    "\n"
   ]
  },
  {
   "cell_type": "code",
   "execution_count": 4,
   "metadata": {},
   "outputs": [],
   "source": [
    "from random import random\n",
    "from random import choice\n",
    "\n",
    "# available card colours\n",
    "card_colours = [\"diamonds\", \"heart\", \"spades\", \"clubs\"]\n",
    "\n",
    "# match the number or name of the card with its value inside the game\n",
    "card_value = {\n",
    "    'A': 11,\n",
    "    '2': 2,\n",
    "    '3': 3,\n",
    "    '4': 4,\n",
    "    '5': 5,\n",
    "    '6': 6,\n",
    "    '7': 7,\n",
    "    '8': 8,\n",
    "    '9': 9,\n",
    "    '10': 10,\n",
    "    'J': 10,\n",
    "    'Q': 10,\n",
    "    'K': 10\n",
    "}\n",
    "\n",
    "\n",
    "def calculate_score(card_list):\n",
    "    \"\"\"Calculate the score based on a list of cards\n",
    "    Args:\n",
    "        card_list: list of cards\n",
    "    Returns:\n",
    "        total score of the list of cards\n",
    "    \"\"\"\n",
    "    total = 0\n",
    "    for card in card_list:\n",
    "        # Normally 'A' card is 11 points, but user can decide in case the sum of the score is above 21, to count\n",
    "        # 'A' as 1 instead of 11, so if we find an ace and we are at 11 or more score, it will count as 1 point.\n",
    "        if total >= 11 and card == 'A':\n",
    "            total += 1\n",
    "        else:\n",
    "            total += card_value[card]\n",
    "    return total\n",
    "\n",
    "\n",
    "def play_turn(deck):\n",
    "    \"\"\"Run a turn of Blackjack for a player\n",
    "    Args:\n",
    "        deck: list of cards available\n",
    "    Returns:\n",
    "        total score of the turn\n",
    "    \"\"\"\n",
    "    # We will store all the cards that come out in the following list\n",
    "    table_cards = []\n",
    "    user_input = 'y'\n",
    "    \n",
    "    # While user says 'y' and the player hasn't lost, cards will come out\n",
    "    while user_input == 'y':\n",
    "        \n",
    "        # Calculate random card position\n",
    "        position = int(random() * len(deck))\n",
    "        \n",
    "        # Give card\n",
    "        print (deck[position])\n",
    "        table_cards.append(deck[position][0])\n",
    "        del deck[position]\n",
    "        \n",
    "        # Check if you lost, if you did the cycle will break\n",
    "        if calculate_score(table_cards) >= 21:\n",
    "            break\n",
    "            \n",
    "        # We ask the user through raw_input function if he wants another card\n",
    "        #user_input = raw_input('Do you want another card? (Y)')\n",
    "        # Here we randomly pick 'y' or 'n':\n",
    "        if len(table_cards)>1:\n",
    "            user_input = choice(['y', 'n'])\n",
    "        \n",
    "    print (\"Your score is: %d\" % calculate_score(table_cards))\n",
    "    \n",
    "    # Return the round total score\n",
    "    return calculate_score(table_cards)\n",
    "\n",
    "def dealer_turn(deck):\n",
    "    \"\"\"Run a turn of Blackjack for a player\n",
    "    Args:\n",
    "        deck: list of cards available\n",
    "    Returns:\n",
    "        total score of the turn\n",
    "    \"\"\"\n",
    "    # We will store all the cards that come out in the following list\n",
    "    table_cards = []\n",
    "    user_input = 'y'\n",
    "    \n",
    "    # While user says 'y' and the player hasn't lost, cards will come out\n",
    "    while user_input == 'y':\n",
    "        \n",
    "        # Calculate random card position\n",
    "        position = int(random() * len(deck))\n",
    "        \n",
    "        # Give card\n",
    "        print (deck[position])\n",
    "        table_cards.append(deck[position][0])\n",
    "        del deck[position]\n",
    "        \n",
    "        # Check if you lost, if you did the cycle will break\n",
    "        if calculate_score(table_cards) >= 21:\n",
    "            break\n",
    "            \n",
    "        # We ask the user through raw_input function if he wants another card\n",
    "        #user_input = raw_input('Do you want another card? (Y)')\n",
    "        # Here we randomly pick 'y' or 'n':\n",
    "        if calculate_score(table_cards) >= 17:\n",
    "            user_input = choice(['y', 'n'])\n",
    "        \n",
    "    print (\"Your score is: %d\" % calculate_score(table_cards))\n",
    "    \n",
    "    # Return the round total score\n",
    "    return calculate_score(table_cards)\n",
    "\n",
    "\n",
    "def game_US():\n",
    "    # Define an empty deck\n",
    "    deck = []\n",
    "    \n",
    "    # Populate the deck with all the 52 cards\n",
    "    # For each colour...\n",
    "    for colour in card_colours:\n",
    "        # And for each card\n",
    "        for card in card_value:\n",
    "            # Append a card-colour couple in form of a tuple, the deck will look like this:\n",
    "            # [('A', 'diamonds'), ('2', 'diamonds'), ('3', 'diamonds')...]\n",
    "            deck.append((card, colour))\n",
    "\n",
    "    # Create a list of players\n",
    "    players = ['player', 'dealer']\n",
    "\n",
    "    max_score = 0\n",
    "    winner = None\n",
    "\n",
    "    # run the game one time per player\n",
    "    print (\"Player, your turn starts now!\" )\n",
    "    scoreP = play_turn(deck)\n",
    "    print (\"Dealer, your turn starts now!\" )\n",
    "    scoreD = dealer_turn(deck)\n",
    "        \n",
    "        # We check who is winning the match, if the current player score is above previous highest,\n",
    "        # he is the new winner\n",
    "    if scoreP>scoreD:\n",
    "        \n",
    "        if 21 >= scoreP> max_score:\n",
    "            max_score = scoreP\n",
    "            winner = \"player\"\n",
    "        else:\n",
    "            max_score = scoreD\n",
    "            winner = \"dealer\"\n",
    "    elif scoreP<scoreD:\n",
    "        if 21 >= scoreD> max_score:\n",
    "            max_score = scoreD\n",
    "            winner = \"dealer\"\n",
    "        else:\n",
    "            max_score = scoreP\n",
    "            winner = \"player\"\n",
    "    else:\n",
    "        max_score = scoreP\n",
    "        winner = \"it's a tie\"\n",
    "    \n",
    "\n",
    "    print (\"Winner is %s\" % winner)"
   ]
  },
  {
   "cell_type": "code",
   "execution_count": 5,
   "metadata": {},
   "outputs": [
    {
     "name": "stdout",
     "output_type": "stream",
     "text": [
      "Player, your turn starts now!\n",
      "('K', 'clubs')\n",
      "('3', 'heart')\n",
      "('5', 'clubs')\n",
      "Your score is: 18\n",
      "Dealer, your turn starts now!\n",
      "('5', 'spades')\n",
      "('2', 'clubs')\n",
      "('9', 'clubs')\n",
      "('10', 'heart')\n",
      "Your score is: 26\n",
      "Winner is player\n"
     ]
    }
   ],
   "source": [
    "game_US()"
   ]
  },
  {
   "cell_type": "markdown",
   "metadata": {},
   "source": [
    "### Question 2\n",
    "*Then*, adopt this simple strategy:\n",
    "- If your hand ≥ 18, 'stick' with a probability of 80%, else 'hit' with a probability of 80%. \n",
    "\n",
    "This isn’t an amazing policy but it is simple and you will still be able to win some games. Now, do a Monte Carlo simulation of this strategy and figure out its winning **Expectation** (by playing through thousands of games).\n",
    "\n"
   ]
  },
  {
   "cell_type": "code",
   "execution_count": 9,
   "metadata": {},
   "outputs": [
    {
     "name": "stdout",
     "output_type": "stream",
     "text": [
      "[0 0 0 1 0 1 0 0 0 0 1 0 1 0 0 0 0 1 1 0 0 0 0 0 0 0 0 0 0 1 1 0 0 0 0 0 0\n",
      " 1 0 0 1 1 0 0 0 0 0 0 1 0 0 0 0 1 1 0 0 0 0 1 0 0 1 0 1 1 1 0 1 0 1 0 1 0\n",
      " 0 0 0 0 1 0 0 0 0 0 1 0 0 1 1 1 0 0 0 0 0 0 0 0 0 0 0 0 1 0 0 0 0 0 1 0 0\n",
      " 0 1 0 1 0 0 0 1 0 0 0 0 0 0 0 0 0 1 1 0 0 0 0 0 0 0 0 1 1 0 1 0 1 1 0 0 0\n",
      " 0 0 0 1 0 0 0 0 0 0 0 0 1 0 0 0 0 1 0 0 0 1 0 0 0 1 0 1 0 0 0 0 0 0 0 0 0\n",
      " 0 0 0 0 0 0 0 1 0 1 0 0 0 0 0 0 0 0 0 0 0 0 0 0 0 0 1 0 0 1 0 0 0 0 0 0 1\n",
      " 1 1 1 1 1 0 0 1 0 0 0 0 0 0 0 1 0 0 0 0 1 0 1 0 0 0 0 0 0 0 0 0 0 0 0 1 1\n",
      " 0 0 1 0 0 1 0 1 0 0 0 0 0 0 1 0 0 0 1 0 0 0 0 0 0 0 0 0 0 1 0 0 1 0 0 0 1\n",
      " 0 1 1 0 0 0 0 0 1 0 0 0 0 0 0 0 0 0 0 0 1 0 1 0 0 0 0 0 0 0 0 0 0 0 1 0 0\n",
      " 1 0 0 0 0 0 1 1 0 0 0 0 0 1 0 0 0 0 1 1 0 0 1 0 1 0 0 0 0 0 0 0 0 1 0 1 0\n",
      " 0 1 0 0 1 0 1 0 1 0 0 1 0 0 0 1 0 0 0 0 0 1 0 0 1 1 0 0 0 0 0 0 0 1 0 0 0\n",
      " 0 0 1 0 1 0 1 1 0 1 0 0 0 0 0 0 0 1 0 0 1 0 0 0 1 0 1 0 0 0 0 0 0 0 0 0 0\n",
      " 0 0 0 0 1 0 0 0 0 0 0 0 0 0 0 0 1 0 0 1 0 0 1 0 0 0 0 1 0 0 1 0 1 0 0 0 1\n",
      " 0 0 1 1 0 1 0 0 1 0 0 0 0 1 0 0 1 0 1 0 0 0 0 0 0 0 0 0 0 1 1 0 0 1 0 0 0\n",
      " 0 0 0 0 0 1 0 0 1 0 0 0 0 1 0 0 1 1 0 0 1 1 0 0 1 1 0 1 0 0 0 1 0 1 1 0 0\n",
      " 0 0 0 0 1 0 1 0 0 0 1 0 0 0 1 0 0 0 0 1 0 0 0 0 0 0 0 0 1 0 0 0 0 1 0 0 0\n",
      " 0 0 0 1 0 0 1 1 0 0 0 0 1 1 0 0 1 0 0 0 0 0 0 1 0 0 0 0 0 0 0 0 0 0 1 1 0\n",
      " 0 0 0 0 0 0 0 1 0 0 0 0 0 0 0 0 0 0 0 0 1 0 0 0 0 0 0 0 0 0 0 0 1 1 0 0 0\n",
      " 0 0 0 0 0 0 0 0 1 0 0 0 0 0 0 0 0 0 0 0 1 0 0 1 0 1 1 1 0 1 0 0 1 0 0 0 0\n",
      " 0 1 1 0 0 0 0 0 1 0 0 0 0 0 0 1 0 1 0 0 1 0 0 0 0 0 0 0 0 0 0 0 0 1 0 0 0\n",
      " 0 0 0 0 0 0 0 0 0 0 0 0 1 0 0 0 0 0 0 0 0 1 0 0 0 1 0 0 0 0 1 1 1 0 0 0 0\n",
      " 0 0 0 1 0 0 0 0 1 0 0 0 0 0 0 0 0 1 0 0 0 0 0 0 0 0 0 0 0 0 0 1 0 0 1 1 0\n",
      " 0 0 0 1 0 1 1 0 0 0 1 0 0 1 0 0 0 1 0 1 1 1 0 0 1 0 0 1 1 0 1 0 1 1 0 0 0\n",
      " 0 1 1 1 0 1 0 0 1 0 0 0 0 0 0 0 1 0 0 0 0 0 0 1 0 1 0 0 0 0 0 0 0 1 1 0 0\n",
      " 0 0 1 0 0 0 0 0 1 0 0 0 0 0 0 0 0 0 0 0 0 0 0 1 1 0 0 0 0 0 0 0 1 0 1 0 1\n",
      " 1 0 0 1 0 0 0 0 0 0 1 0 0 0 1 0 0 0 0 0 0 1 0 1 0 0 0 0 0 1 0 1 1 1 0 0 0\n",
      " 0 0 0 0 0 0 0 0 0 0 0 1 0 0 1 1 0 1 0 0 1 0 1 0 0 0 0 0 0 0 0 0 0 0 0 0 0\n",
      " 0]\n",
      "(0.20499220621838002, 0.2571044224802014)\n"
     ]
    },
    {
     "data": {
      "image/png": "[encoded data removed]",
      "text/plain": [
       "<Figure size 432x288 with 1 Axes>"
      ]
     },
     "metadata": {
      "needs_background": "light"
     },
     "output_type": "display_data"
    }
   ],
   "source": [
    "%matplotlib inline\n",
    "import numpy as np\n",
    "import pandas as pd\n",
    "from scipy import stats\n",
    "import matplotlib.pylab as plt\n",
    "\n",
    "# our events is a list of 0s and 1s, at fixed probabilities\n",
    "flipcoin = np.random.choice(a= [0, 1],\n",
    "                            p = [0.8, 0.2],\n",
    "                            size=1000)\n",
    "print(flipcoin)\n",
    "successes = flipcoin.sum()\n",
    "failures = len(flipcoin) - successes\n",
    "\n",
    "# prior parameters\n",
    "alpha, beta = 1, 1\n",
    "\n",
    "# calculate posterior distribution, using a beta distribution\n",
    "posterior = stats.beta(alpha + successes, beta + failures)\n",
    "\n",
    "# mean and 95% credible interval\n",
    "mean = posterior.mean()\n",
    "cr = posterior.interval(0.95)\n",
    "print(cr)\n",
    "\n",
    "#posterior distribution for plotting\n",
    "xs = np.linspace(0, 1, num=1000)\n",
    "pdf = posterior.pdf(xs)\n",
    "plt.plot(pdf)\n",
    "plt.xlabel('x')\n",
    "plt.ylabel('y')\n",
    "plt.title('pdf')\n",
    "plt.grid(True)\n",
    "plt.show()"
   ]
  },
  {
   "cell_type": "markdown",
   "metadata": {},
   "source": [
    "### Question 3\n",
    "Now let's say that you want to know the value of holding a hand of 15 while the dealer is showing, let's say, a 10. This is an example of a **prediction** problem. Each time the agent carries out action A in state S for the first time in that game, it will calculate the reward of the game from that point onwards. By doing this, you can determine how valuable it is to be in that current state.\n",
    "\n",
    "Suppose you run this Monte Carlo simulation many times and you come up with the followind strategy table:\n",
    "\n",
    "<br />\n",
    "<center>\n",
    "<img src = ipynb.images/strategy.png width = 500 />\n",
    "</center>\n",
    "\n",
    "Now *implement* this strategy in code, run a Monte Carlo simulation, and compare the winning percentage with the previous strategy. `S` is **stick** (*no more cards, please*), `H` is **hit** (*please give me another card Mr. Dealer*), and assume `D` is **hit** as well. Which is a better strategy and by how much?"
   ]
  },
  {
   "cell_type": "code",
   "execution_count": null,
   "metadata": {},
   "outputs": [],
   "source": []
  },
  {
   "cell_type": "markdown",
   "metadata": {},
   "source": [
    "<div style=\"text-align: right\">50 points</div>\n",
    "\n",
    "# 2. Fair or Crooked?\n",
    "\n",
    "We have a coin and we don't know if it's fair or not. Let's see if it's **fair**, with a little bit of help from Data Science! We will compute a **p-value**, but using **Bayesian estimation** instead of a t-test! This is a ***real*** test statistic, where we visit parallel universes, but we use real Bayesian simulations instead of assuming that the data is *pretty* or that we have a Student-T distribution.\n",
    "\n",
    "<br />\n",
    "<center>\n",
    "<img src = ipynb.images/coin-toss.jpg width = 300 />\n",
    "</center>\n",
    "\n",
    "So we toss the coin a thousand times and record the following tosses: "
   ]
  },
  {
   "cell_type": "code",
   "execution_count": 1,
   "metadata": {},
   "outputs": [],
   "source": [
    "alltosses = '''TTTTHTHHTHHTTHHHHTTHHHTHHTHTTHHHHHTHTTTTHHTTHHTHHTTTHTHHHTHTHHTTTHHHHTHHTTHTHTHHTHHTTHHTHTHTHHHHHHHTT\n",
    "HTHHTTTTTHHTHTTTTTHHTHHHTTHTHHTHHTTHHTHTHTHTHHHTTTTHTTHTTHTTHHHTHHTHTHTTHHHHHTTHHHHHTHHTHHTTHHTTTTTHTTHHHHHTTTTTTHHH\n",
    "THTHHTTTTHTHTHHTTHTHHHHHHHTTHTTHTTTHHTTTHHTTHHHHHHTTTHTHHHHTHTHHTTTHHTHHTHTHTHHTHHTTHHHHHTTTTHTTHHTHTHHTHTHTHHHHHHTT\n",
    "TTTHTTHTTHHHTTHHTHTTHHTHHHTTTTTHHHTHTHTTTHHHHTTTTHTTTHTTTHHTHHHHTHTHHHTHHTHTTHTTTHTHHTTTHHHHHTTHHHTTHHTTTHHTTTTHHHHT\n",
    "HTTTHHHTTTHTHHTHHTHTHHHTHTHTTTHTHTHTTHTTTHHHTTHTTHHTTHHHTHHHHHTTTTHTTHTHHHHTTHHHTTTHHHHTTHHTTTTTHHTTTHHHTTTTTTHTHHTH\n",
    "HHHTHHHTHTHTTTTTTTHTTHHTHHHTHHTTTTTTHHTHTHHTTTTHTHTTTTHTHHHTTHHTTTHTHTTTHHTHHHTTTTHHHHHTTTHHHTTTHTHHTTTTHTHHHHHHTHHH\n",
    "TTHTHHHHHTHTHTTHHTHHTTHTHTHTHHTTHTTHHTHHTTHTTHHHHHHTTTHTTHHHHHTTTHHTHHHTTHTHHTTHHTTTTHTTHTTTHHHTHHTTHTTHHTTTTHHTTTHH\n",
    "HHHTTTTHHHTHTHHHTTTTTHTHTHTHHTHTTHHHHTTHTTTHTTHHHTHTHTTHHHHTHHTHTHTHHTTTHHHTHTTHHTTHTTHTTTTHHHHHTHHHHTTTHHHHTTHHHHHT\n",
    "HHTHTTHTTHHHTTHTHTTTTTHTTTTTHHHTTTHTTHTHTHHHTHHTHTTHHHTHTHTTTTTTHTTHHHHTHHHHHHHTHHTTTHH'''"
   ]
  },
  {
   "cell_type": "markdown",
   "metadata": {},
   "source": [
    "Use this cell to remove carriage returns:"
   ]
  },
  {
   "cell_type": "code",
   "execution_count": 2,
   "metadata": {},
   "outputs": [
    {
     "data": {
      "text/plain": [
       "'TTTTHTHHTHHTTHHHHTTHHHTHHTHTTHHHHHTHTTTTHHTTHHTHHTTTHTHHHTHTHHTTTHHHHTHHTTHTHTHHTHHTTHHTHTHTHHHHHHHTTHTHHTTTTTHHTHTTTTTHHTHHHTTHTHHTHHTTHHTHTHTHTHHHTTTTHTTHTTHTTHHHTHHTHTHTTHHHHHTTHHHHHTHHTHHTTHHTTTTTHTTHHHHHTTTTTTHHHTHTHHTTTTHTHTHHTTHTHHHHHHHTTHTTHTTTHHTTTHHTTHHHHHHTTTHTHHHHTHTHHTTTHHTHHTHTHTHHTHHTTHHHHHTTTTHTTHHTHTHHTHTHTHHHHHHTTTTTHTTHTTHHHTTHHTHTTHHTHHHTTTTTHHHTHTHTTTHHHHTTTTHTTTHTTTHHTHHHHTHTHHHTHHTHTTHTTTHTHHTTTHHHHHTTHHHTTHHTTTHHTTTTHHHHTHTTTHHHTTTHTHHTHHTHTHHHTHTHTTTHTHTHTTHTTTHHHTTHTTHHTTHHHTHHHHHTTTTHTTHTHHHHTTHHHTTTHHHHTTHHTTTTTHHTTTHHHTTTTTTHTHHTHHHHTHHHTHTHTTTTTTTHTTHHTHHHTHHTTTTTTHHTHTHHTTTTHTHTTTTHTHHHTTHHTTTHTHTTTHHTHHHTTTTHHHHHTTTHHHTTTHTHHTTTTHTHHHHHHTHHHTTHTHHHHHTHTHTTHHTHHTTHTHTHTHHTTHTTHHTHHTTHTTHHHHHHTTTHTTHHHHHTTTHHTHHHTTHTHHTTHHTTTTHTTHTTTHHHTHHTTHTTHHTTTTHHTTTHHHHHTTTTHHHTHTHHHTTTTTHTHTHTHHTHTTHHHHTTHTTTHTTHHHTHTHTTHHHHTHHTHTHTHHTTTHHHTHTTHHTTHTTHTTTTHHHHHTHHHHTTTHHHHTTHHHHHTHHTHTTHTTHHHTTHTHTTTTTHTTTTTHHHTTTHTTHTHTHHHTHHTHTTHHHTHTHTTTTTTHTTHHHHTHHHHHHHTHHTTTHH'"
      ]
     },
     "execution_count": 2,
     "metadata": {},
     "output_type": "execute_result"
    }
   ],
   "source": [
    "alltosses = alltosses.replace('\\n', '')\n",
    "alltosses "
   ]
  },
  {
   "cell_type": "markdown",
   "metadata": {},
   "source": [
    "For the remainder of the problem, let's assume that `T` is modelled as a `0`, and `H` as a `1`."
   ]
  },
  {
   "cell_type": "markdown",
   "metadata": {},
   "source": [
    "### Question 1\n",
    "\n",
    "Based on the `alltosses` roll above, what is the frequency for each side of the coin? Write this down in the cell below in the form of a `pandas` Series, then a `pandas` dataframe. \n",
    "\n",
    "Call `sides` your pandas series, and `toss_df` your pandas dataframe.\n",
    "\n",
    ">**HINT**: Use a python `Counter` to get `T` and `H` frequencies.\n",
    "```(python)\n",
    "import pandas as pd\n",
    "from collections import Counter\n",
    "sides = pd.Series(...\n",
    "```"
   ]
  },
  {
   "cell_type": "code",
   "execution_count": 3,
   "metadata": {},
   "outputs": [
    {
     "data": {
      "text/plain": [
       "T    484\n",
       "H    516\n",
       "dtype: int64"
      ]
     },
     "execution_count": 3,
     "metadata": {},
     "output_type": "execute_result"
    }
   ],
   "source": [
    "import pandas as pd\n",
    "from collections import Counter\n",
    "coun = Counter(alltosses)\n",
    "coun\n",
    "sides = pd.Series(coun)\n",
    "sides"
   ]
  },
  {
   "cell_type": "markdown",
   "metadata": {},
   "source": [
    "Now plot the histogram."
   ]
  },
  {
   "cell_type": "code",
   "execution_count": 50,
   "metadata": {},
   "outputs": [
    {
     "data": {
      "text/plain": [
       "(array([1., 0., 0., 0., 0., 0., 0., 0., 0., 1.]),\n",
       " array([484. , 487.2, 490.4, 493.6, 496.8, 500. , 503.2, 506.4, 509.6,\n",
       "        512.8, 516. ]),\n",
       " <a list of 10 Patch objects>)"
      ]
     },
     "execution_count": 50,
     "metadata": {},
     "output_type": "execute_result"
    },
    {
     "data": {
      "image/png": "[encoded data removed]",
      "text/plain": [
       "<Figure size 432x288 with 1 Axes>"
      ]
     },
     "metadata": {
      "needs_background": "light"
     },
     "output_type": "display_data"
    }
   ],
   "source": [
    "import matplotlib.pyplot as plt\n",
    "plt.hist(sides)"
   ]
  },
  {
   "cell_type": "code",
   "execution_count": 5,
   "metadata": {},
   "outputs": [
    {
     "data": {
      "text/html": [
       "<div>\n",
       "<style scoped>\n",
       "    .dataframe tbody tr th:only-of-type {\n",
       "        vertical-align: middle;\n",
       "    }\n",
       "\n",
       "    .dataframe tbody tr th {\n",
       "        vertical-align: top;\n",
       "    }\n",
       "\n",
       "    .dataframe thead th {\n",
       "        text-align: right;\n",
       "    }\n",
       "</style>\n",
       "<table border=\"1\" class=\"dataframe\">\n",
       "  <thead>\n",
       "    <tr style=\"text-align: right;\">\n",
       "      <th></th>\n",
       "      <th>0</th>\n",
       "    </tr>\n",
       "  </thead>\n",
       "  <tbody>\n",
       "    <tr>\n",
       "      <th>T</th>\n",
       "      <td>484</td>\n",
       "    </tr>\n",
       "    <tr>\n",
       "      <th>H</th>\n",
       "      <td>516</td>\n",
       "    </tr>\n",
       "  </tbody>\n",
       "</table>\n",
       "</div>"
      ],
      "text/plain": [
       "     0\n",
       "T  484\n",
       "H  516"
      ]
     },
     "execution_count": 5,
     "metadata": {},
     "output_type": "execute_result"
    }
   ],
   "source": [
    "toss_df = pd.DataFrame(sides)\n",
    "toss_df"
   ]
  },
  {
   "cell_type": "markdown",
   "metadata": {},
   "source": [
    "What statistical probability density profile might you match this distribution with?\n",
    "\n",
    "Answer: Binomial"
   ]
  },
  {
   "cell_type": "markdown",
   "metadata": {},
   "source": [
    "Now we ask ourselves: What is the probability of seeing results like this by ***chance***?\n",
    "\n",
    "### Question 2: Hypothesis testing: Is the apparent effect real, or is it due to chance?  \n",
    "\n",
    "To answer that question, we formulate two hypotheses: the **null hypothesis H0** is a model of the tosses if the histogram above is due to ***chance***. The **alternate hypothesis HA** is a model of a **crooked** (unfair) coin.\n",
    "\n",
    "Ideally we should compute the probability of seeing a this empirical histogram effect $E$ under ***both*** hypotheses; that is $P(E \\;|\\; H0)$ and $P(E \\;|\\; \\text{HA})$.  But formulating $HA$ is not always easy, so in conventional hypothesis testing, we just compute $P(E \\;|\\; H0)$, which is the **p-value**.  \n",
    "\n",
    "If the p-value is ***small***, we conclude that our somewhat skewed histogram is unlikely to have occurred by chance, which suggests that the coin is **crooked**.\n",
    "\n",
    "#### Step 1: Build the null hypothesis\n",
    "The first step is to get data from our observations and compute a test statistic. The result is some measure of the size of the effect, or **delta**. For example, if we were comparing the mean of two groups, delta is the **difference in the means**. Since we are comparing actual values with expected values, delta is a **chi-squared** statistic: a measure of the distance between the observed and expected values.\n",
    "\n",
    "#### Step 2: Build a model\n",
    "The next step is to build a model from our empirical observations and generate simulated data. Then we'll apply the test statistic to the simulated data.\n",
    "\n",
    "#### Step 3: How many times does the test statistic for the simulated data *exceed the delta*?\n",
    "The last step is the easiest: Count how many times the test statistic for the simulated data exceeds the delta from the null hypothesis simulation. That's the **p-value**!"
   ]
  },
  {
   "cell_type": "markdown",
   "metadata": {},
   "source": [
    "To compute a p-value, we have to choose a test statistic that measures how *unexpected* the histogram above is.  The **chi-squared** statistic is a reasonable choice: for each coinc toss we compare the expected frequency and the observed frequency and compute the sum of the squared relative differences.\n",
    "\n",
    "We have 2 sides to the coin, thus we expect the following frequency for each toss:"
   ]
  },
  {
   "cell_type": "code",
   "execution_count": 6,
   "metadata": {},
   "outputs": [
    {
     "data": {
      "text/plain": [
       "500.0"
      ]
     },
     "execution_count": 6,
     "metadata": {},
     "output_type": "execute_result"
    }
   ],
   "source": [
    "len(alltosses)/2"
   ]
  },
  {
   "cell_type": "code",
   "execution_count": 7,
   "metadata": {},
   "outputs": [
    {
     "data": {
      "text/plain": [
       "['T', 'T', 'T', 'T', 'H', 'T', 'H', 'H', 'T', 'H']"
      ]
     },
     "execution_count": 7,
     "metadata": {},
     "output_type": "execute_result"
    }
   ],
   "source": [
    "observed_tosses = [x for x in alltosses]\n",
    "observed_tosses[:10]"
   ]
  },
  {
   "cell_type": "markdown",
   "metadata": {},
   "source": [
    "Use a **list comprehension** to get a list of numbers, either 0 or 1, representing our observations. use 0 for `T` and ` for `H`:"
   ]
  },
  {
   "cell_type": "code",
   "execution_count": 8,
   "metadata": {},
   "outputs": [
    {
     "data": {
      "text/plain": [
       "[0, 0, 0, 0, 1, 0, 1, 1, 0, 1]"
      ]
     },
     "execution_count": 8,
     "metadata": {},
     "output_type": "execute_result"
    }
   ],
   "source": [
    "ccc={'T':0,'H':1}\n",
    "bbb=[ccc[i] if i in ccc else i for i in alltosses]\n",
    "observed_tosses_bin = [x for x in bbb]\n",
    "observed_tosses_bin[:10]"
   ]
  },
  {
   "cell_type": "markdown",
   "metadata": {},
   "source": [
    "Now we define a **Chi squared** statistic to measure the difference between an expected distribution and an observed one:"
   ]
  },
  {
   "cell_type": "code",
   "execution_count": 9,
   "metadata": {},
   "outputs": [
    {
     "data": {
      "text/plain": [
       "16.0"
      ]
     },
     "execution_count": 9,
     "metadata": {},
     "output_type": "execute_result"
    }
   ],
   "source": [
    "import numpy as np\n",
    "def ChiSquared(observed, expected):\n",
    "    total = 0\n",
    "    for obs in observed:\n",
    "        total += obs\n",
    "    return np.abs(total - expected)\n",
    "\n",
    "ChiSquared(observed_tosses_bin, len(alltosses)/2)"
   ]
  },
  {
   "cell_type": "markdown",
   "metadata": {},
   "source": [
    "For the observed frequencies, the chi-squared statistic is 16.  By itself, this number doesn't mean anything.  We have to ***compare it*** to results from the **null hypothesis**.\n",
    "\n",
    "We may also need a chi statistic to compare draws from the null hypothesis with draws from the alternate hypothesis. Here it is:"
   ]
  },
  {
   "cell_type": "code",
   "execution_count": 10,
   "metadata": {},
   "outputs": [],
   "source": [
    "def ChiSquared2(observed, expected):\n",
    "    total = 0\n",
    "    both = zip(observed, expected)\n",
    "    for obs, exp in zip(observed, expected):\n",
    "        total += np.abs(obs - exp)\n",
    "    return total"
   ]
  },
  {
   "cell_type": "markdown",
   "metadata": {},
   "source": [
    "Now we need code that generates *simulated* data. Let's do Bayesian estimation to simulate data with the same statistics as our empirical observations, and then also write a null hypothesis (fair data) simulator."
   ]
  },
  {
   "cell_type": "markdown",
   "metadata": {},
   "source": [
    "In the pymc3 simulation below, you will pick your data likelihood function from a list of statistical functions (pdfs). Make sure you pick the right one. My symbol for this function is `???`. Pick the right one and import it from `pymc3`.\n",
    "\n",
    "In Bayesian estimation, we *also* assign pdfs to the parameter(s). Use the [logistic]() function to assign a pdf to the first parameter of your ??? distribution, and a Normal distribution to the parameter itself. That is a very common practice for any binary variable in ML. We will use a large standard deviation (10) because we have no idea what the parametes should be. "
   ]
  },
  {
   "cell_type": "code",
   "execution_count": 22,
   "metadata": {
    "scrolled": true
   },
   "outputs": [],
   "source": [
    "from pymc3 import Model, Normal, Bernoulli\n",
    "import theano.tensor as T\n",
    "\n",
    "def logistic(l):\n",
    "    return 1 / (1 + T.exp(-l))\n",
    "\n",
    "with Model() as toss_model:\n",
    "    mu = Normal('mu', mu=0, sd=10)\n",
    "    \n",
    "with toss_model:\n",
    "    toss_like =  Bernoulli('toss_like', p=logistic(mu), observed=observed_tosses_bin)"
   ]
  },
  {
   "cell_type": "markdown",
   "metadata": {},
   "source": [
    "And now we find a solution for `mu` using pymc3. We run for 1,000 timesteps and we hope we converge!"
   ]
  },
  {
   "cell_type": "code",
   "execution_count": 23,
   "metadata": {},
   "outputs": [],
   "source": [
    "RANDOM_SEED = 42"
   ]
  },
  {
   "cell_type": "code",
   "execution_count": 24,
   "metadata": {},
   "outputs": [
    {
     "name": "stderr",
     "output_type": "stream",
     "text": [
      "Average Loss = 698.86: 100%|██████████| 10000/10000 [00:07<00:00, 1384.20it/s]\n",
      "Finished [100%]: Average Loss = 698.86\n",
      "INFO (theano.gof.compilelock): Refreshing lock C:\\Users\\92967\\AppData\\Local\\Theano\\compiledir_Windows-10-10.0.18362-SP0-Intel64_Family_6_Model_142_Stepping_11_GenuineIntel-3.7.4-64\\lock_dir\\lock\n"
     ]
    }
   ],
   "source": [
    "from pymc3 import fit\n",
    "\n",
    "with toss_model: \n",
    "    toss_trace = fit(random_seed=RANDOM_SEED).sample(1000)"
   ]
  },
  {
   "cell_type": "markdown",
   "metadata": {},
   "source": [
    "We now plot the posterior distribution for `mu` in order to find its most likely value (the mean of the posterior):"
   ]
  },
  {
   "cell_type": "code",
   "execution_count": 25,
   "metadata": {
    "scrolled": true
   },
   "outputs": [
    {
     "name": "stderr",
     "output_type": "stream",
     "text": [
      "C:\\Users\\92967\\Anaconda3\\lib\\site-packages\\pymc3\\plots\\__init__.py:21: UserWarning: Keyword argument `varnames` renamed to `var_names`, and will be removed in pymc3 3.8\n",
      "  warnings.warn('Keyword argument `{old}` renamed to `{new}`, and will be removed in pymc3 3.8'.format(old=old, new=new))\n"
     ]
    },
    {
     "data": {
      "image/png": "[encoded data removed]",
      "text/plain": [
       "<Figure size 432x288 with 1 Axes>"
      ]
     },
     "metadata": {
      "needs_background": "light"
     },
     "output_type": "display_data"
    }
   ],
   "source": [
    "from pymc3 import plot_posterior\n",
    "\n",
    "plot_posterior(toss_trace[100:], \n",
    "                varnames=['mu'],\n",
    "                color='#87ceeb');"
   ]
  },
  {
   "cell_type": "code",
   "execution_count": 26,
   "metadata": {},
   "outputs": [
    {
     "data": {
      "text/plain": [
       "0.48100914005407436"
      ]
     },
     "execution_count": 26,
     "metadata": {},
     "output_type": "execute_result"
    }
   ],
   "source": [
    "1 / (1 + np.exp(0.076))"
   ]
  },
  {
   "cell_type": "markdown",
   "metadata": {},
   "source": [
    "Now plot the *simulated* (fake) distribution of coin tosses, based on the statistics of the observed coin tosses. Make sure to import the *same* likelihood pdf you used from pymc3, but this time import it from `scipy.stats.distributions` (note: the captialization of the distribution in scipy may be different):"
   ]
  },
  {
   "cell_type": "code",
   "execution_count": 29,
   "metadata": {},
   "outputs": [
    {
     "data": {
      "text/plain": [
       "[<matplotlib.lines.Line2D at 0x214fffc5308>]"
      ]
     },
     "execution_count": 29,
     "metadata": {},
     "output_type": "execute_result"
    },
    {
     "data": {
      "image/png": "[encoded data removed]",
      "text/plain": [
       "<Figure size 432x288 with 1 Axes>"
      ]
     },
     "metadata": {
      "needs_background": "light"
     },
     "output_type": "display_data"
    }
   ],
   "source": [
    "from scipy.stats.distributions import bernoulli\n",
    "import numpy as np\n",
    "\n",
    "mu_posterior_mean = 1 / (1 + np.exp(0.076))\n",
    "\n",
    "pd.DataFrame(observed_tosses_bin).hist(normed=True)\n",
    "plt.plot(np.linspace(0, 1), bernoulli.pmf(np.linspace(0, 1), mu_posterior_mean))"
   ]
  },
  {
   "cell_type": "markdown",
   "metadata": {},
   "source": [
    "Does it match the observed distribution?\n",
    "\n",
    "If it does, we are now ready to simulate, i.e. generate fake coin tosses. This is called **generating posterior predictive checks**:\n",
    "\n",
    "Posterior predictive checks (PPCs) *validate* your model: You generate data from the model using parameters from draws from the posterior. The `samples` parameter is how many of these simulations you want to run.\n",
    "\n",
    "Here is one way of doing it (deprecated):"
   ]
  },
  {
   "cell_type": "code",
   "execution_count": 30,
   "metadata": {},
   "outputs": [
    {
     "name": "stderr",
     "output_type": "stream",
     "text": [
      "C:\\Users\\92967\\Anaconda3\\lib\\site-packages\\ipykernel_launcher.py:4: DeprecationWarning: sample_ppc() is deprecated.  Please use sample_posterior_predictive()\n",
      "  after removing the cwd from sys.path.\n",
      "C:\\Users\\92967\\Anaconda3\\lib\\site-packages\\pymc3\\sampling.py:1247: UserWarning: samples parameter is smaller than nchains times ndraws, some draws and/or chains may not be represented in the returned posterior predictive sample\n",
      "  \"samples parameter is smaller than nchains times ndraws, some draws \"\n",
      "  0%|          | 0/1 [00:00<?, ?it/s]INFO (theano.gof.compilelock): Refreshing lock C:\\Users\\92967\\AppData\\Local\\Theano\\compiledir_Windows-10-10.0.18362-SP0-Intel64_Family_6_Model_142_Stepping_11_GenuineIntel-3.7.4-64\\lock_dir\\lock\n",
      "100%|██████████| 1/1 [00:01<00:00,  1.88s/it]\n"
     ]
    }
   ],
   "source": [
    "from pymc3 import sample_ppc\n",
    "\n",
    "with toss_model:\n",
    "    toss_ppc = sample_ppc(toss_trace, samples=1)"
   ]
  },
  {
   "cell_type": "markdown",
   "metadata": {},
   "source": [
    "Here is another way (the preferred one):"
   ]
  },
  {
   "cell_type": "code",
   "execution_count": 31,
   "metadata": {},
   "outputs": [
    {
     "name": "stderr",
     "output_type": "stream",
     "text": [
      "C:\\Users\\92967\\Anaconda3\\lib\\site-packages\\pymc3\\sampling.py:1247: UserWarning: samples parameter is smaller than nchains times ndraws, some draws and/or chains may not be represented in the returned posterior predictive sample\n",
      "  \"samples parameter is smaller than nchains times ndraws, some draws \"\n",
      "100%|██████████| 1/1 [00:00<00:00, 440.07it/s]\n"
     ]
    }
   ],
   "source": [
    "from pymc3 import sample_posterior_predictive\n",
    "ppc = sample_posterior_predictive(toss_trace, samples=1, model=toss_model)"
   ]
  },
  {
   "cell_type": "code",
   "execution_count": 32,
   "metadata": {},
   "outputs": [
    {
     "data": {
      "text/plain": [
       "(1, 1000)"
      ]
     },
     "execution_count": 32,
     "metadata": {},
     "output_type": "execute_result"
    }
   ],
   "source": [
    "toss_ppc['toss_like'].shape"
   ]
  },
  {
   "cell_type": "code",
   "execution_count": 33,
   "metadata": {},
   "outputs": [
    {
     "data": {
      "text/plain": [
       "array([1, 1, 1, 1, 1, 0, 0, 1, 1, 0, 1, 1, 1, 0, 1, 1, 0, 1, 1, 0])"
      ]
     },
     "execution_count": 33,
     "metadata": {},
     "output_type": "execute_result"
    }
   ],
   "source": [
    "simulated_tosses = toss_ppc['toss_like'][0]\n",
    "simulated_tosses[:20]"
   ]
  },
  {
   "cell_type": "code",
   "execution_count": 34,
   "metadata": {},
   "outputs": [
    {
     "data": {
      "text/plain": [
       "'1111100110111011011011111011100100110010011011110111110000011100100100011111011111110111011001010101101111100110101111010111101111110000011010111000011101101101011100001011001010111110010011101110011101011101000111011001001101000110110111110000111111100001101101110001011010001001100111101011000101101111111110011101010001110110011100011001100010001001111001011001101010100111100100110101011101101010110011001000110110111111110000010010001010000010001000011100101101111111011100000000000101000111000110000011111110111011100000101010011000010010111000111010100011111101111010000010011101111111110000111111110011111000000000110010010111010001111110011111110010101000110111101110111110001101001001101100010111110011001100111110001011000010101100110100101110101001001011000010101011011001100111111110001111101010000101010101001000101100010011100010110110110011000110000011101101101010010001010111001101010111100100101101110011111011010110011111000101101011001110101100001010001011001010101011100100110001'"
      ]
     },
     "execution_count": 34,
     "metadata": {},
     "output_type": "execute_result"
    }
   ],
   "source": [
    "faketosses = ''.join([str(int(x)) for x in simulated_tosses])\n",
    "faketosses"
   ]
  },
  {
   "cell_type": "code",
   "execution_count": 35,
   "metadata": {},
   "outputs": [
    {
     "data": {
      "text/plain": [
       "1000"
      ]
     },
     "execution_count": 35,
     "metadata": {},
     "output_type": "execute_result"
    }
   ],
   "source": [
    "len(faketosses)"
   ]
  },
  {
   "cell_type": "markdown",
   "metadata": {},
   "source": [
    "Now we can simulate our coin (i,e. simulate similar statistics to our heart's content):"
   ]
  },
  {
   "cell_type": "code",
   "execution_count": 36,
   "metadata": {},
   "outputs": [],
   "source": [
    "def SimulateAlternateHypothesisCoin():\n",
    "    with toss_model:\n",
    "        toss_ppc = sample_ppc(toss_trace, samples=1)\n",
    "    simulated_tosses = toss_ppc['toss_like'][0]\n",
    "    return ''.join([str(int(x)) for x in simulated_tosses])"
   ]
  },
  {
   "cell_type": "markdown",
   "metadata": {},
   "source": [
    "And... find a way to simulate a **fair** coin so you get results in the same shape here below:"
   ]
  },
  {
   "cell_type": "code",
   "execution_count": 37,
   "metadata": {},
   "outputs": [],
   "source": [
    "from random import randrange\n",
    "\n",
    "def SimulateNullHypothesisCoin(length):\n",
    "    tosses = ''\n",
    "    for i in range(length):\n",
    "        ...\n",
    "    return tosses"
   ]
  },
  {
   "cell_type": "markdown",
   "metadata": {},
   "source": [
    "How many `H`s do we get from the alternate hypothesis simulation, and from the null hypothesis simulation?"
   ]
  },
  {
   "cell_type": "code",
   "execution_count": 38,
   "metadata": {},
   "outputs": [
    {
     "name": "stderr",
     "output_type": "stream",
     "text": [
      "C:\\Users\\92967\\Anaconda3\\lib\\site-packages\\ipykernel_launcher.py:3: DeprecationWarning: sample_ppc() is deprecated.  Please use sample_posterior_predictive()\n",
      "  This is separate from the ipykernel package so we can avoid doing imports until\n",
      "100%|██████████| 1/1 [00:00<00:00, 294.23it/s]\n"
     ]
    },
    {
     "data": {
      "text/plain": [
       "541"
      ]
     },
     "execution_count": 38,
     "metadata": {},
     "output_type": "execute_result"
    }
   ],
   "source": [
    "Counter(SimulateAlternateHypothesisCoin())['1']"
   ]
  },
  {
   "cell_type": "code",
   "execution_count": 39,
   "metadata": {},
   "outputs": [
    {
     "data": {
      "text/plain": [
       "0"
      ]
     },
     "execution_count": 39,
     "metadata": {},
     "output_type": "execute_result"
    }
   ],
   "source": [
    "Counter(SimulateNullHypothesisCoin(1000))['1']"
   ]
  },
  {
   "cell_type": "markdown",
   "metadata": {},
   "source": [
    "Now, we know that the expected frequency for each toss for a fair coin is 1000/2 = 500. This is how we can compare observation to null hypothesis. Although we may want to conclude that the p-value is low with the test below, ***there is still a possibility we got this result by chance***:"
   ]
  },
  {
   "cell_type": "code",
   "execution_count": 40,
   "metadata": {},
   "outputs": [
    {
     "data": {
      "text/plain": [
       "16.0"
      ]
     },
     "execution_count": 40,
     "metadata": {},
     "output_type": "execute_result"
    }
   ],
   "source": [
    "expected = 1000/2\n",
    "threshold = ChiSquared(observed_tosses_bin, expected)\n",
    "threshold"
   ]
  },
  {
   "cell_type": "markdown",
   "metadata": {},
   "source": [
    "This is for a null hypothesis simulation:"
   ]
  },
  {
   "cell_type": "code",
   "execution_count": 41,
   "metadata": {},
   "outputs": [
    {
     "data": {
      "text/plain": [
       "500.0"
      ]
     },
     "execution_count": 41,
     "metadata": {},
     "output_type": "execute_result"
    }
   ],
   "source": [
    "expected = 1000/2\n",
    "null_hypothesis_sim = SimulateNullHypothesisCoin(1000)\n",
    "null_hypothesis_sim_bin = [int(x) for x in null_hypothesis_sim]\n",
    "chi2 = ChiSquared(null_hypothesis_sim_bin, expected)\n",
    "chi2"
   ]
  },
  {
   "cell_type": "markdown",
   "metadata": {},
   "source": [
    "Let's get a p-value where we compare null hypothesis simulations to our empirical data:"
   ]
  },
  {
   "cell_type": "code",
   "execution_count": 42,
   "metadata": {},
   "outputs": [
    {
     "name": "stdout",
     "output_type": "stream",
     "text": [
      "16.0\n",
      "p-value 1.0\n"
     ]
    }
   ],
   "source": [
    "count = 0.\n",
    "roll_size = 1000\n",
    "num_trials = 1000\n",
    "expected = 1000/2.\n",
    "\n",
    "# observed statistic:\n",
    "threshold = ChiSquared(observed_tosses_bin, expected)\n",
    "print(threshold)\n",
    "\n",
    "for _ in range(num_trials):\n",
    "    null_hypothesis_sim = SimulateNullHypothesisCoin(roll_size)\n",
    "    null_hypothesis_sim_bin = [int(x) for x in null_hypothesis_sim]\n",
    "    chi2 = ChiSquared(null_hypothesis_sim_bin, expected)\n",
    "    if chi2 >= threshold:\n",
    "        count += 1\n",
    "\n",
    "pvalue = count / num_trials\n",
    "print ('p-value', pvalue)"
   ]
  },
  {
   "cell_type": "markdown",
   "metadata": {},
   "source": [
    "If the the p-value is high, higher than the usual 95% Confidence interval, you cannot reject the null hypothesis!\n",
    "\n",
    "But our empirical experiment (real observations) threshold could very well have been generated ***by chance***!\n",
    "\n",
    "Here is a much more powerful and conclusive estimation of our **p-value**: We run a lot of null experiments ***and*** a lot of alternative hypothesis experiments, using our Bayesian model (instead of a single observation as above)! And we can ***count*** all times that our null experiment deviates from the expected threshold (*that is the null chi statistic*), and the times that our alternate hypothesis experiment deviates from the expected threshold (*that is the alternate hypothesis chi statistic*), and we can compare the two chi statistics! \n",
    "\n",
    "That tells us in how many universes we observe distributions *different* from the null hypothesis, and allows us to generate a *real* probability that our alternate hypothesis simulations (matching our empirical data) **statistically differ** from null hypothesis simulations!"
   ]
  },
  {
   "cell_type": "markdown",
   "metadata": {},
   "source": [
    "If the p-value is ***small***, you may conclude that the effect is ***unlikely to have occurred by chance***, which suggests that it is ***real***: The coin is crooked. If the p-value is ***high***, you cannot dismiss the null hypothesis and you need to conclude that the coin is fair and any skew in the statistics is due to *chance*."
   ]
  },
  {
   "cell_type": "code",
   "execution_count": 43,
   "metadata": {},
   "outputs": [
    {
     "name": "stderr",
     "output_type": "stream",
     "text": [
      "C:\\Users\\92967\\Anaconda3\\lib\\site-packages\\ipykernel_launcher.py:3: DeprecationWarning: sample_ppc() is deprecated.  Please use sample_posterior_predictive()\n",
      "  This is separate from the ipykernel package so we can avoid doing imports until\n",
      "100%|██████████| 1/1 [00:00<00:00, 359.75it/s]\n",
      "100%|██████████| 1/1 [00:00<00:00, 295.44it/s]\n",
      "100%|██████████| 1/1 [00:00<00:00, 373.13it/s]\n",
      "100%|██████████| 1/1 [00:00<00:00, 310.76it/s]\n",
      "100%|██████████| 1/1 [00:00<00:00, 501.17it/s]\n",
      "100%|██████████| 1/1 [00:00<00:00, 263.16it/s]\n",
      "100%|██████████| 1/1 [00:00<00:00, 221.38it/s]\n",
      "100%|██████████| 1/1 [00:00<00:00, 264.78it/s]\n",
      "100%|██████████| 1/1 [00:00<00:00, 239.55it/s]\n",
      "100%|██████████| 1/1 [00:00<00:00, 179.60it/s]\n",
      "100%|██████████| 1/1 [00:00<00:00, 299.87it/s]\n",
      "100%|██████████| 1/1 [00:00<00:00, 294.09it/s]\n",
      "100%|██████████| 1/1 [00:00<00:00, 500.57it/s]\n",
      "100%|██████████| 1/1 [00:00<00:00, 276.69it/s]\n",
      "100%|██████████| 1/1 [00:00<00:00, 268.57it/s]\n",
      "100%|██████████| 1/1 [00:00<00:00, 442.48it/s]\n",
      "100%|██████████| 1/1 [00:00<00:00, 968.66it/s]\n",
      "100%|██████████| 1/1 [00:00<00:00, 1001.74it/s]\n",
      "100%|██████████| 1/1 [00:00<00:00, 1001.27it/s]\n",
      "100%|██████████| 1/1 [00:00<00:00, 274.12it/s]\n",
      "100%|██████████| 1/1 [00:00<00:00, 352.79it/s]\n",
      "100%|██████████| 1/1 [00:00<00:00, 351.84it/s]\n",
      "100%|██████████| 1/1 [00:00<00:00, 324.11it/s]\n",
      "100%|██████████| 1/1 [00:00<00:00, 284.48it/s]\n",
      "100%|██████████| 1/1 [00:00<00:00, 974.74it/s]\n",
      "100%|██████████| 1/1 [00:00<00:00, 402.02it/s]\n",
      "100%|██████████| 1/1 [00:00<00:00, 231.19it/s]\n",
      "100%|██████████| 1/1 [00:00<00:00, 474.68it/s]\n",
      "100%|██████████| 1/1 [00:00<00:00, 451.34it/s]\n",
      "100%|██████████| 1/1 [00:00<00:00, 375.40it/s]\n",
      "100%|██████████| 1/1 [00:00<00:00, 505.52it/s]\n",
      "100%|██████████| 1/1 [00:00<00:00, 692.02it/s]\n",
      "100%|██████████| 1/1 [00:00<00:00, 356.93it/s]\n",
      "100%|██████████| 1/1 [00:00<00:00, 443.61it/s]\n",
      "100%|██████████| 1/1 [00:00<00:00, 337.22it/s]\n",
      "100%|██████████| 1/1 [00:00<00:00, 382.90it/s]\n",
      "100%|██████████| 1/1 [00:00<00:00, 345.72it/s]\n",
      "100%|██████████| 1/1 [00:00<00:00, 974.51it/s]\n",
      "100%|██████████| 1/1 [00:00<00:00, 317.20it/s]\n",
      "100%|██████████| 1/1 [00:00<00:00, 1003.18it/s]\n",
      "100%|██████████| 1/1 [00:00<00:00, 183.97it/s]\n",
      "100%|██████████| 1/1 [00:00<00:00, 219.44it/s]\n",
      "100%|██████████| 1/1 [00:00<00:00, 974.06it/s]\n",
      "100%|██████████| 1/1 [00:00<00:00, 175.78it/s]\n",
      "100%|██████████| 1/1 [00:00<00:00, 409.08it/s]\n",
      "100%|██████████| 1/1 [00:00<00:00, 328.89it/s]\n",
      "100%|██████████| 1/1 [00:00<00:00, 258.24it/s]\n",
      "100%|██████████| 1/1 [00:00<00:00, 490.39it/s]\n",
      "100%|██████████| 1/1 [00:00<00:00, 213.15it/s]\n",
      "100%|██████████| 1/1 [00:00<00:00, 393.50it/s]\n",
      "100%|██████████| 1/1 [00:00<00:00, 399.42it/s]\n",
      "100%|██████████| 1/1 [00:00<00:00, 224.22it/s]\n",
      "100%|██████████| 1/1 [00:00<00:00, 327.12it/s]\n",
      "100%|██████████| 1/1 [00:00<00:00, 248.10it/s]\n",
      "100%|██████████| 1/1 [00:00<00:00, 275.87it/s]\n",
      "100%|██████████| 1/1 [00:00<00:00, 338.36it/s]\n",
      "100%|██████████| 1/1 [00:00<00:00, 194.83it/s]\n",
      "100%|██████████| 1/1 [00:00<00:00, 278.10it/s]\n",
      "100%|██████████| 1/1 [00:00<00:00, 320.27it/s]\n",
      "100%|██████████| 1/1 [00:00<00:00, 311.94it/s]\n",
      "100%|██████████| 1/1 [00:00<00:00, 999.60it/s]\n",
      "100%|██████████| 1/1 [00:00<00:00, 1001.98it/s]\n",
      "100%|██████████| 1/1 [00:00<00:00, 307.61it/s]\n",
      "100%|██████████| 1/1 [00:00<?, ?it/s]\n",
      "100%|██████████| 1/1 [00:00<00:00, 246.81it/s]\n",
      "100%|██████████| 1/1 [00:00<00:00, 220.09it/s]\n",
      "100%|██████████| 1/1 [00:00<00:00, 309.66it/s]\n",
      "100%|██████████| 1/1 [00:00<00:00, 241.34it/s]\n",
      "100%|██████████| 1/1 [00:00<00:00, 276.52it/s]\n",
      "100%|██████████| 1/1 [00:00<00:00, 209.16it/s]\n",
      "100%|██████████| 1/1 [00:00<00:00, 264.08it/s]\n",
      "100%|██████████| 1/1 [00:00<00:00, 294.17it/s]\n",
      "100%|██████████| 1/1 [00:00<00:00, 627.42it/s]\n",
      "100%|██████████| 1/1 [00:00<00:00, 1000.55it/s]\n",
      "100%|██████████| 1/1 [00:00<00:00, 320.32it/s]\n",
      "100%|██████████| 1/1 [00:00<00:00, 131.76it/s]\n",
      "100%|██████████| 1/1 [00:00<00:00, 311.24it/s]\n",
      "100%|██████████| 1/1 [00:00<00:00, 272.13it/s]\n",
      "100%|██████████| 1/1 [00:00<00:00, 290.99it/s]\n",
      "100%|██████████| 1/1 [00:00<00:00, 364.31it/s]\n",
      "100%|██████████| 1/1 [00:00<00:00, 251.28it/s]\n",
      "100%|██████████| 1/1 [00:00<00:00, 380.13it/s]\n",
      "100%|██████████| 1/1 [00:00<00:00, 360.06it/s]\n",
      "100%|██████████| 1/1 [00:00<00:00, 83.70it/s]\n",
      "100%|██████████| 1/1 [00:00<00:00, 325.72it/s]\n",
      "100%|██████████| 1/1 [00:00<00:00, 288.65it/s]\n",
      "100%|██████████| 1/1 [00:00<00:00, 624.43it/s]\n",
      "100%|██████████| 1/1 [00:00<00:00, 324.29it/s]\n",
      "100%|██████████| 1/1 [00:00<00:00, 659.27it/s]\n",
      "100%|██████████| 1/1 [00:00<00:00, 413.52it/s]\n",
      "100%|██████████| 1/1 [00:00<00:00, 289.08it/s]\n",
      "100%|██████████| 1/1 [00:00<00:00, 310.69it/s]\n",
      "100%|██████████| 1/1 [00:00<00:00, 373.69it/s]\n",
      "100%|██████████| 1/1 [00:00<00:00, 224.92it/s]\n",
      "100%|██████████| 1/1 [00:00<00:00, 632.82it/s]\n",
      "100%|██████████| 1/1 [00:00<00:00, 971.35it/s]\n",
      "100%|██████████| 1/1 [00:00<00:00, 189.60it/s]\n",
      "100%|██████████| 1/1 [00:00<00:00, 238.80it/s]\n",
      "100%|██████████| 1/1 [00:00<00:00, 286.07it/s]\n",
      "100%|██████████| 1/1 [00:00<00:00, 365.48it/s]\n",
      "100%|██████████| 1/1 [00:00<00:00, 284.96it/s]\n",
      "100%|██████████| 1/1 [00:00<00:00, 296.08it/s]\n",
      "100%|██████████| 1/1 [00:00<00:00, 627.23it/s]\n",
      "100%|██████████| 1/1 [00:00<00:00, 1006.79it/s]\n",
      "100%|██████████| 1/1 [00:00<?, ?it/s]\n",
      "100%|██████████| 1/1 [00:00<00:00, 267.20it/s]\n",
      "100%|██████████| 1/1 [00:00<00:00, 1002.94it/s]\n",
      "100%|██████████| 1/1 [00:00<00:00, 391.81it/s]\n",
      "100%|██████████| 1/1 [00:00<00:00, 193.73it/s]\n",
      "100%|██████████| 1/1 [00:00<00:00, 303.36it/s]\n",
      "100%|██████████| 1/1 [00:00<00:00, 282.18it/s]\n",
      "100%|██████████| 1/1 [00:00<00:00, 231.32it/s]\n",
      "100%|██████████| 1/1 [00:00<00:00, 264.24it/s]\n",
      "100%|██████████| 1/1 [00:00<00:00, 334.61it/s]\n",
      "100%|██████████| 1/1 [00:00<00:00, 209.91it/s]\n",
      "100%|██████████| 1/1 [00:00<00:00, 224.33it/s]\n",
      "100%|██████████| 1/1 [00:00<00:00, 272.43it/s]\n",
      "100%|██████████| 1/1 [00:00<00:00, 353.89it/s]\n",
      "100%|██████████| 1/1 [00:00<00:00, 212.87it/s]\n",
      "100%|██████████| 1/1 [00:00<00:00, 256.91it/s]\n",
      "100%|██████████| 1/1 [00:00<00:00, 334.29it/s]\n",
      "100%|██████████| 1/1 [00:00<00:00, 250.74it/s]\n",
      "100%|██████████| 1/1 [00:00<00:00, 306.04it/s]\n",
      "100%|██████████| 1/1 [00:00<00:00, 237.06it/s]\n",
      "100%|██████████| 1/1 [00:00<00:00, 249.47it/s]\n",
      "100%|██████████| 1/1 [00:00<00:00, 235.66it/s]\n",
      "100%|██████████| 1/1 [00:00<00:00, 329.22it/s]\n",
      "100%|██████████| 1/1 [00:00<00:00, 444.92it/s]\n",
      "100%|██████████| 1/1 [00:00<00:00, 221.42it/s]\n",
      "100%|██████████| 1/1 [00:00<00:00, 171.64it/s]\n",
      "100%|██████████| 1/1 [00:00<00:00, 311.31it/s]\n",
      "100%|██████████| 1/1 [00:00<00:00, 320.20it/s]\n",
      "100%|██████████| 1/1 [00:00<00:00, 305.93it/s]\n",
      "100%|██████████| 1/1 [00:00<00:00, 268.87it/s]\n",
      "100%|██████████| 1/1 [00:00<00:00, 256.52it/s]\n",
      "100%|██████████| 1/1 [00:00<00:00, 250.47it/s]\n",
      "100%|██████████| 1/1 [00:00<00:00, 430.36it/s]\n",
      "100%|██████████| 1/1 [00:00<00:00, 334.13it/s]\n",
      "100%|██████████| 1/1 [00:00<00:00, 290.63it/s]\n",
      "100%|██████████| 1/1 [00:00<00:00, 289.60it/s]\n",
      "100%|██████████| 1/1 [00:00<00:00, 413.03it/s]\n",
      "100%|██████████| 1/1 [00:00<00:00, 577.41it/s]\n",
      "100%|██████████| 1/1 [00:00<00:00, 390.17it/s]\n",
      "100%|██████████| 1/1 [00:00<00:00, 237.81it/s]\n",
      "100%|██████████| 1/1 [00:00<00:00, 256.36it/s]\n",
      "100%|██████████| 1/1 [00:00<00:00, 309.34it/s]\n",
      "100%|██████████| 1/1 [00:00<00:00, 385.54it/s]\n",
      "100%|██████████| 1/1 [00:00<00:00, 978.38it/s]\n",
      "100%|██████████| 1/1 [00:00<00:00, 246.48it/s]\n",
      "100%|██████████| 1/1 [00:00<00:00, 223.18it/s]\n",
      "100%|██████████| 1/1 [00:00<00:00, 237.07it/s]\n",
      "100%|██████████| 1/1 [00:00<00:00, 260.29it/s]\n",
      "100%|██████████| 1/1 [00:00<00:00, 203.98it/s]\n",
      "100%|██████████| 1/1 [00:00<00:00, 246.13it/s]\n",
      "100%|██████████| 1/1 [00:00<00:00, 308.93it/s]\n",
      "100%|██████████| 1/1 [00:00<00:00, 267.41it/s]\n",
      "100%|██████████| 1/1 [00:00<00:00, 330.81it/s]\n",
      "100%|██████████| 1/1 [00:00<00:00, 500.81it/s]\n",
      "100%|██████████| 1/1 [00:00<00:00, 194.88it/s]\n",
      "100%|██████████| 1/1 [00:00<00:00, 376.58it/s]\n",
      "100%|██████████| 1/1 [00:00<00:00, 294.92it/s]\n",
      "100%|██████████| 1/1 [00:00<00:00, 265.14it/s]\n",
      "100%|██████████| 1/1 [00:00<00:00, 263.63it/s]\n",
      "100%|██████████| 1/1 [00:00<00:00, 334.15it/s]\n",
      "100%|██████████| 1/1 [00:00<00:00, 720.18it/s]\n",
      "100%|██████████| 1/1 [00:00<00:00, 166.91it/s]\n",
      "100%|██████████| 1/1 [00:00<00:00, 999.83it/s]\n",
      "100%|██████████| 1/1 [00:00<00:00, 210.62it/s]\n",
      "100%|██████████| 1/1 [00:00<00:00, 166.05it/s]\n",
      "100%|██████████| 1/1 [00:00<00:00, 229.40it/s]\n",
      "100%|██████████| 1/1 [00:00<00:00, 971.35it/s]\n",
      "100%|██████████| 1/1 [00:00<00:00, 254.15it/s]\n",
      "100%|██████████| 1/1 [00:00<00:00, 195.51it/s]\n",
      "100%|██████████| 1/1 [00:00<00:00, 505.03it/s]\n",
      "100%|██████████| 1/1 [00:00<00:00, 241.44it/s]\n",
      "100%|██████████| 1/1 [00:00<00:00, 244.94it/s]\n",
      "100%|██████████| 1/1 [00:00<00:00, 193.62it/s]\n",
      "100%|██████████| 1/1 [00:00<00:00, 181.38it/s]\n",
      "100%|██████████| 1/1 [00:00<00:00, 250.74it/s]\n",
      "100%|██████████| 1/1 [00:00<00:00, 283.04it/s]\n",
      "100%|██████████| 1/1 [00:00<00:00, 427.64it/s]\n",
      "100%|██████████| 1/1 [00:00<00:00, 177.46it/s]\n",
      "100%|██████████| 1/1 [00:00<00:00, 236.11it/s]\n",
      "100%|██████████| 1/1 [00:00<00:00, 198.35it/s]\n",
      "100%|██████████| 1/1 [00:00<00:00, 296.69it/s]\n",
      "100%|██████████| 1/1 [00:00<00:00, 221.77it/s]\n",
      "100%|██████████| 1/1 [00:00<00:00, 201.62it/s]\n",
      "100%|██████████| 1/1 [00:00<00:00, 247.00it/s]\n",
      "100%|██████████| 1/1 [00:00<00:00, 195.17it/s]\n",
      "100%|██████████| 1/1 [00:00<00:00, 166.43it/s]\n",
      "100%|██████████| 1/1 [00:00<00:00, 204.47it/s]\n",
      "100%|██████████| 1/1 [00:00<00:00, 208.91it/s]\n",
      "100%|██████████| 1/1 [00:00<00:00, 269.71it/s]\n",
      "100%|██████████| 1/1 [00:00<00:00, 193.16it/s]\n",
      "100%|██████████| 1/1 [00:00<00:00, 269.63it/s]\n",
      "100%|██████████| 1/1 [00:00<00:00, 198.43it/s]\n",
      "100%|██████████| 1/1 [00:00<00:00, 1002.94it/s]\n",
      "100%|██████████| 1/1 [00:00<00:00, 252.27it/s]\n",
      "100%|██████████| 1/1 [00:00<00:00, 308.02it/s]\n",
      "100%|██████████| 1/1 [00:00<00:00, 311.29it/s]\n",
      "100%|██████████| 1/1 [00:00<00:00, 378.58it/s]\n",
      "100%|██████████| 1/1 [00:00<00:00, 333.99it/s]\n",
      "100%|██████████| 1/1 [00:00<00:00, 259.28it/s]\n",
      "100%|██████████| 1/1 [00:00<00:00, 187.78it/s]\n",
      "100%|██████████| 1/1 [00:00<00:00, 255.25it/s]\n",
      "100%|██████████| 1/1 [00:00<00:00, 341.14it/s]\n",
      "100%|██████████| 1/1 [00:00<00:00, 242.78it/s]\n",
      "100%|██████████| 1/1 [00:00<00:00, 161.79it/s]\n",
      "100%|██████████| 1/1 [00:00<00:00, 244.05it/s]\n",
      "100%|██████████| 1/1 [00:00<00:00, 337.60it/s]\n",
      "100%|██████████| 1/1 [00:00<00:00, 271.02it/s]\n",
      "100%|██████████| 1/1 [00:00<00:00, 327.19it/s]\n",
      "100%|██████████| 1/1 [00:00<00:00, 246.72it/s]\n",
      "100%|██████████| 1/1 [00:00<00:00, 290.32it/s]\n",
      "100%|██████████| 1/1 [00:00<00:00, 258.75it/s]\n",
      "100%|██████████| 1/1 [00:00<00:00, 227.80it/s]\n",
      "100%|██████████| 1/1 [00:00<00:00, 313.29it/s]\n",
      "100%|██████████| 1/1 [00:00<00:00, 277.42it/s]\n",
      "100%|██████████| 1/1 [00:00<00:00, 330.26it/s]\n",
      "100%|██████████| 1/1 [00:00<00:00, 253.52it/s]\n",
      "100%|██████████| 1/1 [00:00<00:00, 222.90it/s]\n",
      "100%|██████████| 1/1 [00:00<00:00, 144.07it/s]\n",
      "100%|██████████| 1/1 [00:00<00:00, 362.05it/s]\n",
      "100%|██████████| 1/1 [00:00<00:00, 185.89it/s]\n",
      "100%|██████████| 1/1 [00:00<00:00, 224.31it/s]\n",
      "100%|██████████| 1/1 [00:00<00:00, 177.38it/s]\n",
      "100%|██████████| 1/1 [00:00<00:00, 347.76it/s]\n",
      "100%|██████████| 1/1 [00:00<?, ?it/s]\n",
      "100%|██████████| 1/1 [00:00<00:00, 301.79it/s]\n",
      "100%|██████████| 1/1 [00:00<00:00, 211.85it/s]\n",
      "100%|██████████| 1/1 [00:00<00:00, 207.89it/s]\n",
      "100%|██████████| 1/1 [00:00<00:00, 239.84it/s]\n",
      "100%|██████████| 1/1 [00:00<00:00, 212.37it/s]\n",
      "100%|██████████| 1/1 [00:00<00:00, 235.04it/s]\n",
      "100%|██████████| 1/1 [00:00<00:00, 262.98it/s]\n",
      "100%|██████████| 1/1 [00:00<00:00, 342.45it/s]\n",
      "100%|██████████| 1/1 [00:00<00:00, 368.08it/s]\n",
      "100%|██████████| 1/1 [00:00<00:00, 969.78it/s]\n",
      "100%|██████████| 1/1 [00:00<00:00, 256.67it/s]\n",
      "100%|██████████| 1/1 [00:00<00:00, 317.22it/s]\n",
      "100%|██████████| 1/1 [00:00<00:00, 201.71it/s]\n",
      "100%|██████████| 1/1 [00:00<00:00, 342.36it/s]\n",
      "100%|██████████| 1/1 [00:00<00:00, 202.43it/s]\n",
      "100%|██████████| 1/1 [00:00<00:00, 161.95it/s]\n",
      "100%|██████████| 1/1 [00:00<00:00, 362.30it/s]\n",
      "100%|██████████| 1/1 [00:00<00:00, 293.06it/s]\n",
      "100%|██████████| 1/1 [00:00<00:00, 235.71it/s]\n",
      "100%|██████████| 1/1 [00:00<00:00, 299.40it/s]\n",
      "100%|██████████| 1/1 [00:00<00:00, 246.68it/s]\n",
      "100%|██████████| 1/1 [00:00<00:00, 652.00it/s]\n",
      "100%|██████████| 1/1 [00:00<?, ?it/s]\n",
      "100%|██████████| 1/1 [00:00<?, ?it/s]\n",
      "100%|██████████| 1/1 [00:00<00:00, 501.41it/s]\n",
      "100%|██████████| 1/1 [00:00<00:00, 261.33it/s]\n",
      "100%|██████████| 1/1 [00:00<00:00, 187.56it/s]\n",
      "100%|██████████| 1/1 [00:00<00:00, 263.28it/s]\n",
      "100%|██████████| 1/1 [00:00<00:00, 226.19it/s]\n",
      "100%|██████████| 1/1 [00:00<00:00, 252.78it/s]\n",
      "100%|██████████| 1/1 [00:00<00:00, 1000.79it/s]\n",
      "100%|██████████| 1/1 [00:00<00:00, 311.38it/s]\n",
      "100%|██████████| 1/1 [00:00<00:00, 402.76it/s]\n",
      "100%|██████████| 1/1 [00:00<00:00, 368.24it/s]\n",
      "100%|██████████| 1/1 [00:00<00:00, 238.99it/s]\n",
      "100%|██████████| 1/1 [00:00<00:00, 1000.79it/s]\n",
      "100%|██████████| 1/1 [00:00<00:00, 274.12it/s]\n",
      "100%|██████████| 1/1 [00:00<00:00, 336.41it/s]\n",
      "100%|██████████| 1/1 [00:00<00:00, 246.77it/s]\n",
      "100%|██████████| 1/1 [00:00<00:00, 208.30it/s]\n",
      "100%|██████████| 1/1 [00:00<00:00, 315.08it/s]\n",
      "100%|██████████| 1/1 [00:00<00:00, 973.16it/s]\n",
      "100%|██████████| 1/1 [00:00<00:00, 1001.98it/s]\n",
      "100%|██████████| 1/1 [00:00<00:00, 290.40it/s]\n",
      "100%|██████████| 1/1 [00:00<00:00, 186.88it/s]\n",
      "100%|██████████| 1/1 [00:00<00:00, 397.75it/s]\n",
      "100%|██████████| 1/1 [00:00<00:00, 1002.46it/s]\n",
      "100%|██████████| 1/1 [00:00<00:00, 395.91it/s]\n",
      "100%|██████████| 1/1 [00:00<00:00, 306.44it/s]\n",
      "100%|██████████| 1/1 [00:00<00:00, 287.95it/s]\n",
      "100%|██████████| 1/1 [00:00<00:00, 307.19it/s]\n",
      "100%|██████████| 1/1 [00:00<00:00, 268.02it/s]\n",
      "100%|██████████| 1/1 [00:00<00:00, 213.23it/s]\n",
      "100%|██████████| 1/1 [00:00<00:00, 333.99it/s]\n",
      "100%|██████████| 1/1 [00:00<00:00, 210.63it/s]\n",
      "100%|██████████| 1/1 [00:00<00:00, 158.17it/s]\n",
      "100%|██████████| 1/1 [00:00<00:00, 229.77it/s]\n",
      "100%|██████████| 1/1 [00:00<00:00, 225.02it/s]\n",
      "100%|██████████| 1/1 [00:00<00:00, 250.60it/s]\n",
      "100%|██████████| 1/1 [00:00<00:00, 167.19it/s]\n",
      "100%|██████████| 1/1 [00:00<00:00, 240.87it/s]\n",
      "100%|██████████| 1/1 [00:00<00:00, 969.56it/s]\n",
      "100%|██████████| 1/1 [00:00<00:00, 248.14it/s]\n",
      "100%|██████████| 1/1 [00:00<00:00, 205.01it/s]\n",
      "100%|██████████| 1/1 [00:00<00:00, 264.32it/s]\n",
      "100%|██████████| 1/1 [00:00<00:00, 316.62it/s]\n",
      "100%|██████████| 1/1 [00:00<00:00, 277.60it/s]\n",
      "100%|██████████| 1/1 [00:00<00:00, 256.47it/s]\n",
      "100%|██████████| 1/1 [00:00<00:00, 428.60it/s]\n",
      "100%|██████████| 1/1 [00:00<00:00, 260.48it/s]\n",
      "100%|██████████| 1/1 [00:00<00:00, 266.27it/s]\n",
      "100%|██████████| 1/1 [00:00<00:00, 224.53it/s]\n",
      "100%|██████████| 1/1 [00:00<00:00, 224.33it/s]\n",
      "100%|██████████| 1/1 [00:00<00:00, 648.87it/s]\n",
      "100%|██████████| 1/1 [00:00<00:00, 238.11it/s]\n",
      "100%|██████████| 1/1 [00:00<00:00, 242.42it/s]\n",
      "100%|██████████| 1/1 [00:00<00:00, 214.49it/s]\n",
      "100%|██████████| 1/1 [00:00<00:00, 247.57it/s]\n",
      "100%|██████████| 1/1 [00:00<00:00, 332.59it/s]\n",
      "100%|██████████| 1/1 [00:00<00:00, 369.77it/s]\n",
      "100%|██████████| 1/1 [00:00<?, ?it/s]\n",
      "100%|██████████| 1/1 [00:00<00:00, 293.88it/s]\n",
      "100%|██████████| 1/1 [00:00<00:00, 233.20it/s]\n",
      "100%|██████████| 1/1 [00:00<00:00, 999.36it/s]\n",
      "100%|██████████| 1/1 [00:00<00:00, 236.14it/s]\n",
      "100%|██████████| 1/1 [00:00<00:00, 453.34it/s]\n",
      "100%|██████████| 1/1 [00:00<00:00, 236.23it/s]\n",
      "100%|██████████| 1/1 [00:00<00:00, 366.76it/s]\n",
      "100%|██████████| 1/1 [00:00<00:00, 174.78it/s]\n",
      "100%|██████████| 1/1 [00:00<00:00, 238.53it/s]\n",
      "100%|██████████| 1/1 [00:00<00:00, 405.52it/s]\n",
      "100%|██████████| 1/1 [00:00<00:00, 261.25it/s]\n",
      "100%|██████████| 1/1 [00:00<00:00, 236.34it/s]\n",
      "100%|██████████| 1/1 [00:00<00:00, 231.81it/s]\n",
      "100%|██████████| 1/1 [00:00<00:00, 199.27it/s]\n",
      "100%|██████████| 1/1 [00:00<00:00, 250.23it/s]\n",
      "100%|██████████| 1/1 [00:00<00:00, 333.68it/s]\n",
      "100%|██████████| 1/1 [00:00<00:00, 239.56it/s]\n",
      "100%|██████████| 1/1 [00:00<00:00, 272.07it/s]\n",
      "100%|██████████| 1/1 [00:00<00:00, 236.75it/s]\n",
      "100%|██████████| 1/1 [00:00<00:00, 361.86it/s]\n",
      "100%|██████████| 1/1 [00:00<00:00, 292.67it/s]\n",
      "100%|██████████| 1/1 [00:00<00:00, 287.38it/s]\n",
      "100%|██████████| 1/1 [00:00<00:00, 253.07it/s]\n",
      "100%|██████████| 1/1 [00:00<00:00, 305.71it/s]\n",
      "100%|██████████| 1/1 [00:00<00:00, 254.45it/s]\n",
      "100%|██████████| 1/1 [00:00<00:00, 157.29it/s]\n",
      "100%|██████████| 1/1 [00:00<00:00, 354.22it/s]\n",
      "100%|██████████| 1/1 [00:00<00:00, 265.24it/s]\n",
      "100%|██████████| 1/1 [00:00<?, ?it/s]\n",
      "100%|██████████| 1/1 [00:00<00:00, 194.05it/s]\n",
      "100%|██████████| 1/1 [00:00<00:00, 166.40it/s]\n",
      "100%|██████████| 1/1 [00:00<00:00, 310.46it/s]\n",
      "100%|██████████| 1/1 [00:00<00:00, 242.08it/s]\n",
      "100%|██████████| 1/1 [00:00<00:00, 303.54it/s]\n",
      "100%|██████████| 1/1 [00:00<00:00, 310.69it/s]\n"
     ]
    },
    {
     "name": "stderr",
     "output_type": "stream",
     "text": [
      "100%|██████████| 1/1 [00:00<00:00, 1002.94it/s]\n",
      "100%|██████████| 1/1 [00:00<00:00, 255.89it/s]\n",
      "100%|██████████| 1/1 [00:00<00:00, 968.44it/s]\n",
      "100%|██████████| 1/1 [00:00<00:00, 176.16it/s]\n",
      "100%|██████████| 1/1 [00:00<00:00, 210.86it/s]\n",
      "100%|██████████| 1/1 [00:00<00:00, 334.42it/s]\n",
      "100%|██████████| 1/1 [00:00<00:00, 290.52it/s]\n",
      "100%|██████████| 1/1 [00:00<00:00, 329.38it/s]\n",
      "100%|██████████| 1/1 [00:00<00:00, 182.50it/s]\n",
      "100%|██████████| 1/1 [00:00<00:00, 269.70it/s]\n",
      "100%|██████████| 1/1 [00:00<00:00, 149.57it/s]\n",
      "100%|██████████| 1/1 [00:00<00:00, 295.17it/s]\n",
      "100%|██████████| 1/1 [00:00<00:00, 249.69it/s]\n",
      "100%|██████████| 1/1 [00:00<00:00, 965.76it/s]\n",
      "100%|██████████| 1/1 [00:00<00:00, 250.56it/s]\n",
      "100%|██████████| 1/1 [00:00<00:00, 170.00it/s]\n",
      "100%|██████████| 1/1 [00:00<00:00, 234.23it/s]\n",
      "100%|██████████| 1/1 [00:00<00:00, 378.38it/s]\n",
      "100%|██████████| 1/1 [00:00<00:00, 312.98it/s]\n",
      "100%|██████████| 1/1 [00:00<00:00, 241.79it/s]\n",
      "100%|██████████| 1/1 [00:00<00:00, 163.21it/s]\n",
      "100%|██████████| 1/1 [00:00<00:00, 193.42it/s]\n",
      "100%|██████████| 1/1 [00:00<00:00, 190.52it/s]\n",
      "100%|██████████| 1/1 [00:00<00:00, 438.23it/s]\n",
      "100%|██████████| 1/1 [00:00<00:00, 184.64it/s]\n",
      "100%|██████████| 1/1 [00:00<00:00, 243.78it/s]\n",
      "100%|██████████| 1/1 [00:00<00:00, 317.22it/s]\n",
      "100%|██████████| 1/1 [00:00<00:00, 305.31it/s]\n",
      "100%|██████████| 1/1 [00:00<00:00, 421.96it/s]\n",
      "100%|██████████| 1/1 [00:00<00:00, 223.61it/s]\n",
      "100%|██████████| 1/1 [00:00<00:00, 327.58it/s]\n",
      "100%|██████████| 1/1 [00:00<00:00, 289.06it/s]\n",
      "100%|██████████| 1/1 [00:00<00:00, 201.13it/s]\n",
      "100%|██████████| 1/1 [00:00<00:00, 226.94it/s]\n",
      "100%|██████████| 1/1 [00:00<00:00, 226.22it/s]\n",
      "100%|██████████| 1/1 [00:00<00:00, 236.43it/s]\n",
      "100%|██████████| 1/1 [00:00<00:00, 199.85it/s]\n",
      "100%|██████████| 1/1 [00:00<00:00, 464.54it/s]\n",
      "100%|██████████| 1/1 [00:00<00:00, 248.39it/s]\n",
      "100%|██████████| 1/1 [00:00<00:00, 284.44it/s]\n",
      "100%|██████████| 1/1 [00:00<00:00, 248.96it/s]\n",
      "100%|██████████| 1/1 [00:00<00:00, 358.09it/s]\n",
      "100%|██████████| 1/1 [00:00<00:00, 175.36it/s]\n",
      "100%|██████████| 1/1 [00:00<00:00, 189.89it/s]\n",
      "100%|██████████| 1/1 [00:00<00:00, 222.09it/s]\n",
      "100%|██████████| 1/1 [00:00<00:00, 245.37it/s]\n",
      "100%|██████████| 1/1 [00:00<00:00, 165.12it/s]\n",
      "100%|██████████| 1/1 [00:00<00:00, 209.55it/s]\n",
      "100%|██████████| 1/1 [00:00<00:00, 425.52it/s]\n",
      "100%|██████████| 1/1 [00:00<00:00, 253.57it/s]\n",
      "100%|██████████| 1/1 [00:00<00:00, 234.58it/s]\n",
      "100%|██████████| 1/1 [00:00<00:00, 238.12it/s]\n",
      "100%|██████████| 1/1 [00:00<00:00, 1002.70it/s]\n",
      "100%|██████████| 1/1 [00:00<00:00, 243.37it/s]\n",
      "100%|██████████| 1/1 [00:00<00:00, 240.96it/s]\n",
      "100%|██████████| 1/1 [00:00<00:00, 258.33it/s]\n",
      "100%|██████████| 1/1 [00:00<00:00, 311.82it/s]\n",
      "100%|██████████| 1/1 [00:00<00:00, 235.86it/s]\n",
      "100%|██████████| 1/1 [00:00<00:00, 816.81it/s]\n",
      "100%|██████████| 1/1 [00:00<00:00, 313.17it/s]\n",
      "100%|██████████| 1/1 [00:00<00:00, 276.38it/s]\n",
      "100%|██████████| 1/1 [00:00<00:00, 279.23it/s]\n",
      "100%|██████████| 1/1 [00:00<00:00, 225.13it/s]\n",
      "100%|██████████| 1/1 [00:00<00:00, 374.09it/s]\n",
      "100%|██████████| 1/1 [00:00<00:00, 219.23it/s]\n",
      "100%|██████████| 1/1 [00:00<00:00, 284.84it/s]\n",
      "100%|██████████| 1/1 [00:00<00:00, 213.14it/s]\n",
      "100%|██████████| 1/1 [00:00<00:00, 328.89it/s]\n",
      "100%|██████████| 1/1 [00:00<00:00, 235.53it/s]\n",
      "100%|██████████| 1/1 [00:00<00:00, 356.90it/s]\n",
      "100%|██████████| 1/1 [00:00<00:00, 500.69it/s]\n",
      "100%|██████████| 1/1 [00:00<00:00, 878.57it/s]\n",
      "100%|██████████| 1/1 [00:00<00:00, 1003.66it/s]\n",
      "100%|██████████| 1/1 [00:00<00:00, 503.28it/s]\n",
      "100%|██████████| 1/1 [00:00<00:00, 135.93it/s]\n",
      "100%|██████████| 1/1 [00:00<00:00, 351.49it/s]\n",
      "100%|██████████| 1/1 [00:00<00:00, 333.89it/s]\n",
      "100%|██████████| 1/1 [00:00<00:00, 281.69it/s]\n",
      "100%|██████████| 1/1 [00:00<00:00, 297.68it/s]\n",
      "100%|██████████| 1/1 [00:00<00:00, 225.38it/s]\n",
      "100%|██████████| 1/1 [00:00<00:00, 296.00it/s]\n",
      "100%|██████████| 1/1 [00:00<00:00, 303.69it/s]\n",
      "100%|██████████| 1/1 [00:00<00:00, 259.79it/s]\n",
      "100%|██████████| 1/1 [00:00<00:00, 277.14it/s]\n",
      "100%|██████████| 1/1 [00:00<00:00, 217.30it/s]\n",
      "100%|██████████| 1/1 [00:00<00:00, 202.94it/s]\n",
      "100%|██████████| 1/1 [00:00<00:00, 353.56it/s]\n",
      "100%|██████████| 1/1 [00:00<00:00, 315.38it/s]\n",
      "100%|██████████| 1/1 [00:00<00:00, 280.93it/s]\n",
      "100%|██████████| 1/1 [00:00<00:00, 404.23it/s]\n",
      "100%|██████████| 1/1 [00:00<00:00, 189.44it/s]\n",
      "100%|██████████| 1/1 [00:00<00:00, 286.07it/s]\n",
      "100%|██████████| 1/1 [00:00<00:00, 351.55it/s]\n",
      "100%|██████████| 1/1 [00:00<00:00, 263.98it/s]\n",
      "100%|██████████| 1/1 [00:00<00:00, 297.09it/s]\n",
      "100%|██████████| 1/1 [00:00<00:00, 248.51it/s]\n",
      "100%|██████████| 1/1 [00:00<00:00, 306.67it/s]\n",
      "100%|██████████| 1/1 [00:00<00:00, 333.76it/s]\n",
      "100%|██████████| 1/1 [00:00<00:00, 205.61it/s]\n",
      "100%|██████████| 1/1 [00:00<00:00, 340.39it/s]\n",
      "100%|██████████| 1/1 [00:00<00:00, 235.16it/s]\n",
      "100%|██████████| 1/1 [00:00<00:00, 314.77it/s]\n",
      "100%|██████████| 1/1 [00:00<00:00, 261.87it/s]\n",
      "100%|██████████| 1/1 [00:00<00:00, 387.75it/s]\n",
      "100%|██████████| 1/1 [00:00<00:00, 255.52it/s]\n",
      "100%|██████████| 1/1 [00:00<00:00, 230.41it/s]\n",
      "100%|██████████| 1/1 [00:00<00:00, 234.70it/s]\n",
      "100%|██████████| 1/1 [00:00<00:00, 211.35it/s]\n",
      "100%|██████████| 1/1 [00:00<00:00, 302.12it/s]\n",
      "100%|██████████| 1/1 [00:00<00:00, 228.42it/s]\n",
      "100%|██████████| 1/1 [00:00<00:00, 983.42it/s]\n",
      "100%|██████████| 1/1 [00:00<00:00, 999.83it/s]\n",
      "100%|██████████| 1/1 [00:00<00:00, 226.06it/s]\n",
      "100%|██████████| 1/1 [00:00<00:00, 181.47it/s]\n",
      "100%|██████████| 1/1 [00:00<00:00, 612.04it/s]\n",
      "100%|██████████| 1/1 [00:00<00:00, 226.29it/s]\n",
      "100%|██████████| 1/1 [00:00<00:00, 290.04it/s]\n",
      "100%|██████████| 1/1 [00:00<00:00, 186.92it/s]\n",
      "100%|██████████| 1/1 [00:00<00:00, 260.95it/s]\n",
      "100%|██████████| 1/1 [00:00<00:00, 326.91it/s]\n",
      "100%|██████████| 1/1 [00:00<00:00, 434.46it/s]\n",
      "100%|██████████| 1/1 [00:00<00:00, 1000.07it/s]\n",
      "100%|██████████| 1/1 [00:00<00:00, 181.18it/s]\n",
      "100%|██████████| 1/1 [00:00<00:00, 281.08it/s]\n",
      "100%|██████████| 1/1 [00:00<00:00, 228.96it/s]\n",
      "100%|██████████| 1/1 [00:00<00:00, 255.81it/s]\n",
      "100%|██████████| 1/1 [00:00<00:00, 220.79it/s]\n",
      "100%|██████████| 1/1 [00:00<00:00, 336.43it/s]\n",
      "100%|██████████| 1/1 [00:00<00:00, 346.41it/s]\n",
      "100%|██████████| 1/1 [00:00<00:00, 211.13it/s]\n",
      "100%|██████████| 1/1 [00:00<00:00, 230.80it/s]\n",
      "100%|██████████| 1/1 [00:00<00:00, 188.54it/s]\n",
      "100%|██████████| 1/1 [00:00<00:00, 211.88it/s]\n",
      "100%|██████████| 1/1 [00:00<00:00, 211.80it/s]\n",
      "100%|██████████| 1/1 [00:00<00:00, 283.72it/s]\n",
      "100%|██████████| 1/1 [00:00<00:00, 226.45it/s]\n",
      "100%|██████████| 1/1 [00:00<00:00, 182.91it/s]\n",
      "100%|██████████| 1/1 [00:00<00:00, 501.47it/s]\n",
      "100%|██████████| 1/1 [00:00<00:00, 245.15it/s]\n",
      "100%|██████████| 1/1 [00:00<00:00, 326.05it/s]\n",
      "100%|██████████| 1/1 [00:00<00:00, 389.01it/s]\n",
      "100%|██████████| 1/1 [00:00<00:00, 308.36it/s]\n",
      "100%|██████████| 1/1 [00:00<00:00, 152.40it/s]\n",
      "100%|██████████| 1/1 [00:00<00:00, 282.12it/s]\n",
      "100%|██████████| 1/1 [00:00<00:00, 492.23it/s]\n",
      "100%|██████████| 1/1 [00:00<00:00, 283.44it/s]\n",
      "100%|██████████| 1/1 [00:00<00:00, 280.82it/s]\n",
      "100%|██████████| 1/1 [00:00<00:00, 288.67it/s]\n",
      "100%|██████████| 1/1 [00:00<00:00, 325.22it/s]\n",
      "100%|██████████| 1/1 [00:00<00:00, 233.68it/s]\n",
      "100%|██████████| 1/1 [00:00<00:00, 280.78it/s]\n",
      "100%|██████████| 1/1 [00:00<00:00, 393.87it/s]\n",
      "100%|██████████| 1/1 [00:00<00:00, 309.77it/s]\n",
      "100%|██████████| 1/1 [00:00<00:00, 252.38it/s]\n",
      "100%|██████████| 1/1 [00:00<00:00, 246.29it/s]\n",
      "100%|██████████| 1/1 [00:00<00:00, 363.46it/s]\n",
      "100%|██████████| 1/1 [00:00<00:00, 249.81it/s]\n",
      "100%|██████████| 1/1 [00:00<00:00, 151.58it/s]\n",
      "100%|██████████| 1/1 [00:00<00:00, 223.92it/s]\n",
      "100%|██████████| 1/1 [00:00<00:00, 259.13it/s]\n",
      "100%|██████████| 1/1 [00:00<00:00, 500.51it/s]\n",
      "100%|██████████| 1/1 [00:00<00:00, 333.73it/s]\n",
      "100%|██████████| 1/1 [00:00<00:00, 250.90it/s]\n",
      "100%|██████████| 1/1 [00:00<00:00, 227.82it/s]\n",
      "100%|██████████| 1/1 [00:00<00:00, 370.59it/s]\n",
      "100%|██████████| 1/1 [00:00<00:00, 235.95it/s]\n",
      "100%|██████████| 1/1 [00:00<00:00, 190.73it/s]\n",
      "100%|██████████| 1/1 [00:00<00:00, 212.96it/s]\n",
      "100%|██████████| 1/1 [00:00<00:00, 1004.38it/s]\n",
      "100%|██████████| 1/1 [00:00<00:00, 316.15it/s]\n",
      "100%|██████████| 1/1 [00:00<00:00, 254.29it/s]\n",
      "100%|██████████| 1/1 [00:00<00:00, 310.44it/s]\n",
      "100%|██████████| 1/1 [00:00<00:00, 293.55it/s]\n",
      "100%|██████████| 1/1 [00:00<00:00, 324.08it/s]\n",
      "100%|██████████| 1/1 [00:00<00:00, 307.97it/s]\n",
      "100%|██████████| 1/1 [00:00<00:00, 291.33it/s]\n",
      "100%|██████████| 1/1 [00:00<00:00, 212.83it/s]\n",
      "100%|██████████| 1/1 [00:00<00:00, 179.53it/s]\n",
      "100%|██████████| 1/1 [00:00<00:00, 218.21it/s]\n",
      "100%|██████████| 1/1 [00:00<00:00, 972.25it/s]\n",
      "100%|██████████| 1/1 [00:00<00:00, 160.28it/s]\n",
      "100%|██████████| 1/1 [00:00<00:00, 156.96it/s]\n",
      "100%|██████████| 1/1 [00:00<00:00, 248.08it/s]\n",
      "100%|██████████| 1/1 [00:00<00:00, 236.41it/s]\n",
      "100%|██████████| 1/1 [00:00<00:00, 159.33it/s]\n",
      "100%|██████████| 1/1 [00:00<00:00, 310.00it/s]\n",
      "100%|██████████| 1/1 [00:00<00:00, 333.86it/s]\n",
      "100%|██████████| 1/1 [00:00<00:00, 184.12it/s]\n",
      "100%|██████████| 1/1 [00:00<00:00, 276.16it/s]\n",
      "100%|██████████| 1/1 [00:00<00:00, 270.81it/s]\n",
      "100%|██████████| 1/1 [00:00<00:00, 254.91it/s]\n",
      "100%|██████████| 1/1 [00:00<00:00, 485.34it/s]\n",
      "100%|██████████| 1/1 [00:00<00:00, 334.37it/s]\n",
      "100%|██████████| 1/1 [00:00<00:00, 236.33it/s]\n",
      "100%|██████████| 1/1 [00:00<00:00, 231.77it/s]\n",
      "100%|██████████| 1/1 [00:00<00:00, 232.08it/s]\n",
      "100%|██████████| 1/1 [00:00<00:00, 256.08it/s]\n",
      "100%|██████████| 1/1 [00:00<00:00, 252.79it/s]\n",
      "100%|██████████| 1/1 [00:00<00:00, 971.58it/s]\n",
      "100%|██████████| 1/1 [00:00<00:00, 241.12it/s]\n",
      "100%|██████████| 1/1 [00:00<00:00, 492.23it/s]\n",
      "100%|██████████| 1/1 [00:00<00:00, 322.61it/s]\n",
      "100%|██████████| 1/1 [00:00<00:00, 299.19it/s]\n",
      "100%|██████████| 1/1 [00:00<00:00, 171.11it/s]\n",
      "100%|██████████| 1/1 [00:00<00:00, 236.71it/s]\n",
      "100%|██████████| 1/1 [00:00<00:00, 289.44it/s]\n",
      "100%|██████████| 1/1 [00:00<00:00, 369.93it/s]\n",
      "100%|██████████| 1/1 [00:00<00:00, 129.61it/s]\n",
      "100%|██████████| 1/1 [00:00<00:00, 242.57it/s]\n",
      "100%|██████████| 1/1 [00:00<00:00, 484.50it/s]\n",
      "100%|██████████| 1/1 [00:00<00:00, 268.04it/s]\n",
      "100%|██████████| 1/1 [00:00<00:00, 302.36it/s]\n",
      "100%|██████████| 1/1 [00:00<00:00, 200.49it/s]\n",
      "100%|██████████| 1/1 [00:00<00:00, 160.54it/s]\n",
      "100%|██████████| 1/1 [00:00<00:00, 213.76it/s]\n",
      "100%|██████████| 1/1 [00:00<00:00, 216.65it/s]\n",
      "100%|██████████| 1/1 [00:00<00:00, 304.29it/s]\n",
      "100%|██████████| 1/1 [00:00<00:00, 328.99it/s]\n",
      "100%|██████████| 1/1 [00:00<00:00, 238.41it/s]\n",
      "100%|██████████| 1/1 [00:00<00:00, 217.74it/s]\n",
      "100%|██████████| 1/1 [00:00<00:00, 252.21it/s]\n",
      "100%|██████████| 1/1 [00:00<00:00, 189.66it/s]\n",
      "100%|██████████| 1/1 [00:00<00:00, 251.01it/s]\n",
      "100%|██████████| 1/1 [00:00<00:00, 246.51it/s]\n",
      "100%|██████████| 1/1 [00:00<00:00, 306.87it/s]\n",
      "100%|██████████| 1/1 [00:00<00:00, 269.97it/s]\n",
      "100%|██████████| 1/1 [00:00<00:00, 300.28it/s]\n",
      "100%|██████████| 1/1 [00:00<00:00, 999.60it/s]\n",
      "100%|██████████| 1/1 [00:00<00:00, 261.36it/s]\n",
      "100%|██████████| 1/1 [00:00<00:00, 302.23it/s]\n",
      "100%|██████████| 1/1 [00:00<00:00, 226.95it/s]\n",
      "100%|██████████| 1/1 [00:00<00:00, 213.48it/s]\n",
      "100%|██████████| 1/1 [00:00<00:00, 379.23it/s]\n",
      "100%|██████████| 1/1 [00:00<00:00, 271.69it/s]\n",
      "100%|██████████| 1/1 [00:00<00:00, 303.10it/s]\n",
      "100%|██████████| 1/1 [00:00<00:00, 998.41it/s]\n",
      "100%|██████████| 1/1 [00:00<00:00, 416.35it/s]\n",
      "100%|██████████| 1/1 [00:00<00:00, 1003.90it/s]\n",
      "100%|██████████| 1/1 [00:00<00:00, 195.74it/s]\n",
      "100%|██████████| 1/1 [00:00<00:00, 366.00it/s]\n",
      "100%|██████████| 1/1 [00:00<00:00, 234.75it/s]\n",
      "100%|██████████| 1/1 [00:00<00:00, 243.84it/s]\n",
      "100%|██████████| 1/1 [00:00<00:00, 221.08it/s]\n",
      "100%|██████████| 1/1 [00:00<00:00, 244.41it/s]\n",
      "100%|██████████| 1/1 [00:00<00:00, 307.79it/s]\n",
      "100%|██████████| 1/1 [00:00<00:00, 294.32it/s]\n",
      "100%|██████████| 1/1 [00:00<00:00, 256.56it/s]\n",
      "100%|██████████| 1/1 [00:00<00:00, 998.17it/s]\n",
      "100%|██████████| 1/1 [00:00<00:00, 202.05it/s]\n",
      "100%|██████████| 1/1 [00:00<00:00, 227.86it/s]\n",
      "100%|██████████| 1/1 [00:00<00:00, 207.00it/s]\n",
      "100%|██████████| 1/1 [00:00<00:00, 228.10it/s]\n",
      "100%|██████████| 1/1 [00:00<00:00, 177.56it/s]\n",
      "100%|██████████| 1/1 [00:00<00:00, 296.63it/s]\n",
      "100%|██████████| 1/1 [00:00<00:00, 230.36it/s]\n",
      "100%|██████████| 1/1 [00:00<00:00, 358.89it/s]\n",
      "100%|██████████| 1/1 [00:00<00:00, 212.46it/s]\n",
      "100%|██████████| 1/1 [00:00<00:00, 156.06it/s]\n",
      "100%|██████████| 1/1 [00:00<00:00, 276.40it/s]\n",
      "100%|██████████| 1/1 [00:00<00:00, 347.99it/s]\n",
      "100%|██████████| 1/1 [00:00<?, ?it/s]\n",
      "100%|██████████| 1/1 [00:00<00:00, 248.32it/s]\n",
      "100%|██████████| 1/1 [00:00<00:00, 313.50it/s]\n",
      "100%|██████████| 1/1 [00:00<00:00, 204.79it/s]\n",
      "100%|██████████| 1/1 [00:00<00:00, 274.33it/s]\n",
      "100%|██████████| 1/1 [00:00<00:00, 250.42it/s]\n",
      "100%|██████████| 1/1 [00:00<00:00, 171.71it/s]\n",
      "100%|██████████| 1/1 [00:00<00:00, 249.04it/s]\n",
      "100%|██████████| 1/1 [00:00<00:00, 214.55it/s]\n",
      "100%|██████████| 1/1 [00:00<00:00, 213.65it/s]\n",
      "100%|██████████| 1/1 [00:00<00:00, 293.57it/s]\n",
      "100%|██████████| 1/1 [00:00<00:00, 230.27it/s]\n",
      "100%|██████████| 1/1 [00:00<00:00, 220.06it/s]\n",
      "100%|██████████| 1/1 [00:00<00:00, 296.06it/s]\n",
      "100%|██████████| 1/1 [00:00<00:00, 259.90it/s]\n",
      "100%|██████████| 1/1 [00:00<00:00, 998.64it/s]\n",
      "100%|██████████| 1/1 [00:00<00:00, 188.89it/s]\n",
      "100%|██████████| 1/1 [00:00<00:00, 388.76it/s]\n",
      "100%|██████████| 1/1 [00:00<00:00, 183.72it/s]\n",
      "100%|██████████| 1/1 [00:00<00:00, 213.97it/s]\n",
      "100%|██████████| 1/1 [00:00<00:00, 221.60it/s]\n",
      "100%|██████████| 1/1 [00:00<00:00, 232.93it/s]\n",
      "100%|██████████| 1/1 [00:00<00:00, 500.75it/s]\n",
      "100%|██████████| 1/1 [00:00<00:00, 323.09it/s]\n",
      "100%|██████████| 1/1 [00:00<00:00, 308.86it/s]\n",
      "100%|██████████| 1/1 [00:00<00:00, 393.57it/s]\n",
      "100%|██████████| 1/1 [00:00<00:00, 334.63it/s]\n",
      "100%|██████████| 1/1 [00:00<00:00, 217.30it/s]\n",
      "100%|██████████| 1/1 [00:00<00:00, 162.48it/s]\n",
      "100%|██████████| 1/1 [00:00<00:00, 303.54it/s]\n",
      "100%|██████████| 1/1 [00:00<00:00, 248.86it/s]\n",
      "100%|██████████| 1/1 [00:00<00:00, 238.14it/s]\n",
      "100%|██████████| 1/1 [00:00<00:00, 257.87it/s]\n",
      "100%|██████████| 1/1 [00:00<00:00, 201.90it/s]\n",
      "100%|██████████| 1/1 [00:00<00:00, 219.20it/s]\n",
      "100%|██████████| 1/1 [00:00<00:00, 462.44it/s]\n",
      "100%|██████████| 1/1 [00:00<00:00, 256.53it/s]\n",
      "100%|██████████| 1/1 [00:00<00:00, 177.48it/s]\n",
      "100%|██████████| 1/1 [00:00<00:00, 326.48it/s]\n",
      "100%|██████████| 1/1 [00:00<00:00, 194.14it/s]\n",
      "100%|██████████| 1/1 [00:00<00:00, 477.44it/s]\n",
      "100%|██████████| 1/1 [00:00<00:00, 604.28it/s]\n",
      "100%|██████████| 1/1 [00:00<00:00, 326.05it/s]\n",
      "100%|██████████| 1/1 [00:00<00:00, 973.16it/s]\n",
      "100%|██████████| 1/1 [00:00<00:00, 473.88it/s]\n",
      "100%|██████████| 1/1 [00:00<00:00, 998.41it/s]\n",
      "100%|██████████| 1/1 [00:00<00:00, 256.71it/s]\n",
      "100%|██████████| 1/1 [00:00<00:00, 329.97it/s]\n",
      "100%|██████████| 1/1 [00:00<00:00, 378.48it/s]\n",
      "100%|██████████| 1/1 [00:00<00:00, 465.93it/s]\n",
      "100%|██████████| 1/1 [00:00<00:00, 303.39it/s]\n",
      "100%|██████████| 1/1 [00:00<00:00, 268.68it/s]\n",
      "100%|██████████| 1/1 [00:00<00:00, 277.73it/s]\n",
      "100%|██████████| 1/1 [00:00<00:00, 1002.94it/s]\n",
      "100%|██████████| 1/1 [00:00<00:00, 295.31it/s]\n",
      "100%|██████████| 1/1 [00:00<00:00, 291.19it/s]\n",
      "100%|██████████| 1/1 [00:00<00:00, 233.08it/s]\n",
      "100%|██████████| 1/1 [00:00<00:00, 309.38it/s]\n",
      "100%|██████████| 1/1 [00:00<00:00, 181.34it/s]\n",
      "100%|██████████| 1/1 [00:00<00:00, 263.53it/s]\n",
      "100%|██████████| 1/1 [00:00<00:00, 235.49it/s]\n",
      "100%|██████████| 1/1 [00:00<00:00, 488.90it/s]\n",
      "100%|██████████| 1/1 [00:00<00:00, 382.66it/s]\n",
      "100%|██████████| 1/1 [00:00<00:00, 215.86it/s]\n",
      "100%|██████████| 1/1 [00:00<00:00, 999.60it/s]\n",
      "100%|██████████| 1/1 [00:00<00:00, 283.67it/s]\n",
      "100%|██████████| 1/1 [00:00<00:00, 163.72it/s]\n",
      "100%|██████████| 1/1 [00:00<00:00, 334.37it/s]\n",
      "100%|██████████| 1/1 [00:00<00:00, 253.39it/s]\n",
      "100%|██████████| 1/1 [00:00<00:00, 328.99it/s]\n",
      "100%|██████████| 1/1 [00:00<00:00, 225.88it/s]\n",
      "100%|██████████| 1/1 [00:00<00:00, 246.56it/s]\n",
      "100%|██████████| 1/1 [00:00<00:00, 282.14it/s]\n",
      "100%|██████████| 1/1 [00:00<00:00, 259.16it/s]\n",
      "100%|██████████| 1/1 [00:00<00:00, 214.09it/s]\n",
      "100%|██████████| 1/1 [00:00<00:00, 240.53it/s]\n",
      "100%|██████████| 1/1 [00:00<00:00, 360.09it/s]\n",
      "100%|██████████| 1/1 [00:00<00:00, 196.09it/s]\n",
      "100%|██████████| 1/1 [00:00<00:00, 288.67it/s]\n",
      "100%|██████████| 1/1 [00:00<00:00, 239.36it/s]\n",
      "100%|██████████| 1/1 [00:00<00:00, 228.24it/s]\n",
      "100%|██████████| 1/1 [00:00<00:00, 245.01it/s]\n",
      "100%|██████████| 1/1 [00:00<00:00, 334.13it/s]\n",
      "100%|██████████| 1/1 [00:00<00:00, 319.91it/s]\n",
      "100%|██████████| 1/1 [00:00<00:00, 319.81it/s]\n",
      "100%|██████████| 1/1 [00:00<00:00, 240.38it/s]\n",
      "100%|██████████| 1/1 [00:00<00:00, 258.38it/s]\n",
      "100%|██████████| 1/1 [00:00<00:00, 1002.46it/s]\n"
     ]
    },
    {
     "name": "stderr",
     "output_type": "stream",
     "text": [
      "100%|██████████| 1/1 [00:00<00:00, 172.88it/s]\n",
      "100%|██████████| 1/1 [00:00<00:00, 198.06it/s]\n",
      "100%|██████████| 1/1 [00:00<00:00, 290.20it/s]\n",
      "100%|██████████| 1/1 [00:00<00:00, 310.64it/s]\n",
      "100%|██████████| 1/1 [00:00<00:00, 258.97it/s]\n",
      "100%|██████████| 1/1 [00:00<00:00, 254.63it/s]\n",
      "100%|██████████| 1/1 [00:00<00:00, 224.44it/s]\n",
      "100%|██████████| 1/1 [00:00<00:00, 279.53it/s]\n",
      "100%|██████████| 1/1 [00:00<00:00, 204.73it/s]\n",
      "100%|██████████| 1/1 [00:00<00:00, 240.00it/s]\n",
      "100%|██████████| 1/1 [00:00<00:00, 1000.31it/s]\n",
      "100%|██████████| 1/1 [00:00<00:00, 218.15it/s]\n",
      "100%|██████████| 1/1 [00:00<00:00, 217.69it/s]\n",
      "100%|██████████| 1/1 [00:00<00:00, 214.85it/s]\n",
      "100%|██████████| 1/1 [00:00<00:00, 242.74it/s]\n",
      "100%|██████████| 1/1 [00:00<00:00, 232.58it/s]\n",
      "100%|██████████| 1/1 [00:00<00:00, 298.78it/s]\n",
      "100%|██████████| 1/1 [00:00<00:00, 218.02it/s]\n",
      "100%|██████████| 1/1 [00:00<00:00, 229.86it/s]\n",
      "100%|██████████| 1/1 [00:00<00:00, 377.66it/s]\n",
      "100%|██████████| 1/1 [00:00<00:00, 252.43it/s]\n",
      "100%|██████████| 1/1 [00:00<00:00, 218.34it/s]\n",
      "100%|██████████| 1/1 [00:00<00:00, 231.97it/s]\n",
      "100%|██████████| 1/1 [00:00<00:00, 239.09it/s]\n",
      "100%|██████████| 1/1 [00:00<00:00, 209.01it/s]\n",
      "100%|██████████| 1/1 [00:00<00:00, 247.45it/s]\n",
      "100%|██████████| 1/1 [00:00<00:00, 239.03it/s]\n",
      "100%|██████████| 1/1 [00:00<00:00, 1001.98it/s]\n",
      "100%|██████████| 1/1 [00:00<00:00, 330.68it/s]\n",
      "100%|██████████| 1/1 [00:00<00:00, 286.83it/s]\n",
      "100%|██████████| 1/1 [00:00<00:00, 500.87it/s]\n",
      "100%|██████████| 1/1 [00:00<00:00, 615.99it/s]\n",
      "100%|██████████| 1/1 [00:00<00:00, 816.81it/s]\n",
      "100%|██████████| 1/1 [00:00<00:00, 492.23it/s]\n",
      "100%|██████████| 1/1 [00:00<00:00, 364.94it/s]\n",
      "100%|██████████| 1/1 [00:00<00:00, 369.44it/s]\n",
      "100%|██████████| 1/1 [00:00<00:00, 392.25it/s]\n",
      "100%|██████████| 1/1 [00:00<00:00, 290.22it/s]\n",
      "100%|██████████| 1/1 [00:00<00:00, 367.05it/s]\n",
      "100%|██████████| 1/1 [00:00<00:00, 270.32it/s]\n",
      "100%|██████████| 1/1 [00:00<00:00, 334.13it/s]\n",
      "100%|██████████| 1/1 [00:00<00:00, 349.09it/s]\n",
      "100%|██████████| 1/1 [00:00<00:00, 297.19it/s]\n",
      "100%|██████████| 1/1 [00:00<00:00, 285.04it/s]\n",
      "100%|██████████| 1/1 [00:00<00:00, 267.34it/s]\n",
      "100%|██████████| 1/1 [00:00<00:00, 409.40it/s]\n",
      "100%|██████████| 1/1 [00:00<00:00, 334.79it/s]\n",
      "100%|██████████| 1/1 [00:00<00:00, 304.38it/s]\n",
      "100%|██████████| 1/1 [00:00<00:00, 321.25it/s]\n",
      "100%|██████████| 1/1 [00:00<00:00, 312.29it/s]\n",
      "100%|██████████| 1/1 [00:00<00:00, 274.08it/s]\n",
      "100%|██████████| 1/1 [00:00<00:00, 324.89it/s]\n",
      "100%|██████████| 1/1 [00:00<00:00, 432.45it/s]\n",
      "100%|██████████| 1/1 [00:00<00:00, 256.44it/s]\n",
      "100%|██████████| 1/1 [00:00<00:00, 253.23it/s]\n",
      "100%|██████████| 1/1 [00:00<00:00, 252.64it/s]\n",
      "100%|██████████| 1/1 [00:00<00:00, 307.70it/s]\n",
      "100%|██████████| 1/1 [00:00<00:00, 226.94it/s]\n",
      "100%|██████████| 1/1 [00:00<00:00, 205.92it/s]\n",
      "100%|██████████| 1/1 [00:00<00:00, 288.43it/s]\n",
      "100%|██████████| 1/1 [00:00<00:00, 212.03it/s]\n",
      "100%|██████████| 1/1 [00:00<00:00, 346.55it/s]\n",
      "100%|██████████| 1/1 [00:00<00:00, 146.88it/s]\n",
      "100%|██████████| 1/1 [00:00<00:00, 258.21it/s]\n",
      "100%|██████████| 1/1 [00:00<00:00, 251.77it/s]\n",
      "100%|██████████| 1/1 [00:00<00:00, 179.29it/s]\n",
      "100%|██████████| 1/1 [00:00<00:00, 252.78it/s]\n",
      "100%|██████████| 1/1 [00:00<00:00, 267.63it/s]\n",
      "100%|██████████| 1/1 [00:00<00:00, 250.72it/s]\n",
      "100%|██████████| 1/1 [00:00<00:00, 1001.98it/s]\n",
      "100%|██████████| 1/1 [00:00<00:00, 283.61it/s]\n",
      "100%|██████████| 1/1 [00:00<00:00, 242.47it/s]\n",
      "100%|██████████| 1/1 [00:00<00:00, 343.51it/s]\n",
      "100%|██████████| 1/1 [00:00<00:00, 282.01it/s]\n",
      "100%|██████████| 1/1 [00:00<00:00, 287.06it/s]\n",
      "100%|██████████| 1/1 [00:00<00:00, 253.62it/s]\n",
      "100%|██████████| 1/1 [00:00<00:00, 370.42it/s]\n",
      "100%|██████████| 1/1 [00:00<00:00, 230.08it/s]\n",
      "100%|██████████| 1/1 [00:00<00:00, 431.91it/s]\n",
      "100%|██████████| 1/1 [00:00<00:00, 292.16it/s]\n",
      "100%|██████████| 1/1 [00:00<00:00, 271.62it/s]\n",
      "100%|██████████| 1/1 [00:00<00:00, 326.38it/s]\n",
      "100%|██████████| 1/1 [00:00<00:00, 250.48it/s]\n",
      "100%|██████████| 1/1 [00:00<00:00, 968.89it/s]\n",
      "100%|██████████| 1/1 [00:00<00:00, 208.36it/s]\n",
      "100%|██████████| 1/1 [00:00<00:00, 165.17it/s]\n",
      "100%|██████████| 1/1 [00:00<00:00, 271.23it/s]\n",
      "100%|██████████| 1/1 [00:00<00:00, 308.84it/s]\n",
      "100%|██████████| 1/1 [00:00<00:00, 200.85it/s]\n",
      "100%|██████████| 1/1 [00:00<00:00, 203.31it/s]\n",
      "100%|██████████| 1/1 [00:00<00:00, 258.30it/s]\n",
      "100%|██████████| 1/1 [00:00<00:00, 204.22it/s]\n",
      "100%|██████████| 1/1 [00:00<00:00, 253.60it/s]\n",
      "100%|██████████| 1/1 [00:00<00:00, 998.64it/s]\n",
      "100%|██████████| 1/1 [00:00<00:00, 252.61it/s]\n",
      "100%|██████████| 1/1 [00:00<00:00, 224.79it/s]\n",
      "100%|██████████| 1/1 [00:00<00:00, 377.70it/s]\n",
      "100%|██████████| 1/1 [00:00<00:00, 183.74it/s]\n",
      "100%|██████████| 1/1 [00:00<00:00, 254.90it/s]\n",
      "100%|██████████| 1/1 [00:00<00:00, 282.18it/s]\n",
      "100%|██████████| 1/1 [00:00<00:00, 560.66it/s]\n",
      "100%|██████████| 1/1 [00:00<00:00, 354.31it/s]\n",
      "100%|██████████| 1/1 [00:00<00:00, 212.11it/s]\n",
      "100%|██████████| 1/1 [00:00<00:00, 230.36it/s]\n",
      "100%|██████████| 1/1 [00:00<00:00, 250.77it/s]\n",
      "100%|██████████| 1/1 [00:00<00:00, 304.71it/s]\n",
      "100%|██████████| 1/1 [00:00<00:00, 366.41it/s]\n",
      "100%|██████████| 1/1 [00:00<00:00, 220.14it/s]\n",
      "100%|██████████| 1/1 [00:00<00:00, 234.50it/s]\n",
      "100%|██████████| 1/1 [00:00<00:00, 389.12it/s]\n",
      "100%|██████████| 1/1 [00:00<00:00, 285.66it/s]\n",
      "100%|██████████| 1/1 [00:00<00:00, 243.36it/s]\n",
      "100%|██████████| 1/1 [00:00<00:00, 223.55it/s]\n",
      "100%|██████████| 1/1 [00:00<00:00, 483.21it/s]\n",
      "100%|██████████| 1/1 [00:00<00:00, 226.06it/s]\n",
      "100%|██████████| 1/1 [00:00<00:00, 292.90it/s]\n",
      "100%|██████████| 1/1 [00:00<00:00, 361.70it/s]\n",
      "100%|██████████| 1/1 [00:00<00:00, 287.56it/s]\n",
      "100%|██████████| 1/1 [00:00<00:00, 272.52it/s]\n",
      "100%|██████████| 1/1 [00:00<00:00, 483.88it/s]\n",
      "100%|██████████| 1/1 [00:00<00:00, 365.48it/s]\n",
      "100%|██████████| 1/1 [00:00<00:00, 300.09it/s]\n",
      "100%|██████████| 1/1 [00:00<00:00, 1004.38it/s]\n",
      "100%|██████████| 1/1 [00:00<00:00, 479.24it/s]\n",
      "100%|██████████| 1/1 [00:00<00:00, 973.38it/s]\n",
      "100%|██████████| 1/1 [00:00<00:00, 247.58it/s]\n",
      "100%|██████████| 1/1 [00:00<00:00, 253.77it/s]\n",
      "100%|██████████| 1/1 [00:00<00:00, 220.50it/s]\n",
      "100%|██████████| 1/1 [00:00<00:00, 249.54it/s]\n",
      "100%|██████████| 1/1 [00:00<00:00, 290.83it/s]\n",
      "100%|██████████| 1/1 [00:00<?, ?it/s]\n",
      "100%|██████████| 1/1 [00:00<00:00, 176.41it/s]\n",
      "100%|██████████| 1/1 [00:00<00:00, 205.25it/s]\n",
      "100%|██████████| 1/1 [00:00<00:00, 242.36it/s]\n",
      "100%|██████████| 1/1 [00:00<00:00, 246.78it/s]\n",
      "100%|██████████| 1/1 [00:00<00:00, 194.20it/s]\n",
      "100%|██████████| 1/1 [00:00<00:00, 253.59it/s]\n",
      "100%|██████████| 1/1 [00:00<00:00, 373.06it/s]\n",
      "100%|██████████| 1/1 [00:00<00:00, 390.79it/s]\n",
      "100%|██████████| 1/1 [00:00<00:00, 252.44it/s]\n",
      "100%|██████████| 1/1 [00:00<00:00, 360.24it/s]\n",
      "100%|██████████| 1/1 [00:00<00:00, 297.30it/s]\n",
      "100%|██████████| 1/1 [00:00<00:00, 311.66it/s]\n",
      "100%|██████████| 1/1 [00:00<00:00, 386.50it/s]\n",
      "100%|██████████| 1/1 [00:00<00:00, 273.80it/s]\n",
      "100%|██████████| 1/1 [00:00<00:00, 304.22it/s]\n",
      "100%|██████████| 1/1 [00:00<00:00, 254.69it/s]\n",
      "100%|██████████| 1/1 [00:00<00:00, 369.38it/s]\n",
      "100%|██████████| 1/1 [00:00<00:00, 363.43it/s]\n",
      "100%|██████████| 1/1 [00:00<00:00, 453.19it/s]\n",
      "100%|██████████| 1/1 [00:00<00:00, 250.78it/s]\n",
      "100%|██████████| 1/1 [00:00<00:00, 128.17it/s]\n",
      "100%|██████████| 1/1 [00:00<00:00, 284.03it/s]\n",
      "100%|██████████| 1/1 [00:00<00:00, 461.67it/s]\n",
      "100%|██████████| 1/1 [00:00<00:00, 254.76it/s]\n",
      "100%|██████████| 1/1 [00:00<00:00, 146.80it/s]\n",
      "100%|██████████| 1/1 [00:00<00:00, 274.69it/s]\n",
      "100%|██████████| 1/1 [00:00<00:00, 316.48it/s]\n",
      "100%|██████████| 1/1 [00:00<00:00, 237.09it/s]\n",
      "100%|██████████| 1/1 [00:00<00:00, 185.19it/s]\n",
      "100%|██████████| 1/1 [00:00<00:00, 977.01it/s]\n",
      "100%|██████████| 1/1 [00:00<00:00, 328.60it/s]\n",
      "100%|██████████| 1/1 [00:00<00:00, 301.31it/s]\n",
      "100%|██████████| 1/1 [00:00<00:00, 309.25it/s]\n",
      "100%|██████████| 1/1 [00:00<00:00, 231.37it/s]\n",
      "100%|██████████| 1/1 [00:00<00:00, 237.44it/s]\n",
      "100%|██████████| 1/1 [00:00<00:00, 175.97it/s]\n",
      "100%|██████████| 1/1 [00:00<00:00, 155.28it/s]\n",
      "100%|██████████| 1/1 [00:00<00:00, 214.37it/s]\n",
      "100%|██████████| 1/1 [00:00<00:00, 1003.42it/s]\n",
      "100%|██████████| 1/1 [00:00<00:00, 1000.79it/s]\n",
      "100%|██████████| 1/1 [00:00<00:00, 222.11it/s]\n",
      "100%|██████████| 1/1 [00:00<00:00, 260.39it/s]\n",
      "100%|██████████| 1/1 [00:00<00:00, 372.76it/s]\n",
      "100%|██████████| 1/1 [00:00<00:00, 220.79it/s]\n",
      "100%|██████████| 1/1 [00:00<00:00, 218.23it/s]\n",
      "100%|██████████| 1/1 [00:00<00:00, 245.97it/s]\n",
      "100%|██████████| 1/1 [00:00<00:00, 259.12it/s]\n",
      "100%|██████████| 1/1 [00:00<00:00, 235.13it/s]\n",
      "100%|██████████| 1/1 [00:00<00:00, 273.39it/s]\n",
      "100%|██████████| 1/1 [00:00<00:00, 265.75it/s]\n",
      "100%|██████████| 1/1 [00:00<00:00, 442.81it/s]\n",
      "100%|██████████| 1/1 [00:00<00:00, 227.82it/s]\n",
      "100%|██████████| 1/1 [00:00<00:00, 389.62it/s]\n",
      "100%|██████████| 1/1 [00:00<00:00, 392.17it/s]\n",
      "100%|██████████| 1/1 [00:00<00:00, 352.64it/s]\n",
      "100%|██████████| 1/1 [00:00<00:00, 374.26it/s]\n",
      "100%|██████████| 1/1 [00:00<00:00, 597.73it/s]\n",
      "100%|██████████| 1/1 [00:00<00:00, 333.91it/s]\n",
      "100%|██████████| 1/1 [00:00<00:00, 171.93it/s]\n",
      "100%|██████████| 1/1 [00:00<00:00, 309.04it/s]\n",
      "100%|██████████| 1/1 [00:00<00:00, 145.96it/s]\n",
      "100%|██████████| 1/1 [00:00<00:00, 230.68it/s]\n",
      "100%|██████████| 1/1 [00:00<00:00, 244.41it/s]\n",
      "100%|██████████| 1/1 [00:00<00:00, 307.23it/s]\n",
      "100%|██████████| 1/1 [00:00<00:00, 275.76it/s]\n",
      "100%|██████████| 1/1 [00:00<00:00, 303.56it/s]\n",
      "100%|██████████| 1/1 [00:00<00:00, 236.42it/s]\n",
      "100%|██████████| 1/1 [00:00<00:00, 275.85it/s]\n",
      "100%|██████████| 1/1 [00:00<00:00, 229.40it/s]\n",
      "100%|██████████| 1/1 [00:00<00:00, 295.58it/s]\n",
      "100%|██████████| 1/1 [00:00<00:00, 295.85it/s]\n",
      "100%|██████████| 1/1 [00:00<00:00, 266.85it/s]\n",
      "100%|██████████| 1/1 [00:00<00:00, 151.95it/s]\n",
      "100%|██████████| 1/1 [00:00<00:00, 500.04it/s]\n",
      "100%|██████████| 1/1 [00:00<00:00, 408.05it/s]\n",
      "100%|██████████| 1/1 [00:00<00:00, 397.34it/s]\n",
      "100%|██████████| 1/1 [00:00<00:00, 338.61it/s]\n",
      "100%|██████████| 1/1 [00:00<00:00, 485.00it/s]\n",
      "100%|██████████| 1/1 [00:00<00:00, 171.86it/s]\n",
      "100%|██████████| 1/1 [00:00<00:00, 230.11it/s]\n",
      "100%|██████████| 1/1 [00:00<00:00, 298.72it/s]\n",
      "100%|██████████| 1/1 [00:00<00:00, 285.31it/s]\n",
      "100%|██████████| 1/1 [00:00<00:00, 354.52it/s]\n",
      "100%|██████████| 1/1 [00:00<00:00, 241.72it/s]\n",
      "100%|██████████| 1/1 [00:00<00:00, 223.72it/s]\n",
      "100%|██████████| 1/1 [00:00<00:00, 244.57it/s]\n",
      "100%|██████████| 1/1 [00:00<00:00, 279.40it/s]\n",
      "100%|██████████| 1/1 [00:00<00:00, 297.13it/s]\n",
      "100%|██████████| 1/1 [00:00<00:00, 254.12it/s]\n",
      "100%|██████████| 1/1 [00:00<00:00, 199.42it/s]\n",
      "100%|██████████| 1/1 [00:00<00:00, 1006.07it/s]\n",
      "100%|██████████| 1/1 [00:00<00:00, 282.31it/s]\n",
      "100%|██████████| 1/1 [00:00<00:00, 196.60it/s]\n",
      "100%|██████████| 1/1 [00:00<00:00, 258.19it/s]\n",
      "100%|██████████| 1/1 [00:00<00:00, 302.21it/s]\n",
      "100%|██████████| 1/1 [00:00<00:00, 235.34it/s]\n",
      "100%|██████████| 1/1 [00:00<00:00, 278.36it/s]\n",
      "100%|██████████| 1/1 [00:00<00:00, 247.77it/s]\n",
      "100%|██████████| 1/1 [00:00<00:00, 183.89it/s]\n",
      "100%|██████████| 1/1 [00:00<00:00, 246.32it/s]\n",
      "100%|██████████| 1/1 [00:00<00:00, 236.63it/s]\n",
      "100%|██████████| 1/1 [00:00<00:00, 221.60it/s]\n",
      "100%|██████████| 1/1 [00:00<00:00, 207.95it/s]\n",
      "100%|██████████| 1/1 [00:00<00:00, 255.70it/s]\n",
      "100%|██████████| 1/1 [00:00<00:00, 340.83it/s]\n",
      "100%|██████████| 1/1 [00:00<00:00, 735.20it/s]\n",
      "100%|██████████| 1/1 [00:00<00:00, 190.46it/s]\n",
      "100%|██████████| 1/1 [00:00<00:00, 199.84it/s]\n",
      "100%|██████████| 1/1 [00:00<00:00, 284.80it/s]\n",
      "100%|██████████| 1/1 [00:00<00:00, 137.84it/s]\n",
      "100%|██████████| 1/1 [00:00<00:00, 395.20it/s]\n",
      "100%|██████████| 1/1 [00:00<00:00, 242.59it/s]\n",
      "100%|██████████| 1/1 [00:00<00:00, 363.96it/s]\n",
      "100%|██████████| 1/1 [00:00<00:00, 199.79it/s]\n",
      "100%|██████████| 1/1 [00:00<00:00, 329.27it/s]\n",
      "100%|██████████| 1/1 [00:00<00:00, 250.32it/s]\n",
      "100%|██████████| 1/1 [00:00<00:00, 343.49it/s]\n",
      "100%|██████████| 1/1 [00:00<00:00, 151.31it/s]\n",
      "100%|██████████| 1/1 [00:00<00:00, 184.52it/s]\n",
      "100%|██████████| 1/1 [00:00<00:00, 188.31it/s]\n",
      "100%|██████████| 1/1 [00:00<00:00, 269.87it/s]\n",
      "100%|██████████| 1/1 [00:00<00:00, 306.78it/s]\n",
      "100%|██████████| 1/1 [00:00<00:00, 210.79it/s]\n",
      "100%|██████████| 1/1 [00:00<00:00, 186.90it/s]\n",
      "100%|██████████| 1/1 [00:00<00:00, 415.73it/s]\n",
      "100%|██████████| 1/1 [00:00<00:00, 265.04it/s]\n",
      "100%|██████████| 1/1 [00:00<00:00, 267.48it/s]\n",
      "100%|██████████| 1/1 [00:00<00:00, 174.81it/s]\n",
      "100%|██████████| 1/1 [00:00<00:00, 204.70it/s]\n",
      "100%|██████████| 1/1 [00:00<00:00, 319.13it/s]\n",
      "100%|██████████| 1/1 [00:00<00:00, 213.32it/s]\n",
      "100%|██████████| 1/1 [00:00<00:00, 175.65it/s]\n",
      "100%|██████████| 1/1 [00:00<00:00, 233.03it/s]\n",
      "100%|██████████| 1/1 [00:00<00:00, 344.44it/s]\n",
      "100%|██████████| 1/1 [00:00<00:00, 233.06it/s]\n",
      "100%|██████████| 1/1 [00:00<00:00, 205.24it/s]\n",
      "100%|██████████| 1/1 [00:00<00:00, 333.25it/s]\n",
      "100%|██████████| 1/1 [00:00<00:00, 235.99it/s]\n",
      "100%|██████████| 1/1 [00:00<00:00, 244.81it/s]\n",
      "100%|██████████| 1/1 [00:00<00:00, 210.47it/s]\n",
      "100%|██████████| 1/1 [00:00<00:00, 242.82it/s]\n",
      "100%|██████████| 1/1 [00:00<00:00, 250.53it/s]\n",
      "100%|██████████| 1/1 [00:00<?, ?it/s]\n",
      "100%|██████████| 1/1 [00:00<00:00, 270.86it/s]\n",
      "100%|██████████| 1/1 [00:00<00:00, 139.11it/s]\n",
      "100%|██████████| 1/1 [00:00<00:00, 189.57it/s]\n",
      "100%|██████████| 1/1 [00:00<00:00, 153.49it/s]\n",
      "100%|██████████| 1/1 [00:00<00:00, 319.83it/s]\n",
      "100%|██████████| 1/1 [00:00<00:00, 168.68it/s]\n",
      "100%|██████████| 1/1 [00:00<00:00, 250.41it/s]\n",
      "100%|██████████| 1/1 [00:00<00:00, 273.82it/s]\n",
      "100%|██████████| 1/1 [00:00<00:00, 375.43it/s]\n",
      "100%|██████████| 1/1 [00:00<00:00, 154.88it/s]\n",
      "100%|██████████| 1/1 [00:00<00:00, 181.41it/s]\n",
      "100%|██████████| 1/1 [00:00<00:00, 196.09it/s]\n",
      "100%|██████████| 1/1 [00:00<00:00, 282.81it/s]\n",
      "100%|██████████| 1/1 [00:00<00:00, 220.10it/s]\n",
      "100%|██████████| 1/1 [00:00<00:00, 705.87it/s]\n",
      "100%|██████████| 1/1 [00:00<00:00, 350.61it/s]\n",
      "100%|██████████| 1/1 [00:00<00:00, 249.16it/s]\n",
      "100%|██████████| 1/1 [00:00<?, ?it/s]\n",
      "100%|██████████| 1/1 [00:00<?, ?it/s]\n",
      "100%|██████████| 1/1 [00:00<00:00, 170.27it/s]\n",
      "100%|██████████| 1/1 [00:00<00:00, 502.13it/s]\n",
      "100%|██████████| 1/1 [00:00<00:00, 583.84it/s]\n",
      "100%|██████████| 1/1 [00:00<?, ?it/s]\n",
      "100%|██████████| 1/1 [00:00<00:00, 275.14it/s]\n",
      "100%|██████████| 1/1 [00:00<00:00, 145.31it/s]\n",
      "100%|██████████| 1/1 [00:00<00:00, 286.91it/s]\n",
      "100%|██████████| 1/1 [00:00<00:00, 244.99it/s]\n",
      "100%|██████████| 1/1 [00:00<00:00, 214.21it/s]\n",
      "100%|██████████| 1/1 [00:00<00:00, 234.58it/s]\n",
      "100%|██████████| 1/1 [00:00<00:00, 261.88it/s]\n",
      "100%|██████████| 1/1 [00:00<00:00, 311.15it/s]\n",
      "100%|██████████| 1/1 [00:00<00:00, 203.60it/s]\n",
      "100%|██████████| 1/1 [00:00<00:00, 183.49it/s]\n",
      "100%|██████████| 1/1 [00:00<00:00, 222.43it/s]"
     ]
    },
    {
     "name": "stdout",
     "output_type": "stream",
     "text": [
      "p-value 1.0\n"
     ]
    },
    {
     "name": "stderr",
     "output_type": "stream",
     "text": [
      "\n"
     ]
    }
   ],
   "source": [
    "count = 0.\n",
    "roll_size = 1000\n",
    "num_trials = 1000\n",
    "expected = 1000 / 2.\n",
    "\n",
    "for _ in range(num_trials):\n",
    "    null_hypothesis_sim = SimulateNullHypothesisCoin(roll_size)\n",
    "    null_hypothesis_sim_bin = [int(x) for x in null_hypothesis_sim]\n",
    "    chi_null = ChiSquared(null_hypothesis_sim_bin, expected)\n",
    "    \n",
    "    alternate_hypothesis_sim = SimulateAlternateHypothesisCoin()\n",
    "    alternate_hypothesis_sim_bin = [int(x) for x in alternate_hypothesis_sim]\n",
    "    chi_alternate = ChiSquared(alternate_hypothesis_sim_bin, expected)\n",
    "\n",
    "    if chi_null >= chi_alternate:\n",
    "        count += 1\n",
    "\n",
    "pvalue = count / num_trials\n",
    "print ('p-value', pvalue)"
   ]
  },
  {
   "cell_type": "markdown",
   "metadata": {},
   "source": [
    "If your p-value is low, there is a *very small* possibility these skewed results are due to chance, so our coin is ***crooked***. If it's high, you cannot conclude and need to accept the null hypothesis.\n",
    "\n",
    "So, which is it?\n",
    "\n",
    "That's **hypothesis testing** in a nutshell. All of the classical frequentist tests you learn in classical (non-pythonized and MCMC-ized) statistics class are just ways to compute p-values *efficiently* when computation was expensive. Now that computation is fast and clever algorithms like Metropolis and NUTS are available, Bayesian estimation is the *preferred* way to do statistics, even to compute something like a p-value!"
   ]
  },
  {
   "cell_type": "code",
   "execution_count": null,
   "metadata": {},
   "outputs": [],
   "source": []
  },
  {
   "cell_type": "code",
   "execution_count": null,
   "metadata": {},
   "outputs": [],
   "source": []
  }
 ],
 "metadata": {
  "kernelspec": {
   "display_name": "Python 3",
   "language": "python",
   "name": "python3"
  },
  "language_info": {
   "codemirror_mode": {
    "name": "ipython",
    "version": 3
   },
   "file_extension": ".py",
   "mimetype": "text/x-python",
   "name": "python",
   "nbconvert_exporter": "python",
   "pygments_lexer": "ipython3",
   "version": "3.7.4"
  }
 },
 "nbformat": 4,
 "nbformat_minor": 2
}
