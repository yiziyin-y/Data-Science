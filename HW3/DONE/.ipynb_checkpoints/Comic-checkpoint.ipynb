{
 "cells": [
  {
   "cell_type": "markdown",
   "metadata": {},
   "source": [
    "## Adding a border\n",
    "We add a border to the image with the `PIL` library:"
   ]
  },
  {
   "cell_type": "code",
   "execution_count": 12,
   "metadata": {},
   "outputs": [],
   "source": [
    "from PIL import Image as pili, ImageOps as piliops\n",
    "for i in range(1,21):\n",
    "  piliops.expand(pili.open('images/'+str(i)+'.png'), border=(10,10),fill='white').save('images/'+str(i)+'.png')\n"
   ]
  },
  {
   "cell_type": "markdown",
   "metadata": {},
   "source": [
    "## Text overlays\n",
    "\n",
    "This is mutli-line text with an opaque background:"
   ]
  },
  {
   "cell_type": "code",
   "execution_count": 23,
   "metadata": {},
   "outputs": [
    {
     "name": "stdout",
     "output_type": "stream",
     "text": [
      "1 532 74\n",
      "2 1341 74\n",
      "1 828 74\n",
      "1 575 73\n",
      "2 1565 74\n",
      "1 1058 74\n",
      "1 830 69\n",
      "1 775 74\n",
      "1 342 60\n",
      "1 656 74\n",
      "1 806 74\n",
      "1 615 60\n",
      "1 707 74\n",
      "1 1021 74\n",
      "1 982 74\n",
      "1 857 74\n",
      "1 1208 74\n",
      "1 1301 74\n",
      "1 794 60\n",
      "1 117 74\n"
     ]
    }
   ],
   "source": [
    "from PIL import Image as pili, ImageDraw as pild, ImageFont as pilf \n",
    "import pandas as pd\n",
    "import numpy as np\n",
    "\n",
    "for i in range(1,21):\n",
    "    \n",
    "\n",
    "    TINT_COLOR = (0, 0, 0)  # Black\n",
    "    TRANSPARENCY = .25  # Degree of transparency, 0-100%\n",
    "    OPACITY = int(255 * TRANSPARENCY)\n",
    "    from PIL import Image, ImageFont, ImageDraw\n",
    "    img = pili.open('images/'+str(i)+'.png').convert('RGBA')\n",
    "\n",
    "    overlay = pili.new('RGBA', img.size, TINT_COLOR+(0,))\n",
    "    draw = pild.Draw(overlay)\n",
    "    font = pilf.truetype(\"arial.ttf\", 66)\n",
    "    #x, y = (img.width - 510, img.height-100)\n",
    "    \n",
    "    data = pd.read_csv('./dialog.csv')\n",
    "    data.head(10)\n",
    "    text = data.values[i-1][0]\n",
    "    \n",
    "    w, h = font.getsize(text)\n",
    "    num_lines = len(text.split('\\n'))\n",
    "    print(num_lines, w, h)\n",
    "    x, y = 100, img.height - (num_lines+0.2*num_lines)*h\n",
    "    #draw.rectangle((x, y, x + w, y + h), fill='black')\n",
    "    #draw.rectangle((x, y, x + w, y + 4*h), fill=TINT_COLOR+(OPACITY,))\n",
    "    draw.rectangle((x, y, x + img.width - 200, y + (num_lines+0.2*num_lines)*h), fill=TINT_COLOR+(OPACITY,))\n",
    "    draw.text((x, y), text, fill=(209, 239, 8), font=font)\n",
    "\n",
    "    # Alpha composite these two images together to obtain the desired result.\n",
    "    img = pili.alpha_composite(img, overlay)\n",
    "    img = img.convert(\"RGB\") # Remove alpha for saving in jpg format.\n",
    "\n",
    "    img.save('images/'+str(i)+'.png')"
   ]
  },
  {
   "cell_type": "markdown",
   "metadata": {},
   "source": [
    "## Horizontal strip\n",
    "\n",
    "This is how to stitch images horizontally:"
   ]
  },
  {
   "cell_type": "code",
   "execution_count": 44,
   "metadata": {},
   "outputs": [
    {
     "name": "stderr",
     "output_type": "stream",
     "text": [
      "C:\\Users\\92967\\Anaconda3\\lib\\site-packages\\ipykernel_launcher.py:14: FutureWarning: arrays to stack must be passed as a \"sequence\" type such as list or tuple. Support for non-sequence iterables such as generators is deprecated as of NumPy 1.16 and will raise an error in the future.\n",
      "  \n"
     ]
    }
   ],
   "source": [
    "import numpy as np\n",
    "import PIL\n",
    "i = 1\n",
    "j = 1\n",
    "while i < 21 :\n",
    "    list_im = ['images/'+str(i)+'.png',\n",
    "                'images/'+str(i+1)+'.png',\n",
    "                'images/'+str(i+2)+'.png',\n",
    "                'images/'+str(i+3)+'.png']\n",
    "    imgs    = [ PIL.Image.open(i) for i in list_im ]\n",
    "\n",
    "    # pick the image which is the smallest, and resize the others to match it (can be arbitrary image shape here)\n",
    "    min_shape = sorted( [(np.sum(i.size), i.size ) for i in imgs])[0][1]\n",
    "    imgs_comb = np.hstack( (np.asarray( i.resize(min_shape) ) for i in imgs ) )\n",
    "\n",
    "    # save that beautiful picture\n",
    "    imgs_comb = PIL.Image.fromarray( imgs_comb)\n",
    "    imgs_comb.save('images/Hor'+str(j)+'.png')\n",
    "    j = j + 1\n",
    "    i = i + 4"
   ]
  },
  {
   "cell_type": "markdown",
   "metadata": {},
   "source": [
    "## Vertical strip\n",
    "\n",
    "This is how to stitch images vertically:"
   ]
  },
  {
   "cell_type": "code",
   "execution_count": 46,
   "metadata": {},
   "outputs": [
    {
     "name": "stderr",
     "output_type": "stream",
     "text": [
      "C:\\Users\\92967\\Anaconda3\\lib\\site-packages\\ipykernel_launcher.py:10: FutureWarning: arrays to stack must be passed as a \"sequence\" type such as list or tuple. Support for non-sequence iterables such as generators is deprecated as of NumPy 1.16 and will raise an error in the future.\n",
      "  # Remove the CWD from sys.path while we load stuff.\n"
     ]
    }
   ],
   "source": [
    "j = 1\n",
    "list_im = ['images/Hor'+str(j)+'.png',\n",
    "            'images/Hor'+str(j+1)+'.png',\n",
    "           'images/Hor'+str(j+2)+'.png',\n",
    "           'images/Hor'+str(j+3)+'.png'\n",
    "          'images/Hor'+str(j+4)+'.png']\n",
    "imgs    = [ PIL.Image.open(i) for i in list_im ]\n",
    "\n",
    "# pick the image which is the smallest, and resize the others to match it (can be arbitrary image shape here)\n",
    "min_shape = sorted( [(np.sum(i.size), i.size ) for i in imgs])[0][1]\n",
    "imgs_comb = np.vstack( (np.asarray( i.resize(min_shape) ) for i in imgs ) )\n",
    "\n",
    "# save that beautiful picture\n",
    "imgs_comb = PIL.Image.fromarray( imgs_comb)\n",
    "imgs_comb.save('images/Page'+str(1)+'.png' ) "
   ]
  },
  {
   "cell_type": "markdown",
   "metadata": {},
   "source": [
    "## From images to pdfs\n",
    "\n",
    "This is how to create a pdf from image pages:"
   ]
  },
  {
   "cell_type": "code",
   "execution_count": null,
   "metadata": {},
   "outputs": [],
   "source": [
    "from PIL import Image\n",
    "from fpdf import FPDF\n",
    "\n",
    "#pdf = FPDF()\n",
    "cover = Image.open('Fantastic_Comics.jpg')\n",
    "width, height = cover.size\n",
    "pdf = FPDF(unit = \"pt\", format = [width, height])\n",
    "    \n",
    "# imagelist is the list with all image filenames\n",
    "imagelist = ['Fantastic_Comics.jpg',\n",
    "             './avengers/dims5.png', \n",
    "             './avengers/dims5.png', \n",
    "             './avengers/dims5.png', \n",
    "             './avengers/dims5.png']\n",
    "\n",
    "for image in imagelist:\n",
    "    pdf.add_page()\n",
    "    pdf.image(image, 0, 0, width, height)\n",
    "pdf.output(\"./avengers/avengers.pdf\", \"F\")\n",
    "print(\"done!\")"
   ]
  }
 ],
 "metadata": {
  "kernelspec": {
   "display_name": "Python 3",
   "language": "python",
   "name": "python3"
  },
  "language_info": {
   "codemirror_mode": {
    "name": "ipython",
    "version": 3
   },
   "file_extension": ".py",
   "mimetype": "text/x-python",
   "name": "python",
   "nbconvert_exporter": "python",
   "pygments_lexer": "ipython3",
   "version": "3.7.4"
  }
 },
 "nbformat": 4,
 "nbformat_minor": 2
}
