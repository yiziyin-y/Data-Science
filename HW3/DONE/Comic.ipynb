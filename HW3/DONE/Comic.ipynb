{
 "cells": [
  {
   "cell_type": "markdown",
   "metadata": {},
   "source": [
    "## Adding a border\n",
    "We add a border to the image with the `PIL` library:"
   ]
  },
  {
   "cell_type": "code",
   "execution_count": 18,
   "metadata": {},
   "outputs": [],
   "source": [
    "from PIL import Image as pili, ImageOps as piliops\n",
    "for i in range(1,81):\n",
    "  piliops.expand(pili.open('images/'+str(i)+'.jpg'), border=(10,10),fill='white').save('images/'+str(i)+'.jpg')\n"
   ]
  },
  {
   "cell_type": "markdown",
   "metadata": {},
   "source": [
    "## Text overlays\n",
    "\n",
    "This is mutli-line text with an opaque background:"
   ]
  },
  {
   "cell_type": "code",
   "execution_count": 19,
   "metadata": {},
   "outputs": [
    {
     "name": "stdout",
     "output_type": "stream",
     "text": [
      "1 208 28\n",
      "1 247 34\n",
      "1 134 34\n",
      "1 263 34\n",
      "1 282 34\n",
      "1 365 34\n",
      "1 315 34\n",
      "1 413 34\n",
      "1 342 28\n",
      "1 157 34\n",
      "1 234 34\n",
      "1 186 28\n",
      "1 90 28\n",
      "1 327 34\n",
      "1 318 34\n",
      "1 285 34\n",
      "1 76 34\n",
      "1 42 34\n",
      "2 535 34\n",
      "1 236 34\n",
      "1 410 34\n",
      "1 216 28\n",
      "1 114 32\n",
      "1 53 28\n",
      "1 53 28\n",
      "1 53 28\n",
      "1 53 28\n",
      "1 193 28\n",
      "1 188 34\n",
      "1 260 34\n",
      "1 78 34\n",
      "1 235 32\n",
      "1 197 28\n",
      "1 48 28\n",
      "1 143 28\n",
      "1 82 28\n",
      "1 262 28\n",
      "1 451 34\n",
      "1 131 28\n",
      "1 83 28\n",
      "1 150 34\n",
      "1 91 28\n",
      "1 213 28\n",
      "1 143 28\n",
      "1 306 28\n",
      "1 326 34\n",
      "1 162 34\n",
      "1 30 28\n",
      "1 369 34\n",
      "1 135 34\n",
      "1 190 34\n",
      "1 223 34\n",
      "1 132 34\n",
      "1 66 34\n",
      "1 162 28\n",
      "1 123 28\n",
      "1 38 28\n",
      "1 98 34\n",
      "1 161 28\n",
      "1 135 34\n",
      "1 152 28\n",
      "1 196 34\n",
      "1 212 34\n",
      "1 65 28\n",
      "1 65 28\n",
      "1 228 28\n",
      "1 148 28\n",
      "1 150 28\n",
      "1 30 28\n",
      "1 30 28\n",
      "1 199 34\n",
      "2 336 34\n",
      "1 349 34\n",
      "1 170 28\n",
      "1 303 34\n",
      "1 221 28\n",
      "1 116 28\n",
      "1 322 34\n",
      "1 68 28\n",
      "1 332 34\n",
      "1 132 28\n"
     ]
    }
   ],
   "source": [
    "from PIL import Image as pili, ImageDraw as pild, ImageFont as pilf \n",
    "import pandas as pd\n",
    "import numpy as np\n",
    "\n",
    "for i in range(1,82):\n",
    "    \n",
    "\n",
    "    TINT_COLOR = (0, 0, 0)  # Black\n",
    "    TRANSPARENCY = .25  # Degree of transparency, 0-100%\n",
    "    OPACITY = int(255 * TRANSPARENCY)\n",
    "    from PIL import Image, ImageFont, ImageDraw\n",
    "    img = pili.open('images/'+str(i)+'.jpg').convert('RGBA')\n",
    "\n",
    "    overlay = pili.new('RGBA', img.size, TINT_COLOR+(0,))\n",
    "    draw = pild.Draw(overlay)\n",
    "    font = pilf.truetype(\"arial.ttf\", 30)\n",
    "    #x, y = (img.width - 510, img.height-100)\n",
    "    \n",
    "    data = pd.read_csv('./dialog.csv')\n",
    "    data.head(10)\n",
    "    text = data.values[i-1][0]\n",
    "    \n",
    "    w, h = font.getsize(text)\n",
    "    num_lines = len(text.split('\\n'))\n",
    "    print(num_lines, w, h)\n",
    "    x, y = 70, img.height - (num_lines+0.2*num_lines)*h\n",
    "    #draw.rectangle((x, y, x + w, y + h), fill='black')\n",
    "    #draw.rectangle((x, y, x + w, y + 4*h), fill=TINT_COLOR+(OPACITY,))\n",
    "    draw.rectangle((x, y, x + img.width - 200, y + (num_lines+0.2*num_lines)*h), fill=TINT_COLOR+(OPACITY,))\n",
    "    draw.text((x, y), text, fill=(150, 200, 6), font=font)\n",
    "\n",
    "    # Alpha composite these two images together to obtain the desired result.\n",
    "    img = pili.alpha_composite(img, overlay)\n",
    "    img = img.convert(\"RGB\") # Remove alpha for saving in jpg format.\n",
    "\n",
    "    img.save('images/'+str(i)+'.jpg')"
   ]
  },
  {
   "cell_type": "markdown",
   "metadata": {},
   "source": [
    "## Horizontal strip\n",
    "\n",
    "This is how to stitch images horizontally:"
   ]
  },
  {
   "cell_type": "code",
   "execution_count": 35,
   "metadata": {},
   "outputs": [
    {
     "name": "stderr",
     "output_type": "stream",
     "text": [
      "D:\\Anaconda\\lib\\site-packages\\ipykernel_launcher.py:14: FutureWarning: arrays to stack must be passed as a \"sequence\" type such as list or tuple. Support for non-sequence iterables such as generators is deprecated as of NumPy 1.16 and will raise an error in the future.\n",
      "  \n"
     ]
    }
   ],
   "source": [
    "import numpy as np\n",
    "import PIL\n",
    "i = 1\n",
    "j = 1\n",
    "while i <= 90 :\n",
    "    list_im = ['images/'+str(i)+'.jpg',\n",
    "                'images/'+str(i+1)+'.jpg',\n",
    "                'images/'+str(i+2)+'.jpg',\n",
    "                ]\n",
    "    imgs    = [ PIL.Image.open(i) for i in list_im ]\n",
    "\n",
    "    # pick the image which is the smallest, and resize the others to match it (can be arbitrary image shape here)\n",
    "    min_shape = sorted( [(np.sum(i.size), i.size ) for i in imgs])[0][1]\n",
    "    imgs_comb = np.hstack( (np.asarray( i.resize(min_shape) ) for i in imgs ) )\n",
    "\n",
    "    # save that beautiful picture\n",
    "    imgs_comb = PIL.Image.fromarray( imgs_comb)\n",
    "    imgs_comb.save('images/Hor'+str(j)+'.jpg')\n",
    "    j = j + 1\n",
    "    i = i + 3"
   ]
  },
  {
   "cell_type": "markdown",
   "metadata": {},
   "source": [
    "## Vertical strip\n",
    "\n",
    "This is how to stitch images vertically:"
   ]
  },
  {
   "cell_type": "code",
   "execution_count": 36,
   "metadata": {},
   "outputs": [
    {
     "name": "stderr",
     "output_type": "stream",
     "text": [
      "D:\\Anaconda\\lib\\site-packages\\ipykernel_launcher.py:13: FutureWarning: arrays to stack must be passed as a \"sequence\" type such as list or tuple. Support for non-sequence iterables such as generators is deprecated as of NumPy 1.16 and will raise an error in the future.\n",
      "  del sys.path[0]\n"
     ]
    }
   ],
   "source": [
    "j = 1\n",
    "k = 1\n",
    "while k < 7 :\n",
    "    list_im = ['images/Hor'+str(j)+'.jpg',\n",
    "                'images/Hor'+str(j+1)+'.jpg',\n",
    "               'images/Hor'+str(j+2)+'.jpg',\n",
    "               'images/Hor'+str(j+3)+'.jpg',\n",
    "              'images/Hor'+str(j+4)+'.jpg']\n",
    "    imgs    = [ PIL.Image.open(i) for i in list_im ]\n",
    "\n",
    "    # pick the image which is the smallest, and resize the others to match it (can be arbitrary image shape here)\n",
    "    min_shape = sorted( [(np.sum(i.size), i.size ) for i in imgs])[0][1]\n",
    "    imgs_comb = np.vstack( (np.asarray( i.resize(min_shape) ) for i in imgs ) )\n",
    "\n",
    "    # save that beautiful picture\n",
    "    imgs_comb = PIL.Image.fromarray( imgs_comb)\n",
    "    imgs_comb.save('images/Page'+str(k)+'.jpg' ) \n",
    "    j = j+5\n",
    "    k = k+1"
   ]
  },
  {
   "cell_type": "markdown",
   "metadata": {},
   "source": [
    "## From images to pdfs\n",
    "\n",
    "This is how to create a pdf from image pages:"
   ]
  },
  {
   "cell_type": "code",
   "execution_count": 40,
   "metadata": {},
   "outputs": [
    {
     "name": "stdout",
     "output_type": "stream",
     "text": [
      "done!\n"
     ]
    }
   ],
   "source": [
    "from PIL import Image\n",
    "from fpdf import FPDF\n",
    "\n",
    "#pdf = FPDF()\n",
    "cover = Image.open('Fantastic_Comics.jpg')\n",
    "width, height = cover.size\n",
    "pdf = FPDF(unit = \"pt\", format = [width, height])\n",
    "    \n",
    "# imagelist is the list with all image filenames\n",
    "imagelist = ['Fantastic_Comics.jpg',\n",
    "             'images/Page1.jpg',\n",
    "             'images/Page2.jpg', \n",
    "             'images/Page3.jpg', \n",
    "             'images/Page4.jpg', \n",
    "             'images/Page5.jpg',\n",
    "             'images/Page6.jpg']\n",
    "\n",
    "for image in imagelist:\n",
    "    pdf.add_page()\n",
    "    pdf.image(image, 0, 0, width, height)\n",
    "pdf.output(\"avengers.pdf\", \"F\")\n",
    "print(\"done!\")"
   ]
  },
  {
   "cell_type": "code",
   "execution_count": null,
   "metadata": {},
   "outputs": [],
   "source": []
  }
 ],
 "metadata": {
  "kernelspec": {
   "display_name": "Python 3",
   "language": "python",
   "name": "python3"
  },
  "language_info": {
   "codemirror_mode": {
    "name": "ipython",
    "version": 3
   },
   "file_extension": ".py",
   "mimetype": "text/x-python",
   "name": "python",
   "nbconvert_exporter": "python",
   "pygments_lexer": "ipython3",
   "version": "3.7.4"
  }
 },
 "nbformat": 4,
 "nbformat_minor": 2
}
