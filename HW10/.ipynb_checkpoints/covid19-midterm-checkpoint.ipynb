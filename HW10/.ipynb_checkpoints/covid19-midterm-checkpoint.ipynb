{
 "cells": [
  {
   "cell_type": "markdown",
   "metadata": {},
   "source": [
    "<div style=\"text-align: right\">INFO 6105 Data Science Eng Methods and Tools, Spring 20 midterm, Section 6</div>\n",
    "<div style=\"text-align: right\">Dino Konstantopoulos, 15 March 2020</div>\n",
    "\n",
    "\n",
    "This notebook is dedicated to Li Wenliang, \"*a healthy society should have more than one voice*\".\n",
    "\n",
    "# INFO 6105 Spring 20 Midterm\n",
    "\n",
    "You have up to two hours, and then a time window of 2 hours to submit. Earlier submissions have an advantage over later ones, unless later ones have better results. Since we don't have class on Tuesday, you may also continue to work on this midterm as a homework for bonus points, due before class next Thursday.\n",
    "\n",
    "You are going to model the Coronavirus!\n",
    "\n",
    "<br />\n",
    "<center>\n",
    "<img src=\"https://www.paho.org/hq/images/stories/2020/coronavirus-6-1400x592.jpg\" width=600 />\n",
    "</center>"
   ]
  },
  {
   "cell_type": "markdown",
   "metadata": {},
   "source": [
    "# Data from China\n",
    "\n",
    "This [website](https://github.com/BlankerL/DXY-COVID-19-Data) is a result of good citizenship: People posting real data that can help other people learn from mistakes and fare better.\n",
    "\n",
    "Download this data, import `DXYArea.csv` as a pandas dataframe, and plot some interesting plots."
   ]
  },
  {
   "cell_type": "code",
   "execution_count": null,
   "metadata": {},
   "outputs": [],
   "source": []
  },
  {
   "cell_type": "markdown",
   "metadata": {},
   "source": [
    "Now drop the columns 'province_suspectedCount', 'city_suspectedCount', 'province_zipCode', 'city_zipCode', and display the dataframe."
   ]
  },
  {
   "cell_type": "code",
   "execution_count": null,
   "metadata": {},
   "outputs": [],
   "source": []
  },
  {
   "cell_type": "markdown",
   "metadata": {},
   "source": [
    "How many rows in the dataframe?"
   ]
  },
  {
   "cell_type": "code",
   "execution_count": 23,
   "metadata": {},
   "outputs": [
    {
     "data": {
      "text/plain": [
       "69635"
      ]
     },
     "execution_count": 23,
     "metadata": {},
     "output_type": "execute_result"
    }
   ],
   "source": [
    "len(covid19_china)"
   ]
  },
  {
   "cell_type": "markdown",
   "metadata": {},
   "source": [
    "Do some data healing to remove all NaN entries."
   ]
  },
  {
   "cell_type": "code",
   "execution_count": 24,
   "metadata": {},
   "outputs": [],
   "source": []
  },
  {
   "cell_type": "markdown",
   "metadata": {},
   "source": [
    "What's the new number of rows?"
   ]
  },
  {
   "cell_type": "code",
   "execution_count": null,
   "metadata": {},
   "outputs": [],
   "source": []
  },
  {
   "cell_type": "markdown",
   "metadata": {},
   "source": [
    "What are the city names?"
   ]
  },
  {
   "cell_type": "code",
   "execution_count": 14,
   "metadata": {},
   "outputs": [
    {
     "data": {
      "text/plain": [
       "array(['Dandong', 'Shenyang', 'Dalian', ..., 'Changchun', 'Shijiazhuang',\n",
       "       'Yinchuan'], dtype=object)"
      ]
     },
     "execution_count": 14,
     "metadata": {},
     "output_type": "execute_result"
    }
   ],
   "source": [
    "covid19_china.cityEnglishName.values"
   ]
  },
  {
   "cell_type": "markdown",
   "metadata": {},
   "source": [
    "How many rows refer to the city of Wuhan?"
   ]
  },
  {
   "cell_type": "code",
   "execution_count": null,
   "metadata": {},
   "outputs": [],
   "source": []
  },
  {
   "cell_type": "markdown",
   "metadata": {},
   "source": [
    "Print the dataframe with rows that only refer to Wuhan."
   ]
  },
  {
   "cell_type": "code",
   "execution_count": null,
   "metadata": {},
   "outputs": [],
   "source": []
  },
  {
   "cell_type": "markdown",
   "metadata": {},
   "source": [
    "Sort by 'updateTime'."
   ]
  },
  {
   "cell_type": "code",
   "execution_count": null,
   "metadata": {},
   "outputs": [],
   "source": []
  },
  {
   "cell_type": "markdown",
   "metadata": {},
   "source": [
    "Reset the dataframe's index to be 'updateTime'"
   ]
  },
  {
   "cell_type": "code",
   "execution_count": null,
   "metadata": {},
   "outputs": [],
   "source": []
  },
  {
   "cell_type": "markdown",
   "metadata": {},
   "source": [
    "Plot 'confirmedCount', 'curedCount', and 'deadCount' for the city of Wuhan."
   ]
  },
  {
   "cell_type": "code",
   "execution_count": null,
   "metadata": {},
   "outputs": [],
   "source": []
  },
  {
   "cell_type": "markdown",
   "metadata": {},
   "source": [
    "Do the same for the province of Hubei (including resetting the index)."
   ]
  },
  {
   "cell_type": "code",
   "execution_count": null,
   "metadata": {},
   "outputs": [],
   "source": []
  },
  {
   "cell_type": "markdown",
   "metadata": {},
   "source": [
    "Plot the same plot for the province of Hubei."
   ]
  },
  {
   "cell_type": "code",
   "execution_count": null,
   "metadata": {},
   "outputs": [],
   "source": []
  },
  {
   "cell_type": "markdown",
   "metadata": {},
   "source": [
    "And now for Shanghai."
   ]
  },
  {
   "cell_type": "code",
   "execution_count": null,
   "metadata": {},
   "outputs": [],
   "source": []
  },
  {
   "cell_type": "markdown",
   "metadata": {},
   "source": [
    "And now for Beijing."
   ]
  },
  {
   "cell_type": "code",
   "execution_count": null,
   "metadata": {},
   "outputs": [],
   "source": []
  },
  {
   "cell_type": "markdown",
   "metadata": {},
   "source": [
    "Let's come up with a possible infection model.."
   ]
  },
  {
   "cell_type": "markdown",
   "metadata": {},
   "source": [
    "# A possible model of infection\n",
    "\n",
    "This requires version 3.8 of `PyMC3'!"
   ]
  },
  {
   "cell_type": "code",
   "execution_count": 1,
   "metadata": {},
   "outputs": [
    {
     "data": {
      "text/plain": [
       "'3.8'"
      ]
     },
     "execution_count": 1,
     "metadata": {},
     "output_type": "execute_result"
    }
   ],
   "source": [
    "import pymc3 as pm\n",
    "pm.__version__"
   ]
  },
  {
   "cell_type": "code",
   "execution_count": 3,
   "metadata": {},
   "outputs": [],
   "source": [
    "%matplotlib inline\n",
    "import numpy as np\n",
    "import matplotlib.pyplot as plt\n",
    "\n",
    "plt.style.use('seaborn-darkgrid')"
   ]
  },
  {
   "cell_type": "markdown",
   "metadata": {},
   "source": [
    "## Acquired immunity controls the infection\n",
    "\n",
    "The Susceptible-Infected-Recovered model of infection describes time dynamics of an \n",
    "[infectious disease](https://en.wikipedia.org/wiki/Compartmental_models_in_epidemiology) spreading through a homogenous closed population (no births or deaths). The population is divided into three categories: **Susceptible** `S`, **Infective** `I`, or **Recovered/Dead** `R`. We can further refine our model by having a different category `D` for dead, but let's keep it simple for now and include dead people as recovered. When people die, if properly buried, they cannot infect anymore and so they are equivalent to people that have recovered and are immune to the infection.\n",
    "\n",
    "Susceptible individuals are those that have not acquired immunity yet and are susceptible to becoming infected.\n",
    "\n",
    "Infected individuals have been infected with the disease.\n",
    "\n",
    "Recovered individuals are cured and not susceptible anymore to the disease.\n",
    "\n",
    ">**NOTE**: In China, some people have been described as cured and released from hospitals and yet they test positive again for Covid19 later on. This is actually impossible because if you recover, you *have to be immune* to the disease, and is most likley assocaited with false positives and false negatives (patients where either impoperly labeled as cured, or improperly tested as infected). It is also possible that we are dealing with multiple Covid19 strains, in which case it is possible to become infected with another strain after being cured from one. It may also be possible that the virus mutates so fast that it essentially becomes a different strain in a few days and can reinfect an immune individual. God help us all if that is the case.\n",
    "\n",
    "[Differential equations](https://en.wikipedia.org/wiki/Ordinary_differential_equation) are a mathematical framework for modelling temporal dynamics of a system. The [differential equations for the SIR model of infection](https://www.maa.org/press/periodicals/loci/joma/the-sir-model-for-spread-of-disease-the-differential-equation-model) are:\n",
    "\n",
    "$$\\dfrac{dS}{dt} = - \\beta SI \\quad S(0) = S_0$$\n",
    "\n",
    "$$\\dfrac{dI}{dt} = \\beta SI - \\gamma I \\quad I(0) = I_0$$\n",
    "\n",
    "$$\\dfrac{dR}{dt} = \\gamma I \\quad R(0) = R_0$$\n",
    "\n",
    "With the constraint that: \n",
    "\n",
    "$$S(t) + I(t) + R(t) = 1 \\;\\;, \\forall t$$\n",
    "\n",
    "Other models are available for modeling infectious diseases, such as the [IBM](https://arxiv.org/ftp/arxiv/papers/1902/1902.02784.pdf) model.\n",
    "\n",
    "If we know R(t) and I(t) then we can determine S(t): $S(t) = 1 - I(t) - R(t)$, so we can work only with the two unknowns: R(t) and I(t). We prefer to work with these because that is what the China Covid19 dataset gives us!\n",
    "\n",
    "So we write:\n",
    "\n",
    "$$\\dfrac{dI}{dt} = \\beta (1 - I - R) I - \\gamma I \\quad I(0) = I_0$$\n",
    "\n",
    "$$\\dfrac{dR}{dt} = \\gamma I \\quad R(0) = R_0$$\n",
    "\n",
    "Simplifying:\n",
    "\n",
    "$$\\dfrac{dI}{dt} = \\beta (1 - I - R -\\gamma/\\beta) I  \\quad I(0) = I_0$$\n",
    "\n",
    "$$\\dfrac{dR}{dt} = \\gamma I \\quad R(0) = R_0$$\n",
    "\n",
    "We have two equations in two unknowns, so we're good mathematicaly speaking. What are the parameters?\n",
    "\n",
    "$β$ is the rate of infection per susceptible and per infective individual: $\\beta$ is an average infected to non-infected individual contact (e.g. 4 individuals) and hinges on the underlying society. Arguably, it is higher in China where the population is denser. But it also high in very social Mediterranean countries like Italy and Spain. $\\gamma$ is the rate of recovery: It can be interpreted as an average period of infectiousness (e.g. 3 to 5 days for the common flu). For Covid19, experts are astonished by how long an individual can infect others and say that it can be up to 30 days! \n",
    "\n",
    ">For an example, in the Hong Kong flu in New York City in the late 1960's, hardly anyone was immune at the beginning of the epidemic, so almost everyone was susceptible. [This](https://www.maa.org/press/periodicals/loci/joma/the-sir-model-for-spread-of-disease-the-differential-equation-model) paper gives an estimate for the parameters. Assuming a trace level of infection in the population, say, 10 people, population variables are S(0) = 7,900,000, I(0) = 10, R(0) = 0. In terms of scaled variables, these initial conditions are s(0) = 1, i(0) = 1.27 x 10-6, r(0) = 0. We don't know values for the parameters $\\beta$ and $\\gamma$ yet, but they can be estimated and then adjusted as necessary to fit the excess death data. The average period of infectiousness is estimated at three days, so that would suggest  $\\gamma = 1/3$.  *Guessing* that each infected individual would make a possibly infecting contact with another individual every two days, then $\\beta$ would be $1/2$. So $\\beta/\\gamma = 3/2 > 1$.\n",
    "\n",
    "The quantity $β/γ$ is called [R-Nought](https://www.ncbi.nlm.nih.gov/pmc/articles/PMC1181873/) ($R_0$). Its interpretation is that if we were to drop a *single* infected person into a population of suceptible individuals, we would expect $R_0$ new infections. If $R_0>1$, then an epidemic will take place. If $R_0≤1$ then there will be no epidemic.\n",
    "\n",
    ">When $R_0<1$, each person who contracts the disease will infect fewer than one person before dying or recovering, so the outbreak will fizzle ($dI/dt<0$). When $R_0>1$, each person who gets the disease will infect more than one person, so the epidemic will spread ($dI/dt>0$). $R_0$ is the most important quantity in epidemiology.\n",
    "\n",
    "Let's model our SIR equations using a python function. `y` is our unknown, it's 2D: $y[0] = I$ and $y[1] = R$. . The parameters `p` are 2D: $p[0] = \\beta$ and $p[1] = \\gamma$. "
   ]
  },
  {
   "cell_type": "code",
   "execution_count": 4,
   "metadata": {},
   "outputs": [],
   "source": [
    "def SIR(y, t, p):\n",
    "    di = p[0] * (1. - y[0] - y[1] - p[1]/p[0]) * y[0]\n",
    "    dr = p[1] * y[0]\n",
    "    return [di, dr]"
   ]
  },
  {
   "cell_type": "markdown",
   "metadata": {},
   "source": [
    "Write down the python function that will yield the suceptible population, given the infected and recovered population:"
   ]
  },
  {
   "cell_type": "code",
   "execution_count": 5,
   "metadata": {},
   "outputs": [],
   "source": [
    "def susceptible(i, r):\n",
    "    ..."
   ]
  },
  {
   "cell_type": "markdown",
   "metadata": {},
   "source": [
    "This is our time discretization (about 3 months of data by day data):"
   ]
  },
  {
   "cell_type": "code",
   "execution_count": 11,
   "metadata": {},
   "outputs": [],
   "source": [
    "times = np.arange(0, 5, 0.25)"
   ]
  },
  {
   "cell_type": "markdown",
   "metadata": {},
   "source": [
    "Let's compute *exact* values for `y` (y\\[0\\] = I and y\\[1\\] = R). Let's assume that I(0) = 0.01 and R(0) = 0. In other words, we start with 1% infected individuals in the population, 0 recovered, and so 1 - 0.01 - 0 = 99% susceptible individuals.\n",
    "\n",
    "Let's pick some values for $\\beta$ and $\\gamma$ to begin with (we will model them based on China's data leter on), which guarantee an epidemic ($\\beta > \\gamma$):"
   ]
  },
  {
   "cell_type": "code",
   "execution_count": 7,
   "metadata": {},
   "outputs": [],
   "source": [
    "beta, gamma = 4.0, 1.0"
   ]
  },
  {
   "cell_type": "markdown",
   "metadata": {},
   "source": [
    "Realistically, an individual may be in infectious contact with more than 4 other individuals per day, and Covid19's infectivity is much bigger than 1 day!\n",
    "\n",
    "We use the library `odeint` from the package `scipy.integrate` to solve the ordinary differential equations for SIR:"
   ]
  },
  {
   "cell_type": "code",
   "execution_count": 16,
   "metadata": {},
   "outputs": [],
   "source": [
    "from scipy.integrate import odeint\n",
    "\n",
    "# Compute true curves\n",
    "y = odeint(SIR, t=times, y0=[0.01, 0.0], args=((beta, gamma),), rtol=1e-8)"
   ]
  },
  {
   "cell_type": "markdown",
   "metadata": {},
   "source": [
    "The data has uncertainty (or ***noise***) because of our measurement tools ([aleatoric uncertainty](https://en.wikipedia.org/wiki/Uncertainty_quantification)), but also because the modeling equations are ot perfect ([epistemic uncertainity](https://en.wikipedia.org/wiki/Uncertainty_quantification)).\n",
    "\n",
    "We pick a [log-normal distribution](https://en.wikipedia.org/wiki/Log-normal_distribution), a continuous probability distribution whose logarithm is *normally distributed* (thus, if the random variable X is log-normally distributed, then Y = ln(X) has a normal distribution) as our observations pdf, with a mean equal to the log of `y`. \n",
    "\n",
    ">**NOTE**: Recall that taking the logarithm of a histogram of a dataset makes the histogram look much prettier (可爱极了), i.e. closer to a normal distribution, so that we can indeed model it as a normal distribution. So this is a very common operation amongst data scientists.\n",
    "\n",
    "So, these are our observations: Data from the true curves for I and R with errors 10% and 10% respectively"
   ]
  },
  {
   "cell_type": "code",
   "execution_count": 21,
   "metadata": {},
   "outputs": [],
   "source": [
    "yobs = np.random.lognormal(mean=np.log(y[1::]), sigma=[0.1, 0.1])"
   ]
  },
  {
   "cell_type": "markdown",
   "metadata": {},
   "source": [
    "Now plot our observations as datapoints on top of the exact values for S and I. R is not observed but estimated from the exact curves for S and I. Plot that, too."
   ]
  },
  {
   "cell_type": "code",
   "execution_count": null,
   "metadata": {},
   "outputs": [],
   "source": []
  },
  {
   "cell_type": "markdown",
   "metadata": {},
   "source": [
    "This data looks very close to our China data: Driven by rising infections, susceptible population diminishes due to acquired immunity, which controls the infection and brings it down to zero after it reaches a peak of 40% of the population, for the values of the parameters $\\beta$ and $\\gamma$ that we picked. Very sobering.\n",
    "\n",
    "Our China data though is only up to timepoint 2. We have *yet* to observe the infection to come down. All we observe in China is that *the number of new infections is coming down to almost zero*, which means we are approaching the peak of the Infected curve $I(t)$."
   ]
  },
  {
   "cell_type": "markdown",
   "metadata": {},
   "source": [
    "# Modeling with China's data\n",
    "\n",
    "Let's model China's infection data with Bayesian estimation in order to figure out the critical Chinese $\\beta$ and $\\gamma$ parameters. Based on social comparisons, we can estimate our own $\\beta$ parameter, so that will give us a disease $R_0$, which will tell us how *dangerous* Covid19 really is.\n",
    "\n",
    ">Flyers about how the flu kills more people than Covid19 abounded around campus, and are probably partly responsible for the complacent response to the epidemic in Western societies. Let's see how much *more dangerous* than the flu it really is.\n",
    "\n",
    "Let's plot Wuhan's infected and cured populations once again:"
   ]
  },
  {
   "cell_type": "code",
   "execution_count": null,
   "metadata": {},
   "outputs": [],
   "source": []
  },
  {
   "cell_type": "markdown",
   "metadata": {},
   "source": [
    "### Extrapolating Chinese data to the fizzling out of the pandemic\n",
    "\n",
    "We have to complete the Chinese data since it only goes up to the peak. We will assume that what we hear from China is correct: The epidemic has peaked and is petering out, thanks to the draconian quarantine measures undertaken. So let's just mirror out the infected data so that it decreases at the same rate, and let's just continue the progression of the cured curve.\n",
    "\n",
    "In other words, you are going to extend `DXYArea.csv` so that it looks like the modelled profiles above. You are going to assume that the epidemic is being contained and that the number of infected people will go down to zero like the model above. So you are going to have to essentially *mirror* the **infected** population profile, and *extrapolate* the **recovered** population profile.\n",
    "\n",
    "You will add dead people to the **recovered** people curve, so that our empirical data will match our model data.\n",
    "\n",
    "Wuhan was the hardest hit city, so you will do this just for Wuhan data.\n",
    "\n",
    "Probably the hardest part will be extending the index, so that you go an extra couple of months from the last data in the empirical data, that is where the number of infected people goes down to zero, and the number of recovered people keeps increasing (just do a simple linear interpolation for the recovered people).\n",
    "\n",
    "Your dataframe should look something like this:"
   ]
  },
  {
   "cell_type": "code",
   "execution_count": 130,
   "metadata": {},
   "outputs": [
    {
     "data": {
      "text/html": [
       "<div>\n",
       "<style scoped>\n",
       "    .dataframe tbody tr th:only-of-type {\n",
       "        vertical-align: middle;\n",
       "    }\n",
       "\n",
       "    .dataframe tbody tr th {\n",
       "        vertical-align: top;\n",
       "    }\n",
       "\n",
       "    .dataframe thead th {\n",
       "        text-align: right;\n",
       "    }\n",
       "</style>\n",
       "<table border=\"1\" class=\"dataframe\">\n",
       "  <thead>\n",
       "    <tr style=\"text-align: right;\">\n",
       "      <th></th>\n",
       "      <th>city_confirmedCount</th>\n",
       "      <th>city_recoveredCount</th>\n",
       "    </tr>\n",
       "  </thead>\n",
       "  <tbody>\n",
       "    <tr>\n",
       "      <th>2020-01-24 09:47:00</th>\n",
       "      <td>495</td>\n",
       "      <td>0</td>\n",
       "    </tr>\n",
       "    <tr>\n",
       "      <th>2020-01-24 09:48:00</th>\n",
       "      <td>495</td>\n",
       "      <td>0</td>\n",
       "    </tr>\n",
       "    <tr>\n",
       "      <th>2020-01-24 09:49:00</th>\n",
       "      <td>495</td>\n",
       "      <td>0</td>\n",
       "    </tr>\n",
       "    <tr>\n",
       "      <th>2020-01-24 09:50:00</th>\n",
       "      <td>495</td>\n",
       "      <td>0</td>\n",
       "    </tr>\n",
       "    <tr>\n",
       "      <th>2020-01-24 11:49:00</th>\n",
       "      <td>495</td>\n",
       "      <td>0</td>\n",
       "    </tr>\n",
       "    <tr>\n",
       "      <th>...</th>\n",
       "      <td>...</td>\n",
       "      <td>...</td>\n",
       "    </tr>\n",
       "    <tr>\n",
       "      <th>2020-04-30 18:49:00</th>\n",
       "      <td>495</td>\n",
       "      <td>144133</td>\n",
       "    </tr>\n",
       "    <tr>\n",
       "      <th>2020-05-01 09:21:00</th>\n",
       "      <td>495</td>\n",
       "      <td>144433</td>\n",
       "    </tr>\n",
       "    <tr>\n",
       "      <th>2020-05-01 14:27:00</th>\n",
       "      <td>495</td>\n",
       "      <td>144733</td>\n",
       "    </tr>\n",
       "    <tr>\n",
       "      <th>2020-05-01 17:33:00</th>\n",
       "      <td>495</td>\n",
       "      <td>145033</td>\n",
       "    </tr>\n",
       "    <tr>\n",
       "      <th>2020-05-02 11:08:00</th>\n",
       "      <td>495</td>\n",
       "      <td>145333</td>\n",
       "    </tr>\n",
       "  </tbody>\n",
       "</table>\n",
       "<p>718 rows × 2 columns</p>\n",
       "</div>"
      ],
      "text/plain": [
       "                     city_confirmedCount  city_recoveredCount\n",
       "2020-01-24 09:47:00                  495                    0\n",
       "2020-01-24 09:48:00                  495                    0\n",
       "2020-01-24 09:49:00                  495                    0\n",
       "2020-01-24 09:50:00                  495                    0\n",
       "2020-01-24 11:49:00                  495                    0\n",
       "...                                  ...                  ...\n",
       "2020-04-30 18:49:00                  495               144133\n",
       "2020-05-01 09:21:00                  495               144433\n",
       "2020-05-01 14:27:00                  495               144733\n",
       "2020-05-01 17:33:00                  495               145033\n",
       "2020-05-02 11:08:00                  495               145333\n",
       "\n",
       "[718 rows x 2 columns]"
      ]
     },
     "execution_count": 130,
     "metadata": {},
     "output_type": "execute_result"
    }
   ],
   "source": [
    "covid19_wuhan_extension = pd.concat([covid19_wuhan6, covid19_wuhan_extension])\n",
    "covid19_wuhan_extension"
   ]
  },
  {
   "cell_type": "markdown",
   "metadata": {},
   "source": [
    "And the plot something like this:"
   ]
  },
  {
   "cell_type": "code",
   "execution_count": 131,
   "metadata": {},
   "outputs": [
    {
     "data": {
      "image/png": "[encoded data removed]",
      "text/plain": [
       "<Figure size 432x288 with 1 Axes>"
      ]
     },
     "metadata": {},
     "output_type": "display_data"
    }
   ],
   "source": [
    "plt.plot(covid19_wuhan_extension.city_confirmedCount)\n",
    "plt.plot(covid19_wuhan_extension.city_recoveredCount)\n",
    "\n",
    "plt.title('Covid19 in Wuhan, diagnosed/recovered extrapolated')\n",
    "plt.ylabel('diagnosed/recovered')\n",
    "plt.xlabel('Date')\n",
    "plt.grid(True)"
   ]
  },
  {
   "cell_type": "markdown",
   "metadata": {},
   "source": [
    "You can then reduce the size of our data by an order of magnitude:"
   ]
  },
  {
   "cell_type": "code",
   "execution_count": 167,
   "metadata": {},
   "outputs": [],
   "source": [
    "covid19_wuhan_extension3 = covid19_wuhan_extension[::30]  # Selects every 30th raw starting from 0"
   ]
  },
  {
   "cell_type": "code",
   "execution_count": 191,
   "metadata": {},
   "outputs": [
    {
     "data": {
      "image/png": "[encoded data removed]",
      "text/plain": [
       "<Figure size 432x288 with 1 Axes>"
      ]
     },
     "metadata": {},
     "output_type": "display_data"
    }
   ],
   "source": [
    "plt.plot(covid19_wuhan_extension3.city_confirmedCount)\n",
    "plt.plot(covid19_wuhan_extension3.city_recoveredCount)\n",
    "\n",
    "plt.title('Covid19 in Wuhan, diagnosed/recovered extrapolated, thinned out')\n",
    "plt.ylabel('diagnosed/recovered')\n",
    "plt.xlabel('Date')\n",
    "plt.grid(True)"
   ]
  },
  {
   "cell_type": "markdown",
   "metadata": {},
   "source": [
    "and renormalize so that all values are less than 1, with the number of recovered people slowly reaching 100%."
   ]
  },
  {
   "cell_type": "code",
   "execution_count": 193,
   "metadata": {},
   "outputs": [
    {
     "data": {
      "image/png": "[encoded data removed]",
      "text/plain": [
       "<Figure size 432x288 with 1 Axes>"
      ]
     },
     "metadata": {},
     "output_type": "display_data"
    }
   ],
   "source": [
    "plt.plot(covid19_wuhan_extension4.city_confirmedCount)\n",
    "plt.plot(covid19_wuhan_extension4.city_recoveredCount)\n",
    "\n",
    "plt.title('Covid19 in Wuhan, diagnosed/recovered extrapolated, thinned out, renormalized')\n",
    "plt.ylabel('diagnosed/recovered')\n",
    "plt.xlabel('Date')\n",
    "plt.grid(True)"
   ]
  },
  {
   "cell_type": "markdown",
   "metadata": {},
   "source": [
    "Now we have our data, we are ready for our Bayesian modeling!"
   ]
  },
  {
   "cell_type": "markdown",
   "metadata": {},
   "source": [
    "### Bayesian modeling Chinese stats"
   ]
  },
  {
   "cell_type": "markdown",
   "metadata": {},
   "source": [
    "We import `DifferentialEquation` from `PyMC3`:"
   ]
  },
  {
   "cell_type": "code",
   "execution_count": 3,
   "metadata": {},
   "outputs": [],
   "source": [
    "import numpy as np\n",
    "import pymc3 as pm\n",
    "from pymc3.ode import DifferentialEquation\n",
    "import theano"
   ]
  },
  {
   "cell_type": "markdown",
   "metadata": {},
   "source": [
    "Matching shapes for X and Y:"
   ]
  },
  {
   "cell_type": "code",
   "execution_count": 5,
   "metadata": {},
   "outputs": [
    {
     "data": {
      "text/plain": [
       "(718,)"
      ]
     },
     "execution_count": 5,
     "metadata": {},
     "output_type": "execute_result"
    }
   ],
   "source": [
    "np.arange(0.25, 5, 0.00662).shape"
   ]
  },
  {
   "cell_type": "markdown",
   "metadata": {},
   "source": [
    "Our epidemic model dynamics are captured thusly:"
   ]
  },
  {
   "cell_type": "code",
   "execution_count": 198,
   "metadata": {},
   "outputs": [],
   "source": [
    "sir_model = DifferentialEquation(\n",
    "    func = SIR,\n",
    "    times = np.arange(0.25, 5, 0.2),\n",
    "    n_states = 2,\n",
    "    n_theta = 2,\n",
    "    t0 = 0,\n",
    ")"
   ]
  },
  {
   "cell_type": "markdown",
   "metadata": {},
   "source": [
    "We will model observations with a [log-normal distribution](https://en.wikipedia.org/wiki/Log-normal_distribution), a continuous probability density function (pdf) whose logarithm is normally distributed. Thus, if the random variable X is log-normally distributed, then Y = ln(X) has a normal distribution. \n",
    "\n",
    "Taking the logarithm of a dataset is a big-time prettyfier of data and is often a first target model. So we will assume that our Chinese I (infected) and R (recovered) data are log-normally distributed. We will add dead people to the recovered population since that is how we built our infectious model above.\n",
    "\n",
    "We will assume that there is noise/error in the Chinese data, so we will tack on a standard deviation. Since that quantity is never negative, it is often modelled as a Half [Cauchy](https://en.wikipedia.org/wiki/Cauchy_distribution) distribution. It has an interesting history.\n",
    "\n",
    ">**NOTE**: The half-Cauchy is heavy tailed and is regarded as fairly weakly informative. Gelman advocates for half-t priors (including the half-Cauchy) because they have better behavior for small parameter values but only regards it as weakly informative when a large scale parameter is used. See [A. Gelman (2006),\n",
    "\"Prior distributions for variance parameters in hierarchical models\"\n",
    "Bayesian Analysis, Vol. 1, N. 3, pp. 515–533](http://www.stat.columbia.edu/~gelman/research/published/taumain.pdf). \n",
    "\n",
    "<br />\n",
    "<center>\n",
    "<img src=\"ipynb.images/half-cauchy.png\" width=600 />\n",
    "</center>\n",
    "\n",
    "To model the parameters themselves, we will assume a very uninformative $R_0$ that is just $> 1$ so that we have an epidemic, a $\\gamma$ that also follows a log-normal distribution (so we only use one pdf type for our model, but hey, *you're free to try another one*!), and a $\\beta$ that is deterministically given by $\\gamma * R_0$.\n",
    "\n",
    "The data whose likelihood we're trying to model is given by the `sir_model` above: our function `SIR` given even further above, a time discretization from 0.25 to 5, starting from time 0, with 2D data (I, R) for Wuhan, Hubei, and 2D parameters (`R0` and `gama`). We pick Wuhan because it gives us the worst possible case since it's the epicenter of the disease.\n",
    "\n",
    "So, sigma (`sig`) is a half-Cuachy:\n",
    "```(python)\n",
    "sig = pm.HalfCauchy('sig', 1, shape=2)s\n",
    "```\n",
    "\n",
    "$R_0$ is another model parameter, which we bound below by 1 (>1) because an epidemic has occured!\n",
    "```(python)\n",
    "R0 = pm.Bound(pm.Normal, lower=1)('R0', 2, 3)\n",
    "```\n",
    "\n",
    "We model $\\gamma$ with the same pdf as the data likelihood:\n",
    "```(python)\n",
    "gama = pm.Lognormal('gama', pm.math.log(2), 2)\n",
    "```\n",
    "\n",
    "And so 4\\beta$ is given deterministically by:\n",
    "```(python)\n",
    "beta = pm.Deterministic('beta', gama*R0)\n",
    "```\n",
    "\n",
    "Then we model the data likelihood thusly:\n",
    "```(python)\n",
    "sir_curves = sir_model(y0=[0.01, 0.0], theta=[beta, gama])\n",
    "Y = pm.Lognormal('Y', mu=pm.math.log(sir_curves), sd=sig, observed=y_wuhan4)\n",
    "```\n",
    "\n",
    "Try setting the prior to this:\n",
    "```(python)\n",
    "prior = pm.sample_prior_predictive()\n",
    "```\n",
    "\n",
    "And finally run your NUTS sim (you may want to start with a Metropolis sim):\n",
    "```(python)\n",
    "trace = pm.sample(2000, tune=1000, target_accept=0.9, cores=1)\n",
    "```"
   ]
  },
  {
   "cell_type": "markdown",
   "metadata": {},
   "source": [
    "# Conclusion\n",
    "\n",
    "Estimate the value of $R_0$ for the Coronavirus.\n",
    "\n",
    "This is some real data science, not just an easy midterm. So try to do as much of the pandas preprocessing in class, and maybe try to finish the Bayesian modeling at home. Do as much as you can!\n",
    "\n",
    "Good luck, data scientist! You may save the world one day, with yor modeling and predictions. God knows how dearly we need modeling these days, with global warming and all kinds of possible disasters. \n",
    "\n",
    "Science would not be possible without brave souls, like Li Wenliang, for whom saving his patients was more important than political propaganda. May he be a model for all of us."
   ]
  }
 ],
 "metadata": {
  "kernelspec": {
   "display_name": "Python 3",
   "language": "python",
   "name": "python3"
  },
  "language_info": {
   "codemirror_mode": {
    "name": "ipython",
    "version": 3
   },
   "file_extension": ".py",
   "mimetype": "text/x-python",
   "name": "python",
   "nbconvert_exporter": "python",
   "pygments_lexer": "ipython3",
   "version": "3.7.4"
  }
 },
 "nbformat": 4,
 "nbformat_minor": 2
}
