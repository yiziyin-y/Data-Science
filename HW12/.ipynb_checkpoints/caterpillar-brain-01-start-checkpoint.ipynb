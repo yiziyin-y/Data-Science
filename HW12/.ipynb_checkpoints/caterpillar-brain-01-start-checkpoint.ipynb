{
 "cells": [
  {
   "cell_type": "markdown",
   "metadata": {},
   "source": [
    "<div style=\"text-align: right\">INFO 6105 Data Science Eng Methods and Tools, Lecture 12 Day 2</div>\n",
    "<div style=\"text-align: right\">Dino Konstantopoulos, 1 April 2020</div>\n",
    "\n",
    "# Caterpillar brain\n",
    "\n",
    "<br />\n",
    "<center>\n",
    "<img src =images/caterpillar.jpg width = 400 />\n",
    "</center>\n",
    "\n",
    "So we drew a small brain last time, so now we're going to *design* one! Today is April's fool day, so we're all caterpillars! How many feet do we have? 16!\n",
    "\n",
    ">Hey, no lauging, *you* try coordinating 16 feet!\n",
    "\n",
    "Now assume we sense feedback from our 16 feet, and want to decide whether it means we should move *forward* or *backward*. From *experience* we learn that based on the combined input of our feet-sensory neurons, sometimes we should go forward and sometimes backward, and we want to *learn* from that experience because if we don't decide right, we *face-plant*.\n",
    "\n",
    "So we pop open our caterpillar laptop and fire up Excel, and look at our following spreadsheet:\n",
    "\n",
    "<br />\n",
    "<center>\n",
    "<img src =images/excel.png width = 400 />\n",
    "</center>\n",
    "\n",
    "It has 17 **features** (columns): The first 16 that correspond to each of our 16 feet, and the last one (the label) says whether, based on the specific input from our feet, we *should* go forward, or *backward*. We wrote our walking history down carefully in our Excel spreadsheet as we are learning how to walk and are still very unsure. But we know how to type 0 and 1 in an Excel spreadheet pretty well! \n",
    "\n",
    "Let's assume that we sense only binary input from each one of our feet (i.e. foot touches ground or does not touch ground), and that 1 means go forward and 0 means go backward, and we'd like to *learn* that.\n",
    "\n",
    "So, how many *independent variables*?\n",
    "\n",
    "How many *dependent variables*?\n",
    "\n",
    "How many **observations** (rows)? Well, we don't know that yet!"
   ]
  },
  {
   "cell_type": "markdown",
   "metadata": {},
   "source": [
    "# Goal\n",
    "\n",
    "In other words, the goal is to predict one of two states (forward or backward), using a collection of features (feet sensory input) which are all binary. This is called **supervised learning** because we have written down what we *should do* (the label), and we want to train our brain to predict the label based on the 16 sensory features. \n",
    "\n",
    "This is also called **discriminative learning**, rather than **generative learning**, because we do not wish to regenerate the initial signal (feet sensory input), but rather we want to predict a 0 (move backwards) or 1 (move forward) in order to avoid a face-plant! So we want to *discriminate* between 0 and 1.\n",
    "\n",
    "Our graph edges so far have been equal-weighted. But with brains, our edges acquire weights between nodes. It's a bit similar to facebook friends graphs. Our facebook friends are simiarly weighted, but in reality we like some friends a lot more than others!\n",
    "\n",
    "The prediction model in our caterpillar brain is simple: We assign weights to each feature (foot sensory input). To predict movement forward or backward based on an observation, we check all features that are *active* (foot is on the ground, or = 1) and sum up the weights assigned to these features. If the total is *above* a certain threshold, the result is interpreted as *move forward*, otherwise it’s *move backwards*. \n",
    "\n",
    "So our brain is a graph and we initialize edge weights $w_1 = w_2 = \\cdots = w_n = 1$.\n",
    "\n",
    "Then we iterate on each observation of sensory input from all of our feet, consisting of a vector of dimension $n$: $ = [x_1, x_2, \\cdots, x_n]$, where $x_i$ corresponds to foot *i* sensory input.\n",
    "\n",
    "How do we learn? With a **loop**! We loop through our foot-sensory observations (rows) and predict (for each iteration, or **epoch**), using some kind of linear algebra linear map transformation on our neural weights if our brain should output 1 *(go forward)*, or 0 *(go backward)*.\n",
    "\n",
    ">**GOAL**: *You* will write the linear map!\n",
    "\n",
    "Then, you will look up the label corresponding to that foot-sensory observation (recall we wrote down whether, based on a specific foot-sensory observation for each one of our feet, we should go forward or backward), and somehow update the weights **in a way that makes sense to you**.\n",
    "\n",
    "Your goal is to minimize the number of face-plants! When you're down to the minimum, you say you have **converged** in your learning, and you can now walk with very few face-plants! You are a *proud* little caterpillar.\n",
    "\n",
    "<br />\n",
    "<center>\n",
    "<img src =images/happy-caterpillar.gif width = 400 />\n",
    "</center>"
   ]
  },
  {
   "cell_type": "markdown",
   "metadata": {},
   "source": [
    "### Caterpillar algorithm:"
   ]
  },
  {
   "cell_type": "code",
   "execution_count": 1,
   "metadata": {},
   "outputs": [],
   "source": [
    "import random\n",
    "from random import randint\n",
    "import numpy as np\n",
    "\n",
    "class Caterpillar:\n",
    "    numInput = 0\n",
    "    weights = []\n",
    "    threshold = 0.0\n",
    "    alpha = 0.0\n",
    "    \n",
    "    def __init__(self, numInput, rndSeed):\n",
    "        self.numInput = numInput\n",
    "        self.weights = [0] *numInput\n",
    "        for i in range(len(self.weights)):\n",
    "            self.weights[i] = numInput / 2.0\n",
    "        self.threshold = 1.0 * numInput\n",
    "        self.alpha = 2.0\n",
    "        random.seed( rndSeed )\n",
    "        \n",
    "    # input: int[] xValues output: 1 (move forward) or 0 (move backwards)\n",
    "    # Based on current brain weights, this evaluates whether to move forward\n",
    "    # or backwards\n",
    "    def ComputeY(self, xValues):\n",
    "        sum = 0.0\n",
    "        for i in range(numInput):\n",
    "            sum += self.weights[i] * xValues[i]\n",
    "        if sum > self.threshold:\n",
    "            return 1\n",
    "        else:\n",
    "            return 0\n",
    "     \n",
    "    # Fisher-Yates shuffle algorithm int[][] trainData\n",
    "    # This essentially scrambles the row order of our observations\n",
    "    def ShuffleObservations(self, trainData):\n",
    "        for i in range(len(trainData)):\n",
    "            r = randint(i, len(trainData) - 1)\n",
    "            tmp = []\n",
    "            tmp = trainData[r]\n",
    "            trainData[r] = trainData[i]\n",
    "            trainData[i] = tmp\n",
    "         \n",
    "    # returns double, input is int[][] trainData\n",
    "    # When you pass in rows of observations, these are translated to \n",
    "    # movement forward or backward based on current brain weights,\n",
    "    # then the decision is compared to the label and we count number\n",
    "    # of correct movement decisions\n",
    "    def Accuracy(self, trainData):\n",
    "        numCorrect = 0\n",
    "        numWrong = 0\n",
    "        xValues = [0] *numInput\n",
    "        \n",
    "        for i in range(len(trainData)):\n",
    "            xValues = np.copy(trainData[i])\n",
    "            target = trainData[i][numInput] #last value is target\n",
    "            computed = self.ComputeY(xValues)\n",
    "\n",
    "            if computed == target:\n",
    "                numCorrect += 1\n",
    "            else:\n",
    "                numWrong += 1\n",
    "                \n",
    "        return (numCorrect * 1.0) / (numCorrect + numWrong)\n",
    "    \n",
    "    # returns double[], int[][] trainData\n",
    "    # Here is your learning algorithm, little caterpillar!\n",
    "    # YOU decide how to update your brain weights based on sensory input\n",
    "    def TrainWeights(self, trainData):\n",
    "        xValues = [] * numInput\n",
    "        self.ShuffleObservations(trainData)\n",
    "        \n",
    "        for i in range(len(trainData)):\n",
    "            #  get the inputs\n",
    "            xValues = np.copy(trainData[i])\n",
    "            \n",
    "            #  last value is target\n",
    "            target = trainData[i][numInput] \n",
    "            \n",
    "            # This is your current decision\n",
    "            # Is it the correct one?\n",
    "            computed = self.ComputeY(xValues)\n",
    "\n",
    "            # Now, update your brain weights,\n",
    "            # you proud little caterpillar you!\n",
    "            # self.weights[j] = ...\n",
    "            \n",
    "\n",
    "        result = [0.0] *numInput # = number weights\n",
    "        result = self.weights\n",
    "        return result"
   ]
  },
  {
   "cell_type": "markdown",
   "metadata": {},
   "source": [
    "Here are some debugging utilities, shows you values of vectors and matrices:"
   ]
  },
  {
   "cell_type": "code",
   "execution_count": 2,
   "metadata": {},
   "outputs": [],
   "source": [
    "# double[] vector\n",
    "def ShowVector(vector, decimals, valsPerRow, newLine):\n",
    "    frmt = '%.' + str(decimals) + 'f'\n",
    "    for i in range(len(vector)):\n",
    "        if (i % valsPerRow == 0): print(\"\", end='')\n",
    "        print(frmt % vector[i] + \" \", end='')\n",
    "    if (newLine): print(\"\")\n",
    "\n",
    "# int[][] matrix\n",
    "def ShowMatrix(matrix, decimals, numRows, indices):\n",
    "    frmt = '%.' + str(decimals) + 'f'\n",
    "    for i in range(numRows):\n",
    "        if (indices):\n",
    "            print(\"[\" + '%02d' % i + \"]   \", end='')\n",
    "        for j in range(len(matrix[i])):\n",
    "            print(frmt % matrix[i][j] + \" \", end='')\n",
    "        print(\"\")"
   ]
  },
  {
   "cell_type": "markdown",
   "metadata": {},
   "source": [
    "This function breaks down rows of observations into a training set and a test set. Use it judiciously!"
   ]
  },
  {
   "cell_type": "code",
   "execution_count": 3,
   "metadata": {},
   "outputs": [],
   "source": [
    "import numpy as np\n",
    "\n",
    "# int[][] data, seed, out int[][] trainData, out int[][] testData\n",
    "def MakeTrainTest(data, pct, seed):\n",
    "    totRows = data.shape[0] #compute number of rows in each result\n",
    "    numTrainRows = int(totRows * pct)\n",
    "    numTestRows = totRows - numTrainRows\n",
    "    trainData = np.empty(data.shape)\n",
    "    testData = np.empty(data.shape)\n",
    "    copy = np.empty(data.shape)\n",
    "\n",
    "    # int[][] copy = new int[data.Length][] #  make a copy of data\n",
    "    for i in range(copy.shape[0]):\n",
    "        # by reference to save space\n",
    "        copy[i] = data[i]\n",
    "    for i in range(copy.shape[0]):\n",
    "        # scramble row order of copy\n",
    "        r = randint(i, copy.shape[0] - 1)\n",
    "        tmp = copy[r]\n",
    "        copy[r] = copy[i]\n",
    "        copy[i] = tmp\n",
    "    for i in range(numTrainRows):\n",
    "        # create training\n",
    "        trainData[i] = copy[i]\n",
    "    for i in range(numTestRows):\n",
    "        # create test\n",
    "        testData[i] = copy[i + numTrainRows]\n",
    "        \n",
    "    return trainData, testData"
   ]
  },
  {
   "cell_type": "markdown",
   "metadata": {},
   "source": [
    "And here is our excel spreadsheeet, already conveniently broken down into a matrix for you!\n",
    "\n",
    "1st column is sensory input from foot 1,\n",
    "2nd column is sensory input from foot 2,\n",
    "3rd column is sensory input from foot 3, \n",
    "etc.\n",
    "\n",
    "All 16 columns are either 1 for foot touches ground or 0 for foot does not touch ground. \n",
    "\n",
    "The last column is what our little caterpillar body *should* do: move forward (1), or backward (0). It's the label!"
   ]
  },
  {
   "cell_type": "code",
   "execution_count": 4,
   "metadata": {},
   "outputs": [],
   "source": [
    "data = np.empty((100,17))\n",
    "\n",
    "data[0] =  [ 0, 1, 0, 1, 1, 1, 0, 0, 0, 1, 0, 1, 1, 1, 0, 1, 1 ] #  last col is label (correct movement 0:back, 1:forward)\n",
    "data[1] =  [ 0, 1, 0, 1, 1, 1, 0, 0, 0, 0, 0, 1, 1, 1, 0, 0, 1 ]\n",
    "data[2] =  [ 0, 1, 1, 0, 1, 1, 0, 0, 0, 0, 1, 0, 1, 1, 0, 0, 0 ]\n",
    "data[3] =  [ 0, 1, 1, 0, 0, 1, 0, 0, 0, 0, 1, 0, 1, 0, 0, 1, 0 ]\n",
    "data[4] =  [ 1, 1, 1, 0, 1, 1, 0, 0, 0, 0, 1, 0, 1, 1, 1, 1, 0 ]\n",
    "data[5] =  [ 0, 1, 1, 0, 1, 1, 0, 0, 0, 0, 0, 0, 1, 1, 1, 1, 0 ]\n",
    "data[6] =  [ 0, 1, 0, 1, 1, 1, 0, 0, 0, 0, 0, 0, 0, 1, 1, 1, 0 ]\n",
    "data[7] =  [ 0, 1, 0, 1, 1, 1, 0, 0, 0, 0, 0, 0, 1, 1, 0, 1, 1 ]\n",
    "data[8] =  [ 0, 1, 0, 1, 1, 1, 0, 0, 0, 0, 0, 1, 1, 1, 0, 1, 1 ]\n",
    "data[9] =  [ 1, 1, 1, 0, 0, 0, 1, 1, 1, 0, 0, 0, 0, 0, 0, 0, 0 ]\n",
    "data[10] = [ 0, 1, 0, 1, 1, 0, 0, 0, 0, 0, 0, 0, 1, 1, 0, 0, 1 ]\n",
    "data[11] = [ 0, 1, 0, 1, 1, 1, 0, 0, 0, 0, 1, 0, 1, 1, 0, 0, 1 ]\n",
    "data[12] = [ 0, 1, 1, 0, 0, 0, 1, 1, 1, 0, 0, 0, 1, 0, 0, 0, 0 ]\n",
    "data[13] = [ 1, 1, 1, 0, 0, 1, 1, 1, 0, 1, 1, 0, 0, 0, 1, 0, 0 ]\n",
    "data[14] = [ 0, 1, 0, 1, 1, 1, 0, 0, 0, 0, 0, 1, 0, 0, 0, 0, 1 ]\n",
    "data[15] = [ 0, 1, 0, 1, 1, 1, 0, 0, 0, 1, 0, 1, 1, 0, 0, 0, 1 ]\n",
    "data[16] = [ 1, 0, 1, 0, 0, 1, 0, 1, 0, 1, 1, 1, 0, 0, 0, 1, 0 ]\n",
    "data[17] = [ 1, 0, 1, 0, 0, 0, 1, 1, 1, 0, 0, 0, 1, 0, 1, 1, 0 ]\n",
    "data[18] = [ 0, 1, 0, 1, 1, 1, 0, 0, 0, 0, 0, 0, 1, 1, 0, 0, 1 ]\n",
    "data[19] = [ 1, 1, 1, 0, 0, 0, 1, 1, 1, 0, 1, 0, 0, 0, 1, 1, 0 ]\n",
    "data[20] = [ 1, 1, 1, 0, 0, 0, 1, 1, 0, 0, 1, 0, 0, 0, 1, 1, 0 ]\n",
    "data[21] = [ 1, 1, 1, 0, 0, 0, 1, 1, 1, 0, 0, 0, 0, 0, 1, 1, 0 ]\n",
    "data[22] = [ 1, 0, 1, 0, 0, 0, 1, 1, 1, 0, 0, 0, 0, 0, 1, 1, 0 ]\n",
    "data[23] = [ 1, 1, 1, 0, 0, 0, 1, 1, 1, 0, 0, 0, 0, 0, 1, 1, 0 ]\n",
    "data[24] = [ 1, 0, 1, 0, 0, 0, 1, 1, 1, 0, 0, 0, 0, 0, 1, 0, 0 ]\n",
    "data[25] = [ 1, 0, 1, 0, 0, 0, 1, 1, 1, 1, 0, 0, 0, 0, 1, 1, 0 ]\n",
    "data[26] = [ 1, 0, 1, 0, 0, 0, 1, 1, 1, 0, 1, 0, 0, 0, 1, 1, 0 ]\n",
    "data[27] = [ 1, 1, 1, 0, 0, 0, 1, 1, 1, 0, 1, 0, 0, 0, 1, 1, 0 ]\n",
    "data[28] = [ 1, 0, 0, 1, 1, 0, 1, 1, 1, 0, 0, 1, 1, 1, 0, 1, 1 ]\n",
    "data[29] = [ 1, 1, 1, 0, 0, 0, 1, 1, 1, 0, 1, 0, 0, 0, 1, 1, 0 ]\n",
    "data[30] = [ 0, 1, 0, 1, 1, 1, 0, 0, 0, 0, 0, 1, 1, 1, 0, 0, 1 ]\n",
    "data[31] = [ 1, 1, 1, 0, 0, 0, 1, 1, 1, 0, 1, 0, 0, 0, 1, 0, 0 ]\n",
    "data[32] = [ 1, 1, 1, 0, 0, 0, 1, 1, 1, 1, 0, 0, 1, 0, 1, 1, 0 ]\n",
    "data[33] = [ 0, 1, 0, 1, 1, 1, 0, 0, 0, 0, 0, 1, 1, 1, 0, 1, 1 ]\n",
    "data[34] = [ 1, 1, 1, 0, 0, 0, 1, 1, 1, 0, 0, 0, 0, 0, 1, 1, 0 ]\n",
    "data[35] = [ 0, 1, 0, 1, 1, 1, 0, 0, 0, 0, 0, 1, 1, 1, 0, 0, 1 ]\n",
    "data[36] = [ 1, 0, 0, 1, 1, 1, 0, 0, 0, 1, 0, 1, 0, 1, 0, 1, 1 ]\n",
    "data[37] = [ 1, 1, 0, 1, 1, 1, 0, 0, 0, 0, 0, 0, 1, 1, 0, 1, 1 ]\n",
    "data[38] = [ 0, 1, 0, 1, 1, 1, 0, 0, 0, 1, 0, 1, 1, 1, 0, 0, 1 ]\n",
    "data[39] = [ 1, 0, 1, 0, 0, 0, 1, 1, 1, 1, 1, 0, 1, 0, 1, 1, 0 ]\n",
    "data[40] = [ 1, 1, 1, 0, 0, 0, 1, 1, 1, 0, 0, 0, 0, 0, 0, 0, 0 ]\n",
    "data[41] = [ 1, 1, 1, 0, 0, 0, 1, 1, 1, 0, 0, 0, 0, 0, 1, 0, 0 ]\n",
    "data[42] = [ 1, 0, 1, 0, 0, 0, 1, 1, 1, 0, 0, 0, 0, 0, 0, 1, 0 ]\n",
    "data[43] = [ 1, 0, 1, 0, 0, 0, 1, 1, 1, 0, 0, 0, 0, 0, 1, 1, 0 ]\n",
    "data[44] = [ 1, 1, 1, 0, 0, 0, 1, 1, 1, 0, 1, 0, 0, 0, 0, 0, 0 ]\n",
    "data[45] = [ 1, 1, 1, 0, 0, 0, 1, 1, 0, 0, 1, 0, 0, 0, 1, 0, 0 ]\n",
    "data[46] = [ 1, 1, 1, 0, 0, 0, 1, 1, 1, 0, 0, 0, 0, 0, 0, 1, 0 ]\n",
    "data[47] = [ 1, 0, 1, 0, 0, 0, 1, 1, 0, 0, 0, 0, 0, 0, 0, 0, 0 ]\n",
    "data[48] = [ 1, 1, 1, 0, 0, 0, 1, 1, 0, 0, 0, 0, 0, 1, 0, 1, 0 ]\n",
    "data[49] = [ 0, 0, 0, 1, 1, 1, 0, 0, 0, 0, 0, 1, 1, 1, 0, 0, 1 ]\n",
    "data[50] = [ 1, 1, 1, 0, 0, 0, 1, 1, 1, 0, 1, 0, 0, 0, 1, 1, 0 ]\n",
    "data[51] = [ 0, 1, 0, 1, 1, 1, 0, 0, 0, 0, 0, 1, 1, 1, 0, 1, 1 ]\n",
    "data[52] = [ 1, 1, 1, 0, 0, 0, 1, 1, 1, 0, 0, 0, 0, 0, 0, 0, 0 ]\n",
    "data[53] = [ 1, 1, 0, 1, 1, 1, 0, 0, 0, 1, 0, 1, 1, 1, 0, 0, 1 ]\n",
    "data[54] = [ 1, 1, 1, 0, 0, 1, 0, 1, 0, 0, 1, 1, 0, 1, 0, 0, 0 ]\n",
    "data[55] = [ 0, 1, 0, 1, 1, 1, 0, 0, 0, 1, 1, 1, 1, 1, 0, 0, 1 ]\n",
    "data[56] = [ 0, 1, 0, 1, 1, 1, 0, 0, 0, 1, 1, 1, 1, 1, 0, 1, 1 ]\n",
    "data[57] = [ 0, 1, 0, 1, 1, 1, 0, 0, 0, 1, 0, 1, 1, 1, 0, 1, 1 ]\n",
    "data[58] = [ 0, 1, 0, 1, 1, 1, 0, 0, 0, 1, 0, 1, 1, 1, 0, 1, 1 ]\n",
    "data[59] = [ 0, 1, 0, 1, 1, 1, 0, 0, 0, 1, 0, 1, 1, 1, 0, 0, 1 ]\n",
    "data[60] = [ 1, 1, 1, 0, 0, 0, 1, 1, 1, 1, 0, 0, 0, 0, 1, 0, 0 ]\n",
    "data[61] = [ 0, 1, 0, 1, 1, 1, 0, 0, 0, 0, 0, 1, 1, 1, 0, 0, 1 ]\n",
    "data[62] = [ 1, 1, 1, 0, 0, 0, 1, 1, 1, 0, 0, 0, 0, 0, 0, 0, 0 ]\n",
    "data[63] = [ 1, 1, 1, 0, 0, 0, 1, 1, 1, 0, 1, 0, 0, 0, 0, 1, 0 ]\n",
    "data[64] = [ 1, 1, 1, 0, 0, 0, 1, 1, 1, 0, 1, 0, 0, 0, 0, 1, 0 ]\n",
    "data[65] = [ 1, 1, 0, 1, 1, 1, 1, 0, 0, 0, 0, 1, 1, 1, 0, 1, 1 ]\n",
    "data[66] = [ 0, 1, 0, 1, 1, 1, 1, 0, 0, 0, 1, 1, 1, 1, 0, 1, 1 ]\n",
    "data[67] = [ 0, 1, 0, 1, 1, 1, 0, 0, 0, 1, 0, 1, 1, 1, 0, 0, 1 ]\n",
    "data[68] = [ 1, 0, 1, 0, 0, 0, 1, 1, 1, 0, 0, 0, 1, 0, 1, 1, 0 ]\n",
    "data[69] = [ 1, 1, 1, 0, 0, 0, 1, 1, 1, 0, 0, 0, 0, 0, 1, 1, 0 ]\n",
    "data[70] = [ 1, 0, 1, 0, 0, 0, 1, 1, 1, 0, 0, 0, 1, 0, 1, 0, 0 ]\n",
    "data[71] = [ 1, 1, 1, 1, 0, 0, 1, 1, 1, 1, 1, 0, 0, 1, 0, 1, 1 ]\n",
    "data[72] = [ 1, 1, 1, 0, 0, 0, 1, 1, 1, 0, 1, 0, 0, 0, 1, 0, 0 ]\n",
    "data[73] = [ 1, 0, 1, 1, 1, 0, 1, 0, 1, 1, 0, 0, 1, 1, 0, 1, 1 ]\n",
    "data[74] = [ 1, 0, 1, 0, 0, 1, 1, 1, 1, 1, 1, 0, 0, 1, 1, 1, 0 ]\n",
    "data[75] = [ 0, 1, 1, 1, 1, 1, 0, 0, 0, 1, 1, 0, 1, 1, 0, 0, 0 ]\n",
    "data[76] = [ 0, 1, 1, 0, 1, 1, 0, 0, 0, 1, 1, 1, 1, 1, 0, 0, 0 ]\n",
    "data[77] = [ 0, 1, 1, 1, 1, 1, 0, 1, 1, 1, 1, 1, 1, 1, 0, 1, 0 ]\n",
    "data[78] = [ 1, 1, 1, 0, 1, 1, 0, 0, 0, 1, 1, 0, 1, 1, 0, 1, 0 ]\n",
    "data[79] = [ 0, 0, 0, 1, 1, 0, 0, 0, 0, 1, 0, 1, 1, 1, 0, 0, 1 ]\n",
    "data[80] = [ 1, 0, 1, 0, 0, 1, 1, 1, 1, 1, 0, 1, 0, 1, 0, 0, 0 ]\n",
    "data[81] = [ 1, 0, 1, 0, 0, 0, 1, 1, 0, 1, 1, 1, 0, 1, 0, 1, 0 ]\n",
    "data[82] = [ 0, 0, 0, 1, 1, 1, 0, 0, 0, 1, 0, 1, 1, 1, 0, 1, 1 ]\n",
    "data[83] = [ 0, 0, 0, 1, 1, 1, 0, 0, 0, 0, 0, 1, 1, 1, 0, 0, 1 ]\n",
    "data[84] = [ 0, 0, 0, 1, 1, 1, 0, 0, 0, 1, 0, 1, 1, 1, 0, 0, 1 ]\n",
    "data[85] = [ 0, 0, 1, 0, 1, 1, 0, 0, 0, 1, 1, 1, 1, 1, 0, 1, 0 ]\n",
    "data[86] = [ 0, 0, 0, 1, 1, 1, 0, 0, 0, 1, 0, 1, 1, 1, 0, 0, 1 ]\n",
    "data[87] = [ 0, 0, 0, 1, 1, 1, 0, 0, 0, 0, 0, 1, 1, 1, 0, 0, 1 ]\n",
    "data[88] = [ 0, 1, 1, 0, 1, 1, 1, 0, 1, 1, 1, 0, 1, 1, 0, 1, 0 ]\n",
    "data[89] = [ 0, 0, 0, 1, 1, 1, 0, 0, 0, 1, 0, 0, 1, 1, 0, 0, 1 ]\n",
    "data[90] = [ 1, 0, 1, 0, 0, 0, 1, 1, 1, 1, 0, 0, 0, 0, 1, 1, 0 ]\n",
    "data[91] = [ 1, 0, 1, 0, 0, 0, 1, 1, 1, 1, 1, 0, 0, 0, 1, 1, 0 ]\n",
    "data[92] = [ 1, 1, 1, 0, 0, 0, 1, 1, 0, 1, 1, 0, 0, 0, 1, 1, 0 ]\n",
    "data[93] = [ 1, 0, 1, 0, 0, 0, 1, 0, 1, 1, 1, 0, 0, 0, 1, 1, 0 ]\n",
    "data[94] = [ 1, 0, 1, 0, 1, 1, 0, 0, 0, 0, 0, 0, 0, 0, 0, 1, 0 ]\n",
    "data[95] = [ 1, 0, 1, 0, 1, 1, 0, 0, 0, 0, 1, 0, 0, 0, 1, 1, 0 ]\n",
    "data[96] = [ 0, 0, 0, 0, 1, 1, 0, 0, 0, 0, 1, 1, 1, 1, 0, 1, 0 ]\n",
    "data[97] = [ 1, 0, 0, 0, 1, 1, 1, 0, 0, 1, 1, 0, 0, 1, 0, 1, 0 ]\n",
    "data[98] = [ 1, 1, 1, 0, 0, 1, 1, 1, 1, 1, 0, 0, 0, 0, 0, 1, 0 ]\n",
    "data[99] = [ 0, 0, 0, 1, 1, 1, 0, 0, 0, 1, 0, 1, 1, 1, 0, 0, 1 ]"
   ]
  },
  {
   "cell_type": "markdown",
   "metadata": {},
   "source": [
    "Now, complete your learning algorithm above, then run it in the cell below!\n",
    "\n",
    "> It is *unclear* how long to train for to you, little caterpillar! You could iterate just once through the training data, or iterate multiple times, stopping after a fixed number of iterations, or when some desired accuracy has been reached."
   ]
  },
  {
   "cell_type": "code",
   "execution_count": null,
   "metadata": {},
   "outputs": [],
   "source": []
  },
  {
   "cell_type": "markdown",
   "metadata": {},
   "source": [
    "Here, you print your model weights. This is ***your model***! A low-dimensional representation of your dataset, which allows you to predict the label based solely on the independent variables!"
   ]
  },
  {
   "cell_type": "code",
   "execution_count": 5,
   "metadata": {},
   "outputs": [
    {
     "name": "stdout",
     "output_type": "stream",
     "text": [
      "Final model weights are:\n"
     ]
    },
    {
     "ename": "NameError",
     "evalue": "name 'weights' is not defined",
     "output_type": "error",
     "traceback": [
      "\u001b[1;31m---------------------------------------------------------------------------\u001b[0m",
      "\u001b[1;31mNameError\u001b[0m                                 Traceback (most recent call last)",
      "\u001b[1;32m<ipython-input-5-dcd35f464c6c>\u001b[0m in \u001b[0;36m<module>\u001b[1;34m\u001b[0m\n\u001b[0;32m      1\u001b[0m \u001b[0mprint\u001b[0m\u001b[1;33m(\u001b[0m\u001b[1;34m\"Final model weights are:\"\u001b[0m\u001b[1;33m)\u001b[0m\u001b[1;33m\u001b[0m\u001b[1;33m\u001b[0m\u001b[0m\n\u001b[1;32m----> 2\u001b[1;33m \u001b[0mShowVector\u001b[0m\u001b[1;33m(\u001b[0m\u001b[0mweights\u001b[0m\u001b[1;33m,\u001b[0m \u001b[1;36m4\u001b[0m\u001b[1;33m,\u001b[0m \u001b[1;36m8\u001b[0m\u001b[1;33m,\u001b[0m \u001b[1;32mTrue\u001b[0m\u001b[1;33m)\u001b[0m\u001b[1;33m\u001b[0m\u001b[1;33m\u001b[0m\u001b[0m\n\u001b[0m",
      "\u001b[1;31mNameError\u001b[0m: name 'weights' is not defined"
     ]
    }
   ],
   "source": [
    "print(\"Final model weights are:\")\n",
    "ShowVector(weights, 4, 8, True)"
   ]
  },
  {
   "cell_type": "markdown",
   "metadata": {},
   "source": [
    "And here you print out your training and testing accuracy:"
   ]
  },
  {
   "cell_type": "code",
   "execution_count": 96,
   "metadata": {},
   "outputs": [
    {
     "name": "stdout",
     "output_type": "stream",
     "text": [
      "Prediction accuracy on training data = 0.92\n",
      "Prediction accuracy on test data = 0.81\n"
     ]
    }
   ],
   "source": [
    "trainAcc = w.Accuracy(trainData)\n",
    "testAcc = w.Accuracy(testData)\n",
    "\n",
    "print(\"Prediction accuracy on training data = \" + str(trainAcc))\n",
    "print(\"Prediction accuracy on test data = \" + str(testAcc))"
   ]
  },
  {
   "cell_type": "markdown",
   "metadata": {},
   "source": [
    "You should shoot for a training data accuracy above 90%, and a test data accuracy above 80%!"
   ]
  },
  {
   "cell_type": "markdown",
   "metadata": {},
   "source": [
    "Here, for kicks, based on your final brain weights, you decide whether to go forward or backward based on the two following new observations:\n",
    "- All feet touch ground\n",
    "- No foot touches ground"
   ]
  },
  {
   "cell_type": "code",
   "execution_count": 50,
   "metadata": {},
   "outputs": [
    {
     "name": "stdout",
     "output_type": "stream",
     "text": [
      "Predicting move when all our feet touch ground: forward!\n",
      "Predicting move when no feet touch ground: move backawrd!\n"
     ]
    }
   ],
   "source": [
    "print(\"Predicting move when all our feet touch ground: \", end='')\n",
    "all_down = [ 1, 1, 1, 1, 1, 1, 1, 1, 1, 1, 1, 1, 1, 1, 1, 1 ]\n",
    "predicted = w.ComputeY(all_down)\n",
    "if predicted == 0:\n",
    "    print(\"move backward!\")\n",
    "else:\n",
    "    print(\"forward!\")\n",
    "\n",
    "print(\"Predicting move when no feet touch ground: \", end='')\n",
    "all_up = [ 0, 0, 0, 0, 0, 0, 0, 0, 0, 0, 0, 0, 0, 0, 0, 0 ]\n",
    "predicted2 = w.ComputeY(all_up)\n",
    "if predicted2 == 0:\n",
    "    print(\"move backward!\")\n",
    "else:\n",
    "    print(\"forward!\")\n"
   ]
  },
  {
   "cell_type": "markdown",
   "metadata": {},
   "source": [
    "I'll give you *half an hour* to work on this! Let's see who comes up with the *smartest* brain! Good luck!\n",
    "\n",
    "<br />\n",
    "<center>\n",
    "<img src =ipynb.images/white-rabbit.gif width = 300 />\n",
    "</center>"
   ]
  }
 ],
 "metadata": {
  "kernelspec": {
   "display_name": "Python 3",
   "language": "python",
   "name": "python3"
  },
  "language_info": {
   "codemirror_mode": {
    "name": "ipython",
    "version": 3
   },
   "file_extension": ".py",
   "mimetype": "text/x-python",
   "name": "python",
   "nbconvert_exporter": "python",
   "pygments_lexer": "ipython3",
   "version": "3.7.4"
  }
 },
 "nbformat": 4,
 "nbformat_minor": 1
}
